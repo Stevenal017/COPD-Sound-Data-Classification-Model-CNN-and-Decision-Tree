{
  "cells": [
    {
      "cell_type": "code",
      "execution_count": null,
      "metadata": {
        "colab": {
          "base_uri": "https://localhost:8080/"
        },
        "id": "VMG0sjRjSnNm",
        "outputId": "9ba66669-3976-4e44-c171-72803324f1c1"
      },
      "outputs": [
        {
          "output_type": "stream",
          "name": "stdout",
          "text": [
            "Mounted at /content/drive\n"
          ]
        }
      ],
      "source": [
        "from google.colab import drive\n",
        "drive.mount('/content/drive')"
      ]
    },
    {
      "cell_type": "code",
      "execution_count": null,
      "metadata": {
        "id": "1f0FMveJWZAo"
      },
      "outputs": [],
      "source": [
        "import pandas as pd\n",
        "import numpy as np\n",
        "import matplotlib.pyplot as plt\n",
        "import seaborn as sns\n",
        "import tensorflow as tf\n",
        "\n",
        "import librosa\n",
        "import librosa.display\n",
        "import IPython.display as ipd\n",
        "\n",
        "from sklearn.model_selection import train_test_split\n",
        "from sklearn.preprocessing import LabelEncoder\n",
        "\n",
        "from tensorflow.keras.utils import to_categorical\n",
        "import keras\n",
        "\n",
        "import logging, os\n",
        "\n",
        "from sklearn.metrics import classification_report\n",
        "from sklearn.metrics import confusion_matrix, ConfusionMatrixDisplay\n",
        "from sklearn.metrics import plot_confusion_matrix"
      ]
    },
    {
      "cell_type": "markdown",
      "metadata": {
        "id": "xvEyRC9JSbUe"
      },
      "source": [
        "# File Name Preparation"
      ]
    },
    {
      "cell_type": "code",
      "execution_count": null,
      "metadata": {
        "id": "ivA7cd0Phutg"
      },
      "outputs": [],
      "source": [
        "import os\n",
        "os.chdir(\"/content/drive/MyDrive/Tugas Akhir/DATA + DESCRIPTION/Sound Database\")"
      ]
    },
    {
      "cell_type": "code",
      "execution_count": null,
      "metadata": {
        "colab": {
          "base_uri": "https://localhost:8080/"
        },
        "id": "Sc46twlUSglm",
        "outputId": "ccebf146-964a-422c-ff43-d2e95e653794"
      },
      "outputs": [
        {
          "output_type": "stream",
          "name": "stdout",
          "text": [
            "Total audio file :547\n",
            "Total txt file: 547\n"
          ]
        }
      ],
      "source": [
        "file_list = os.listdir('/content/drive/MyDrive/Tugas Akhir/DATA + DESCRIPTION/Sound Database')\n",
        "wav_list = sorted([wav for wav in file_list if \".wav\" in wav])\n",
        "txt_list = sorted([txt for txt in file_list if \".txt\" in txt])\n",
        "print(\"Total audio file :{}\\nTotal txt file: {}\".format(len(wav_list), len(txt_list)))"
      ]
    },
    {
      "cell_type": "markdown",
      "metadata": {
        "id": "Qv3uWzUuJRMT"
      },
      "source": [
        "## Text File"
      ]
    },
    {
      "cell_type": "code",
      "execution_count": null,
      "metadata": {
        "id": "KqpkuUddJQZt"
      },
      "outputs": [],
      "source": [
        "df_txt = pd.DataFrame()\n",
        "for txt_file in txt_list :\n",
        "  temp = pd.read_csv(txt_file,sep='\\t',names=['start','end','crackles','weezels'])\n",
        "  temp[\"file_name\"] = txt_file.split(\".\")[0]\n",
        "  df_txt = pd.concat((df_txt, temp))"
      ]
    },
    {
      "cell_type": "code",
      "execution_count": null,
      "metadata": {
        "colab": {
          "base_uri": "https://localhost:8080/"
        },
        "id": "iYiGjbvNMVyv",
        "outputId": "fd23ef00-5d01-437a-9c83-c006081f8245"
      },
      "outputs": [
        {
          "output_type": "execute_result",
          "data": {
            "text/plain": [
              "   start    end  crackles  weezels               file_name\n",
              "0  0.036  0.579         0        0  101_1b1_Al_sc_Meditron\n",
              "1  0.579  2.450         0        0  101_1b1_Al_sc_Meditron\n",
              "2  2.450  3.893         0        0  101_1b1_Al_sc_Meditron"
            ],
            "text/html": [
              "\n",
              "  <div id=\"df-ada705b0-1b41-4ad3-98f7-c4b67a4a6fda\">\n",
              "    <div class=\"colab-df-container\">\n",
              "      <div>\n",
              "<style scoped>\n",
              "    .dataframe tbody tr th:only-of-type {\n",
              "        vertical-align: middle;\n",
              "    }\n",
              "\n",
              "    .dataframe tbody tr th {\n",
              "        vertical-align: top;\n",
              "    }\n",
              "\n",
              "    .dataframe thead th {\n",
              "        text-align: right;\n",
              "    }\n",
              "</style>\n",
              "<table border=\"1\" class=\"dataframe\">\n",
              "  <thead>\n",
              "    <tr style=\"text-align: right;\">\n",
              "      <th></th>\n",
              "      <th>start</th>\n",
              "      <th>end</th>\n",
              "      <th>crackles</th>\n",
              "      <th>weezels</th>\n",
              "      <th>file_name</th>\n",
              "    </tr>\n",
              "  </thead>\n",
              "  <tbody>\n",
              "    <tr>\n",
              "      <th>0</th>\n",
              "      <td>0.036</td>\n",
              "      <td>0.579</td>\n",
              "      <td>0</td>\n",
              "      <td>0</td>\n",
              "      <td>101_1b1_Al_sc_Meditron</td>\n",
              "    </tr>\n",
              "    <tr>\n",
              "      <th>1</th>\n",
              "      <td>0.579</td>\n",
              "      <td>2.450</td>\n",
              "      <td>0</td>\n",
              "      <td>0</td>\n",
              "      <td>101_1b1_Al_sc_Meditron</td>\n",
              "    </tr>\n",
              "    <tr>\n",
              "      <th>2</th>\n",
              "      <td>2.450</td>\n",
              "      <td>3.893</td>\n",
              "      <td>0</td>\n",
              "      <td>0</td>\n",
              "      <td>101_1b1_Al_sc_Meditron</td>\n",
              "    </tr>\n",
              "  </tbody>\n",
              "</table>\n",
              "</div>\n",
              "      <button class=\"colab-df-convert\" onclick=\"convertToInteractive('df-ada705b0-1b41-4ad3-98f7-c4b67a4a6fda')\"\n",
              "              title=\"Convert this dataframe to an interactive table.\"\n",
              "              style=\"display:none;\">\n",
              "        \n",
              "  <svg xmlns=\"http://www.w3.org/2000/svg\" height=\"24px\"viewBox=\"0 0 24 24\"\n",
              "       width=\"24px\">\n",
              "    <path d=\"M0 0h24v24H0V0z\" fill=\"none\"/>\n",
              "    <path d=\"M18.56 5.44l.94 2.06.94-2.06 2.06-.94-2.06-.94-.94-2.06-.94 2.06-2.06.94zm-11 1L8.5 8.5l.94-2.06 2.06-.94-2.06-.94L8.5 2.5l-.94 2.06-2.06.94zm10 10l.94 2.06.94-2.06 2.06-.94-2.06-.94-.94-2.06-.94 2.06-2.06.94z\"/><path d=\"M17.41 7.96l-1.37-1.37c-.4-.4-.92-.59-1.43-.59-.52 0-1.04.2-1.43.59L10.3 9.45l-7.72 7.72c-.78.78-.78 2.05 0 2.83L4 21.41c.39.39.9.59 1.41.59.51 0 1.02-.2 1.41-.59l7.78-7.78 2.81-2.81c.8-.78.8-2.07 0-2.86zM5.41 20L4 18.59l7.72-7.72 1.47 1.35L5.41 20z\"/>\n",
              "  </svg>\n",
              "      </button>\n",
              "      \n",
              "  <style>\n",
              "    .colab-df-container {\n",
              "      display:flex;\n",
              "      flex-wrap:wrap;\n",
              "      gap: 12px;\n",
              "    }\n",
              "\n",
              "    .colab-df-convert {\n",
              "      background-color: #E8F0FE;\n",
              "      border: none;\n",
              "      border-radius: 50%;\n",
              "      cursor: pointer;\n",
              "      display: none;\n",
              "      fill: #1967D2;\n",
              "      height: 32px;\n",
              "      padding: 0 0 0 0;\n",
              "      width: 32px;\n",
              "    }\n",
              "\n",
              "    .colab-df-convert:hover {\n",
              "      background-color: #E2EBFA;\n",
              "      box-shadow: 0px 1px 2px rgba(60, 64, 67, 0.3), 0px 1px 3px 1px rgba(60, 64, 67, 0.15);\n",
              "      fill: #174EA6;\n",
              "    }\n",
              "\n",
              "    [theme=dark] .colab-df-convert {\n",
              "      background-color: #3B4455;\n",
              "      fill: #D2E3FC;\n",
              "    }\n",
              "\n",
              "    [theme=dark] .colab-df-convert:hover {\n",
              "      background-color: #434B5C;\n",
              "      box-shadow: 0px 1px 3px 1px rgba(0, 0, 0, 0.15);\n",
              "      filter: drop-shadow(0px 1px 2px rgba(0, 0, 0, 0.3));\n",
              "      fill: #FFFFFF;\n",
              "    }\n",
              "  </style>\n",
              "\n",
              "      <script>\n",
              "        const buttonEl =\n",
              "          document.querySelector('#df-ada705b0-1b41-4ad3-98f7-c4b67a4a6fda button.colab-df-convert');\n",
              "        buttonEl.style.display =\n",
              "          google.colab.kernel.accessAllowed ? 'block' : 'none';\n",
              "\n",
              "        async function convertToInteractive(key) {\n",
              "          const element = document.querySelector('#df-ada705b0-1b41-4ad3-98f7-c4b67a4a6fda');\n",
              "          const dataTable =\n",
              "            await google.colab.kernel.invokeFunction('convertToInteractive',\n",
              "                                                     [key], {});\n",
              "          if (!dataTable) return;\n",
              "\n",
              "          const docLinkHtml = 'Like what you see? Visit the ' +\n",
              "            '<a target=\"_blank\" href=https://colab.research.google.com/notebooks/data_table.ipynb>data table notebook</a>'\n",
              "            + ' to learn more about interactive tables.';\n",
              "          element.innerHTML = '';\n",
              "          dataTable['output_type'] = 'display_data';\n",
              "          await google.colab.output.renderOutput(dataTable, element);\n",
              "          const docLink = document.createElement('div');\n",
              "          docLink.innerHTML = docLinkHtml;\n",
              "          element.appendChild(docLink);\n",
              "        }\n",
              "      </script>\n",
              "    </div>\n",
              "  </div>\n",
              "  "
            ]
          },
          "metadata": {},
          "execution_count": 7
        }
      ],
      "source": [
        "df_txt.head(3)"
      ]
    },
    {
      "cell_type": "code",
      "execution_count": null,
      "metadata": {
        "colab": {
          "base_uri": "https://localhost:8080/"
        },
        "id": "xm5VF5H3K2Q9",
        "outputId": "8a203436-3736-41e1-971e-c77ca44150eb"
      },
      "outputs": [
        {
          "output_type": "stream",
          "name": "stdout",
          "text": [
            "<class 'pandas.core.frame.DataFrame'>\n",
            "Int64Index: 4199 entries, 0 to 4\n",
            "Data columns (total 5 columns):\n",
            " #   Column     Non-Null Count  Dtype  \n",
            "---  ------     --------------  -----  \n",
            " 0   start      4199 non-null   float64\n",
            " 1   end        4199 non-null   float64\n",
            " 2   crackles   4199 non-null   int64  \n",
            " 3   weezels    4199 non-null   int64  \n",
            " 4   file_name  4199 non-null   object \n",
            "dtypes: float64(2), int64(2), object(1)\n",
            "memory usage: 196.8+ KB\n"
          ]
        }
      ],
      "source": [
        "df_txt.info()"
      ]
    },
    {
      "cell_type": "markdown",
      "metadata": {
        "id": "6nvMwi-uCSIx"
      },
      "source": [
        "# Patient Diagnosis"
      ]
    },
    {
      "cell_type": "code",
      "execution_count": null,
      "metadata": {
        "colab": {
          "base_uri": "https://localhost:8080/"
        },
        "id": "Df72QZiwcJHP",
        "outputId": "e668add0-2fb5-4ad1-d8e9-ceee3cd480b9"
      },
      "outputs": [
        {
          "output_type": "execute_result",
          "data": {
            "text/plain": [
              "          diag_0   diag_1\n",
              "patient                  \n",
              "101         URTI     URTI\n",
              "102      Healthy  Healthy\n",
              "103       Asthma   Asthma\n",
              "104         COPD     COPD\n",
              "105         URTI     URTI"
            ],
            "text/html": [
              "\n",
              "  <div id=\"df-a862f95e-287e-40ec-819d-f06e8c007a54\">\n",
              "    <div class=\"colab-df-container\">\n",
              "      <div>\n",
              "<style scoped>\n",
              "    .dataframe tbody tr th:only-of-type {\n",
              "        vertical-align: middle;\n",
              "    }\n",
              "\n",
              "    .dataframe tbody tr th {\n",
              "        vertical-align: top;\n",
              "    }\n",
              "\n",
              "    .dataframe thead th {\n",
              "        text-align: right;\n",
              "    }\n",
              "</style>\n",
              "<table border=\"1\" class=\"dataframe\">\n",
              "  <thead>\n",
              "    <tr style=\"text-align: right;\">\n",
              "      <th></th>\n",
              "      <th>diag_0</th>\n",
              "      <th>diag_1</th>\n",
              "    </tr>\n",
              "    <tr>\n",
              "      <th>patient</th>\n",
              "      <th></th>\n",
              "      <th></th>\n",
              "    </tr>\n",
              "  </thead>\n",
              "  <tbody>\n",
              "    <tr>\n",
              "      <th>101</th>\n",
              "      <td>URTI</td>\n",
              "      <td>URTI</td>\n",
              "    </tr>\n",
              "    <tr>\n",
              "      <th>102</th>\n",
              "      <td>Healthy</td>\n",
              "      <td>Healthy</td>\n",
              "    </tr>\n",
              "    <tr>\n",
              "      <th>103</th>\n",
              "      <td>Asthma</td>\n",
              "      <td>Asthma</td>\n",
              "    </tr>\n",
              "    <tr>\n",
              "      <th>104</th>\n",
              "      <td>COPD</td>\n",
              "      <td>COPD</td>\n",
              "    </tr>\n",
              "    <tr>\n",
              "      <th>105</th>\n",
              "      <td>URTI</td>\n",
              "      <td>URTI</td>\n",
              "    </tr>\n",
              "  </tbody>\n",
              "</table>\n",
              "</div>\n",
              "      <button class=\"colab-df-convert\" onclick=\"convertToInteractive('df-a862f95e-287e-40ec-819d-f06e8c007a54')\"\n",
              "              title=\"Convert this dataframe to an interactive table.\"\n",
              "              style=\"display:none;\">\n",
              "        \n",
              "  <svg xmlns=\"http://www.w3.org/2000/svg\" height=\"24px\"viewBox=\"0 0 24 24\"\n",
              "       width=\"24px\">\n",
              "    <path d=\"M0 0h24v24H0V0z\" fill=\"none\"/>\n",
              "    <path d=\"M18.56 5.44l.94 2.06.94-2.06 2.06-.94-2.06-.94-.94-2.06-.94 2.06-2.06.94zm-11 1L8.5 8.5l.94-2.06 2.06-.94-2.06-.94L8.5 2.5l-.94 2.06-2.06.94zm10 10l.94 2.06.94-2.06 2.06-.94-2.06-.94-.94-2.06-.94 2.06-2.06.94z\"/><path d=\"M17.41 7.96l-1.37-1.37c-.4-.4-.92-.59-1.43-.59-.52 0-1.04.2-1.43.59L10.3 9.45l-7.72 7.72c-.78.78-.78 2.05 0 2.83L4 21.41c.39.39.9.59 1.41.59.51 0 1.02-.2 1.41-.59l7.78-7.78 2.81-2.81c.8-.78.8-2.07 0-2.86zM5.41 20L4 18.59l7.72-7.72 1.47 1.35L5.41 20z\"/>\n",
              "  </svg>\n",
              "      </button>\n",
              "      \n",
              "  <style>\n",
              "    .colab-df-container {\n",
              "      display:flex;\n",
              "      flex-wrap:wrap;\n",
              "      gap: 12px;\n",
              "    }\n",
              "\n",
              "    .colab-df-convert {\n",
              "      background-color: #E8F0FE;\n",
              "      border: none;\n",
              "      border-radius: 50%;\n",
              "      cursor: pointer;\n",
              "      display: none;\n",
              "      fill: #1967D2;\n",
              "      height: 32px;\n",
              "      padding: 0 0 0 0;\n",
              "      width: 32px;\n",
              "    }\n",
              "\n",
              "    .colab-df-convert:hover {\n",
              "      background-color: #E2EBFA;\n",
              "      box-shadow: 0px 1px 2px rgba(60, 64, 67, 0.3), 0px 1px 3px 1px rgba(60, 64, 67, 0.15);\n",
              "      fill: #174EA6;\n",
              "    }\n",
              "\n",
              "    [theme=dark] .colab-df-convert {\n",
              "      background-color: #3B4455;\n",
              "      fill: #D2E3FC;\n",
              "    }\n",
              "\n",
              "    [theme=dark] .colab-df-convert:hover {\n",
              "      background-color: #434B5C;\n",
              "      box-shadow: 0px 1px 3px 1px rgba(0, 0, 0, 0.15);\n",
              "      filter: drop-shadow(0px 1px 2px rgba(0, 0, 0, 0.3));\n",
              "      fill: #FFFFFF;\n",
              "    }\n",
              "  </style>\n",
              "\n",
              "      <script>\n",
              "        const buttonEl =\n",
              "          document.querySelector('#df-a862f95e-287e-40ec-819d-f06e8c007a54 button.colab-df-convert');\n",
              "        buttonEl.style.display =\n",
              "          google.colab.kernel.accessAllowed ? 'block' : 'none';\n",
              "\n",
              "        async function convertToInteractive(key) {\n",
              "          const element = document.querySelector('#df-a862f95e-287e-40ec-819d-f06e8c007a54');\n",
              "          const dataTable =\n",
              "            await google.colab.kernel.invokeFunction('convertToInteractive',\n",
              "                                                     [key], {});\n",
              "          if (!dataTable) return;\n",
              "\n",
              "          const docLinkHtml = 'Like what you see? Visit the ' +\n",
              "            '<a target=\"_blank\" href=https://colab.research.google.com/notebooks/data_table.ipynb>data table notebook</a>'\n",
              "            + ' to learn more about interactive tables.';\n",
              "          element.innerHTML = '';\n",
              "          dataTable['output_type'] = 'display_data';\n",
              "          await google.colab.output.renderOutput(dataTable, element);\n",
              "          const docLink = document.createElement('div');\n",
              "          docLink.innerHTML = docLinkHtml;\n",
              "          element.appendChild(docLink);\n",
              "        }\n",
              "      </script>\n",
              "    </div>\n",
              "  </div>\n",
              "  "
            ]
          },
          "metadata": {},
          "execution_count": 9
        }
      ],
      "source": [
        "'''\n",
        "Patient Diagnosis\n",
        "'''\n",
        "diag = pd.read_csv(\"/content/drive/MyDrive/Tugas Akhir/DATA + DESCRIPTION/patient_diagnosis.csv\", header = None).rename(columns = {0 : \"patient\", 1 : \"diag_0\"})\n",
        "diag[\"diag_1\"] = diag[\"diag_0\"].replace({'Pneumonia': \"LRTI\", 'Bronchiolitis' : \"LRTI\"}) #'Bronchiectasis' : \"LRTI\"\n",
        "diag[\"patient\"] = diag[\"patient\"].astype(int)\n",
        "diag = diag.set_index(\"patient\")\n",
        "diag.head()"
      ]
    },
    {
      "cell_type": "code",
      "execution_count": null,
      "metadata": {
        "colab": {
          "base_uri": "https://localhost:8080/"
        },
        "id": "VgBtf_pAJopc",
        "outputId": "c9c46284-1a6a-4974-87f7-0448409cf6d9"
      },
      "outputs": [
        {
          "output_type": "execute_result",
          "data": {
            "text/plain": [
              "numpy.int64"
            ]
          },
          "metadata": {},
          "execution_count": 10
        }
      ],
      "source": [
        "type(diag.index[0])"
      ]
    },
    {
      "cell_type": "code",
      "execution_count": null,
      "metadata": {
        "colab": {
          "base_uri": "https://localhost:8080/"
        },
        "id": "-26SBpHCy1QJ",
        "outputId": "667b49d4-55a6-485e-fce0-0d3ffa8a77e3"
      },
      "outputs": [
        {
          "output_type": "execute_result",
          "data": {
            "text/plain": [
              "COPD              64\n",
              "Healthy           26\n",
              "URTI              14\n",
              "Bronchiectasis     7\n",
              "Pneumonia          6\n",
              "Bronchiolitis      6\n",
              "LRTI               2\n",
              "Asthma             1\n",
              "Name: diag_0, dtype: int64"
            ]
          },
          "metadata": {},
          "execution_count": 11
        }
      ],
      "source": [
        "diag[\"diag_0\"].value_counts()"
      ]
    },
    {
      "cell_type": "code",
      "execution_count": null,
      "metadata": {
        "colab": {
          "base_uri": "https://localhost:8080/"
        },
        "id": "avPsmCbizM_c",
        "outputId": "d58d2bf6-dc62-4e6b-ee9a-a51cf8ad0747"
      },
      "outputs": [
        {
          "output_type": "execute_result",
          "data": {
            "text/plain": [
              "COPD              64\n",
              "Healthy           26\n",
              "URTI              14\n",
              "LRTI              14\n",
              "Bronchiectasis     7\n",
              "Asthma             1\n",
              "Name: diag_1, dtype: int64"
            ]
          },
          "metadata": {},
          "execution_count": 12
        }
      ],
      "source": [
        "diag[\"diag_1\"].value_counts()"
      ]
    },
    {
      "cell_type": "markdown",
      "metadata": {
        "id": "6oEQZD6NC1Vo"
      },
      "source": [
        "# DataFrame"
      ]
    },
    {
      "cell_type": "code",
      "execution_count": null,
      "metadata": {
        "colab": {
          "base_uri": "https://localhost:8080/"
        },
        "id": "_GLI_qmFLfsh",
        "outputId": "6c19a8a1-b73d-4328-9b9f-8d3b47854a5b"
      },
      "outputs": [
        {
          "output_type": "execute_result",
          "data": {
            "text/plain": [
              "   patient_id rec_index chest_loc acq_mode rec_equip  start    end  crackles  \\\n",
              "0         101       1b1        Al       sc  Meditron  0.036  0.579         0   \n",
              "1         101       1b1        Al       sc  Meditron  0.579  2.450         0   \n",
              "2         101       1b1        Al       sc  Meditron  2.450  3.893         0   \n",
              "3         101       1b1        Al       sc  Meditron  3.893  5.793         0   \n",
              "4         101       1b1        Al       sc  Meditron  5.793  7.521         0   \n",
              "\n",
              "   weezels               file_name  diag  \n",
              "0        0  101_1b1_Al_sc_Meditron  URTI  \n",
              "1        0  101_1b1_Al_sc_Meditron  URTI  \n",
              "2        0  101_1b1_Al_sc_Meditron  URTI  \n",
              "3        0  101_1b1_Al_sc_Meditron  URTI  \n",
              "4        0  101_1b1_Al_sc_Meditron  URTI  "
            ],
            "text/html": [
              "\n",
              "  <div id=\"df-245582d8-330f-4427-b57c-12eb36d77ad8\">\n",
              "    <div class=\"colab-df-container\">\n",
              "      <div>\n",
              "<style scoped>\n",
              "    .dataframe tbody tr th:only-of-type {\n",
              "        vertical-align: middle;\n",
              "    }\n",
              "\n",
              "    .dataframe tbody tr th {\n",
              "        vertical-align: top;\n",
              "    }\n",
              "\n",
              "    .dataframe thead th {\n",
              "        text-align: right;\n",
              "    }\n",
              "</style>\n",
              "<table border=\"1\" class=\"dataframe\">\n",
              "  <thead>\n",
              "    <tr style=\"text-align: right;\">\n",
              "      <th></th>\n",
              "      <th>patient_id</th>\n",
              "      <th>rec_index</th>\n",
              "      <th>chest_loc</th>\n",
              "      <th>acq_mode</th>\n",
              "      <th>rec_equip</th>\n",
              "      <th>start</th>\n",
              "      <th>end</th>\n",
              "      <th>crackles</th>\n",
              "      <th>weezels</th>\n",
              "      <th>file_name</th>\n",
              "      <th>diag</th>\n",
              "    </tr>\n",
              "  </thead>\n",
              "  <tbody>\n",
              "    <tr>\n",
              "      <th>0</th>\n",
              "      <td>101</td>\n",
              "      <td>1b1</td>\n",
              "      <td>Al</td>\n",
              "      <td>sc</td>\n",
              "      <td>Meditron</td>\n",
              "      <td>0.036</td>\n",
              "      <td>0.579</td>\n",
              "      <td>0</td>\n",
              "      <td>0</td>\n",
              "      <td>101_1b1_Al_sc_Meditron</td>\n",
              "      <td>URTI</td>\n",
              "    </tr>\n",
              "    <tr>\n",
              "      <th>1</th>\n",
              "      <td>101</td>\n",
              "      <td>1b1</td>\n",
              "      <td>Al</td>\n",
              "      <td>sc</td>\n",
              "      <td>Meditron</td>\n",
              "      <td>0.579</td>\n",
              "      <td>2.450</td>\n",
              "      <td>0</td>\n",
              "      <td>0</td>\n",
              "      <td>101_1b1_Al_sc_Meditron</td>\n",
              "      <td>URTI</td>\n",
              "    </tr>\n",
              "    <tr>\n",
              "      <th>2</th>\n",
              "      <td>101</td>\n",
              "      <td>1b1</td>\n",
              "      <td>Al</td>\n",
              "      <td>sc</td>\n",
              "      <td>Meditron</td>\n",
              "      <td>2.450</td>\n",
              "      <td>3.893</td>\n",
              "      <td>0</td>\n",
              "      <td>0</td>\n",
              "      <td>101_1b1_Al_sc_Meditron</td>\n",
              "      <td>URTI</td>\n",
              "    </tr>\n",
              "    <tr>\n",
              "      <th>3</th>\n",
              "      <td>101</td>\n",
              "      <td>1b1</td>\n",
              "      <td>Al</td>\n",
              "      <td>sc</td>\n",
              "      <td>Meditron</td>\n",
              "      <td>3.893</td>\n",
              "      <td>5.793</td>\n",
              "      <td>0</td>\n",
              "      <td>0</td>\n",
              "      <td>101_1b1_Al_sc_Meditron</td>\n",
              "      <td>URTI</td>\n",
              "    </tr>\n",
              "    <tr>\n",
              "      <th>4</th>\n",
              "      <td>101</td>\n",
              "      <td>1b1</td>\n",
              "      <td>Al</td>\n",
              "      <td>sc</td>\n",
              "      <td>Meditron</td>\n",
              "      <td>5.793</td>\n",
              "      <td>7.521</td>\n",
              "      <td>0</td>\n",
              "      <td>0</td>\n",
              "      <td>101_1b1_Al_sc_Meditron</td>\n",
              "      <td>URTI</td>\n",
              "    </tr>\n",
              "  </tbody>\n",
              "</table>\n",
              "</div>\n",
              "      <button class=\"colab-df-convert\" onclick=\"convertToInteractive('df-245582d8-330f-4427-b57c-12eb36d77ad8')\"\n",
              "              title=\"Convert this dataframe to an interactive table.\"\n",
              "              style=\"display:none;\">\n",
              "        \n",
              "  <svg xmlns=\"http://www.w3.org/2000/svg\" height=\"24px\"viewBox=\"0 0 24 24\"\n",
              "       width=\"24px\">\n",
              "    <path d=\"M0 0h24v24H0V0z\" fill=\"none\"/>\n",
              "    <path d=\"M18.56 5.44l.94 2.06.94-2.06 2.06-.94-2.06-.94-.94-2.06-.94 2.06-2.06.94zm-11 1L8.5 8.5l.94-2.06 2.06-.94-2.06-.94L8.5 2.5l-.94 2.06-2.06.94zm10 10l.94 2.06.94-2.06 2.06-.94-2.06-.94-.94-2.06-.94 2.06-2.06.94z\"/><path d=\"M17.41 7.96l-1.37-1.37c-.4-.4-.92-.59-1.43-.59-.52 0-1.04.2-1.43.59L10.3 9.45l-7.72 7.72c-.78.78-.78 2.05 0 2.83L4 21.41c.39.39.9.59 1.41.59.51 0 1.02-.2 1.41-.59l7.78-7.78 2.81-2.81c.8-.78.8-2.07 0-2.86zM5.41 20L4 18.59l7.72-7.72 1.47 1.35L5.41 20z\"/>\n",
              "  </svg>\n",
              "      </button>\n",
              "      \n",
              "  <style>\n",
              "    .colab-df-container {\n",
              "      display:flex;\n",
              "      flex-wrap:wrap;\n",
              "      gap: 12px;\n",
              "    }\n",
              "\n",
              "    .colab-df-convert {\n",
              "      background-color: #E8F0FE;\n",
              "      border: none;\n",
              "      border-radius: 50%;\n",
              "      cursor: pointer;\n",
              "      display: none;\n",
              "      fill: #1967D2;\n",
              "      height: 32px;\n",
              "      padding: 0 0 0 0;\n",
              "      width: 32px;\n",
              "    }\n",
              "\n",
              "    .colab-df-convert:hover {\n",
              "      background-color: #E2EBFA;\n",
              "      box-shadow: 0px 1px 2px rgba(60, 64, 67, 0.3), 0px 1px 3px 1px rgba(60, 64, 67, 0.15);\n",
              "      fill: #174EA6;\n",
              "    }\n",
              "\n",
              "    [theme=dark] .colab-df-convert {\n",
              "      background-color: #3B4455;\n",
              "      fill: #D2E3FC;\n",
              "    }\n",
              "\n",
              "    [theme=dark] .colab-df-convert:hover {\n",
              "      background-color: #434B5C;\n",
              "      box-shadow: 0px 1px 3px 1px rgba(0, 0, 0, 0.15);\n",
              "      filter: drop-shadow(0px 1px 2px rgba(0, 0, 0, 0.3));\n",
              "      fill: #FFFFFF;\n",
              "    }\n",
              "  </style>\n",
              "\n",
              "      <script>\n",
              "        const buttonEl =\n",
              "          document.querySelector('#df-245582d8-330f-4427-b57c-12eb36d77ad8 button.colab-df-convert');\n",
              "        buttonEl.style.display =\n",
              "          google.colab.kernel.accessAllowed ? 'block' : 'none';\n",
              "\n",
              "        async function convertToInteractive(key) {\n",
              "          const element = document.querySelector('#df-245582d8-330f-4427-b57c-12eb36d77ad8');\n",
              "          const dataTable =\n",
              "            await google.colab.kernel.invokeFunction('convertToInteractive',\n",
              "                                                     [key], {});\n",
              "          if (!dataTable) return;\n",
              "\n",
              "          const docLinkHtml = 'Like what you see? Visit the ' +\n",
              "            '<a target=\"_blank\" href=https://colab.research.google.com/notebooks/data_table.ipynb>data table notebook</a>'\n",
              "            + ' to learn more about interactive tables.';\n",
              "          element.innerHTML = '';\n",
              "          dataTable['output_type'] = 'display_data';\n",
              "          await google.colab.output.renderOutput(dataTable, element);\n",
              "          const docLink = document.createElement('div');\n",
              "          docLink.innerHTML = docLinkHtml;\n",
              "          element.appendChild(docLink);\n",
              "        }\n",
              "      </script>\n",
              "    </div>\n",
              "  </div>\n",
              "  "
            ]
          },
          "metadata": {},
          "execution_count": 13
        }
      ],
      "source": [
        "'''\n",
        "Create DataFrame for all files\n",
        "'''\n",
        "'''\n",
        "Extract Information\n",
        "'''\n",
        "df = pd.DataFrame()\n",
        "files_information = df_txt[\"file_name\"].str.split(\"_\")\n",
        "df[\"patient_id\"] = files_information.apply(lambda row : int(row[0]))\n",
        "df[\"rec_index\"] = files_information.apply(lambda row : row[1])\n",
        "df[\"chest_loc\"] = files_information.apply(lambda row : row[2])\n",
        "df[\"acq_mode\"] = files_information.apply(lambda row : row[3])\n",
        "df[\"rec_equip\"] = files_information.apply(lambda row : row[4])\n",
        "df = pd.concat((df, df_txt), axis = 1)\n",
        "\n",
        "'''\n",
        "Apply Patient diagnosis\n",
        "'''\n",
        "df[\"diag\"] = df[\"patient_id\"].map(diag[\"diag_1\"].to_dict())\n",
        "\n",
        "df.head()"
      ]
    },
    {
      "cell_type": "code",
      "execution_count": null,
      "metadata": {
        "colab": {
          "base_uri": "https://localhost:8080/"
        },
        "id": "Hd_xWoZJE7jx",
        "outputId": "a18f7560-9734-4d96-a06a-dd91afae4880"
      },
      "outputs": [
        {
          "output_type": "execute_result",
          "data": {
            "text/plain": [
              "COPD              83.019767\n",
              "LRTI               8.263872\n",
              "Healthy            4.191474\n",
              "URTI               3.286497\n",
              "Bronchiectasis     1.095499\n",
              "Asthma             0.142891\n",
              "Name: diag, dtype: float64"
            ]
          },
          "metadata": {},
          "execution_count": 14
        }
      ],
      "source": [
        "df[\"diag\"].value_counts() / len(df) * 100"
      ]
    },
    {
      "cell_type": "markdown",
      "metadata": {
        "id": "V6hB9z-ke_Cs"
      },
      "source": [
        "# Data Preparation for Modeling"
      ]
    },
    {
      "cell_type": "code",
      "execution_count": null,
      "metadata": {
        "id": "ecEQ51GnHKpd"
      },
      "outputs": [],
      "source": [
        "audio_arr = np.load(\"audio_file.npy\")"
      ]
    },
    {
      "cell_type": "code",
      "execution_count": null,
      "metadata": {
        "colab": {
          "base_uri": "https://localhost:8080/"
        },
        "id": "r5S03RG9l33-",
        "outputId": "62963c1c-b12e-4140-cf00-c6d135811f80"
      },
      "outputs": [
        {
          "output_type": "stream",
          "name": "stderr",
          "text": [
            "/usr/local/lib/python3.7/dist-packages/librosa/core/pitch.py:153: UserWarning: Trying to estimate tuning from empty frequency set.\n",
            "  warnings.warn(\"Trying to estimate tuning from empty frequency set.\")\n"
          ]
        }
      ],
      "source": [
        "def getFeatures(row, sample_rate = 22050):\n",
        "    #soundArr,sample_rate=lb.load(path)\n",
        "    mfcc=librosa.feature.mfcc(y=row,sr=sample_rate) #mfcc\n",
        "    cstft=librosa.feature.chroma_stft(y=row,sr=sample_rate) #chroma short-term Fourier transformation\n",
        "    mSpec=librosa.feature.melspectrogram(y=row,sr=sample_rate) #melspectogram\n",
        "\n",
        "    return mfcc,cstft,mSpec\n",
        "\n",
        "mfcc_arr,cstft_arr,mSpec_arr=[],[],[]\n",
        "\n",
        "for arr in audio_arr:\n",
        "    a,b,c = getFeatures(arr)\n",
        "    mfcc_arr.append(a)\n",
        "    cstft_arr.append(b)\n",
        "    mSpec_arr.append(c)\n",
        "\n",
        "mfcc_arr = np.array(mfcc_arr)\n",
        "cstft_arr = np.array(cstft_arr)\n",
        "mSpec_arr = np.array(mSpec_arr)"
      ]
    },
    {
      "cell_type": "code",
      "execution_count": null,
      "metadata": {
        "id": "RcvZ6pFymt5g"
      },
      "outputs": [],
      "source": [
        "del audio_arr"
      ]
    },
    {
      "cell_type": "code",
      "execution_count": null,
      "metadata": {
        "colab": {
          "base_uri": "https://localhost:8080/"
        },
        "id": "fhnVSsgXpd7Y",
        "outputId": "423301c0-b5b5-46d6-be6b-d98562851671"
      },
      "outputs": [
        {
          "output_type": "execute_result",
          "data": {
            "text/plain": [
              "6898"
            ]
          },
          "metadata": {},
          "execution_count": 18
        }
      ],
      "source": [
        "len(mfcc_arr)"
      ]
    },
    {
      "cell_type": "code",
      "execution_count": null,
      "metadata": {
        "colab": {
          "base_uri": "https://localhost:8080/"
        },
        "id": "eYsyhmoDpNjZ",
        "outputId": "2ca4a474-f903-446c-8c85-00835f161164"
      },
      "outputs": [
        {
          "output_type": "execute_result",
          "data": {
            "text/plain": [
              "   patient_id rec_index chest_loc acq_mode rec_equip  start    end  crackles  \\\n",
              "0         101       1b1        Al       sc  Meditron  0.036  0.579         0   \n",
              "1         101       1b1        Al       sc  Meditron  0.579  2.450         0   \n",
              "2         101       1b1        Al       sc  Meditron  2.450  3.893         0   \n",
              "3         101       1b1        Al       sc  Meditron  3.893  5.793         0   \n",
              "4         101       1b1        Al       sc  Meditron  5.793  7.521         0   \n",
              "\n",
              "   weezels               file_name  diag  \\\n",
              "0        0  101_1b1_Al_sc_Meditron  URTI   \n",
              "1        0  101_1b1_Al_sc_Meditron  URTI   \n",
              "2        0  101_1b1_Al_sc_Meditron  URTI   \n",
              "3        0  101_1b1_Al_sc_Meditron  URTI   \n",
              "4        0  101_1b1_Al_sc_Meditron  URTI   \n",
              "\n",
              "                                                mfcc  \\\n",
              "0  [[-613.4402, -613.4402, -613.4402, -613.4402, ...   \n",
              "1  [[-621.05994, -621.05994, -621.05994, -621.059...   \n",
              "2  [[-619.62665, -619.62665, -619.62665, -619.626...   \n",
              "3  [[-629.2678, -629.2678, -629.2678, -629.2678, ...   \n",
              "4  [[-655.7785, -655.7785, -655.7785, -655.7785, ...   \n",
              "\n",
              "                                               cstft  \\\n",
              "0  [[0.0, 0.0, 0.0, 0.0, 0.0, 0.0, 0.0, 0.0, 0.0,...   \n",
              "1  [[0.0, 0.0, 0.0, 0.0, 0.0, 0.0, 0.0, 0.0, 0.0,...   \n",
              "2  [[0.0, 0.0, 0.0, 0.0, 0.0, 0.0, 0.0, 0.0, 0.0,...   \n",
              "3  [[0.0, 0.0, 0.0, 0.0, 0.0, 0.0, 0.0, 0.0, 0.0,...   \n",
              "4  [[0.0, 0.0, 0.0, 0.0, 0.0, 0.0, 0.0, 0.0, 0.0,...   \n",
              "\n",
              "                                               mspec  len_mfcc  len_cstft  \\\n",
              "0  [[0.0, 0.0, 0.0, 0.0, 0.0, 0.0, 0.0, 0.0, 0.0,...        20         12   \n",
              "1  [[0.0, 0.0, 0.0, 0.0, 0.0, 0.0, 0.0, 0.0, 0.0,...        20         12   \n",
              "2  [[0.0, 0.0, 0.0, 0.0, 0.0, 0.0, 0.0, 0.0, 0.0,...        20         12   \n",
              "3  [[0.0, 0.0, 0.0, 0.0, 0.0, 0.0, 0.0, 0.0, 0.0,...        20         12   \n",
              "4  [[0.0, 0.0, 0.0, 0.0, 0.0, 0.0, 0.0, 0.0, 0.0,...        20         12   \n",
              "\n",
              "   len_mspec  \n",
              "0        128  \n",
              "1        128  \n",
              "2        128  \n",
              "3        128  \n",
              "4        128  "
            ],
            "text/html": [
              "\n",
              "  <div id=\"df-54ee3c35-0bc6-400b-9d2b-cf36d89ffcaa\">\n",
              "    <div class=\"colab-df-container\">\n",
              "      <div>\n",
              "<style scoped>\n",
              "    .dataframe tbody tr th:only-of-type {\n",
              "        vertical-align: middle;\n",
              "    }\n",
              "\n",
              "    .dataframe tbody tr th {\n",
              "        vertical-align: top;\n",
              "    }\n",
              "\n",
              "    .dataframe thead th {\n",
              "        text-align: right;\n",
              "    }\n",
              "</style>\n",
              "<table border=\"1\" class=\"dataframe\">\n",
              "  <thead>\n",
              "    <tr style=\"text-align: right;\">\n",
              "      <th></th>\n",
              "      <th>patient_id</th>\n",
              "      <th>rec_index</th>\n",
              "      <th>chest_loc</th>\n",
              "      <th>acq_mode</th>\n",
              "      <th>rec_equip</th>\n",
              "      <th>start</th>\n",
              "      <th>end</th>\n",
              "      <th>crackles</th>\n",
              "      <th>weezels</th>\n",
              "      <th>file_name</th>\n",
              "      <th>diag</th>\n",
              "      <th>mfcc</th>\n",
              "      <th>cstft</th>\n",
              "      <th>mspec</th>\n",
              "      <th>len_mfcc</th>\n",
              "      <th>len_cstft</th>\n",
              "      <th>len_mspec</th>\n",
              "    </tr>\n",
              "  </thead>\n",
              "  <tbody>\n",
              "    <tr>\n",
              "      <th>0</th>\n",
              "      <td>101</td>\n",
              "      <td>1b1</td>\n",
              "      <td>Al</td>\n",
              "      <td>sc</td>\n",
              "      <td>Meditron</td>\n",
              "      <td>0.036</td>\n",
              "      <td>0.579</td>\n",
              "      <td>0</td>\n",
              "      <td>0</td>\n",
              "      <td>101_1b1_Al_sc_Meditron</td>\n",
              "      <td>URTI</td>\n",
              "      <td>[[-613.4402, -613.4402, -613.4402, -613.4402, ...</td>\n",
              "      <td>[[0.0, 0.0, 0.0, 0.0, 0.0, 0.0, 0.0, 0.0, 0.0,...</td>\n",
              "      <td>[[0.0, 0.0, 0.0, 0.0, 0.0, 0.0, 0.0, 0.0, 0.0,...</td>\n",
              "      <td>20</td>\n",
              "      <td>12</td>\n",
              "      <td>128</td>\n",
              "    </tr>\n",
              "    <tr>\n",
              "      <th>1</th>\n",
              "      <td>101</td>\n",
              "      <td>1b1</td>\n",
              "      <td>Al</td>\n",
              "      <td>sc</td>\n",
              "      <td>Meditron</td>\n",
              "      <td>0.579</td>\n",
              "      <td>2.450</td>\n",
              "      <td>0</td>\n",
              "      <td>0</td>\n",
              "      <td>101_1b1_Al_sc_Meditron</td>\n",
              "      <td>URTI</td>\n",
              "      <td>[[-621.05994, -621.05994, -621.05994, -621.059...</td>\n",
              "      <td>[[0.0, 0.0, 0.0, 0.0, 0.0, 0.0, 0.0, 0.0, 0.0,...</td>\n",
              "      <td>[[0.0, 0.0, 0.0, 0.0, 0.0, 0.0, 0.0, 0.0, 0.0,...</td>\n",
              "      <td>20</td>\n",
              "      <td>12</td>\n",
              "      <td>128</td>\n",
              "    </tr>\n",
              "    <tr>\n",
              "      <th>2</th>\n",
              "      <td>101</td>\n",
              "      <td>1b1</td>\n",
              "      <td>Al</td>\n",
              "      <td>sc</td>\n",
              "      <td>Meditron</td>\n",
              "      <td>2.450</td>\n",
              "      <td>3.893</td>\n",
              "      <td>0</td>\n",
              "      <td>0</td>\n",
              "      <td>101_1b1_Al_sc_Meditron</td>\n",
              "      <td>URTI</td>\n",
              "      <td>[[-619.62665, -619.62665, -619.62665, -619.626...</td>\n",
              "      <td>[[0.0, 0.0, 0.0, 0.0, 0.0, 0.0, 0.0, 0.0, 0.0,...</td>\n",
              "      <td>[[0.0, 0.0, 0.0, 0.0, 0.0, 0.0, 0.0, 0.0, 0.0,...</td>\n",
              "      <td>20</td>\n",
              "      <td>12</td>\n",
              "      <td>128</td>\n",
              "    </tr>\n",
              "    <tr>\n",
              "      <th>3</th>\n",
              "      <td>101</td>\n",
              "      <td>1b1</td>\n",
              "      <td>Al</td>\n",
              "      <td>sc</td>\n",
              "      <td>Meditron</td>\n",
              "      <td>3.893</td>\n",
              "      <td>5.793</td>\n",
              "      <td>0</td>\n",
              "      <td>0</td>\n",
              "      <td>101_1b1_Al_sc_Meditron</td>\n",
              "      <td>URTI</td>\n",
              "      <td>[[-629.2678, -629.2678, -629.2678, -629.2678, ...</td>\n",
              "      <td>[[0.0, 0.0, 0.0, 0.0, 0.0, 0.0, 0.0, 0.0, 0.0,...</td>\n",
              "      <td>[[0.0, 0.0, 0.0, 0.0, 0.0, 0.0, 0.0, 0.0, 0.0,...</td>\n",
              "      <td>20</td>\n",
              "      <td>12</td>\n",
              "      <td>128</td>\n",
              "    </tr>\n",
              "    <tr>\n",
              "      <th>4</th>\n",
              "      <td>101</td>\n",
              "      <td>1b1</td>\n",
              "      <td>Al</td>\n",
              "      <td>sc</td>\n",
              "      <td>Meditron</td>\n",
              "      <td>5.793</td>\n",
              "      <td>7.521</td>\n",
              "      <td>0</td>\n",
              "      <td>0</td>\n",
              "      <td>101_1b1_Al_sc_Meditron</td>\n",
              "      <td>URTI</td>\n",
              "      <td>[[-655.7785, -655.7785, -655.7785, -655.7785, ...</td>\n",
              "      <td>[[0.0, 0.0, 0.0, 0.0, 0.0, 0.0, 0.0, 0.0, 0.0,...</td>\n",
              "      <td>[[0.0, 0.0, 0.0, 0.0, 0.0, 0.0, 0.0, 0.0, 0.0,...</td>\n",
              "      <td>20</td>\n",
              "      <td>12</td>\n",
              "      <td>128</td>\n",
              "    </tr>\n",
              "  </tbody>\n",
              "</table>\n",
              "</div>\n",
              "      <button class=\"colab-df-convert\" onclick=\"convertToInteractive('df-54ee3c35-0bc6-400b-9d2b-cf36d89ffcaa')\"\n",
              "              title=\"Convert this dataframe to an interactive table.\"\n",
              "              style=\"display:none;\">\n",
              "        \n",
              "  <svg xmlns=\"http://www.w3.org/2000/svg\" height=\"24px\"viewBox=\"0 0 24 24\"\n",
              "       width=\"24px\">\n",
              "    <path d=\"M0 0h24v24H0V0z\" fill=\"none\"/>\n",
              "    <path d=\"M18.56 5.44l.94 2.06.94-2.06 2.06-.94-2.06-.94-.94-2.06-.94 2.06-2.06.94zm-11 1L8.5 8.5l.94-2.06 2.06-.94-2.06-.94L8.5 2.5l-.94 2.06-2.06.94zm10 10l.94 2.06.94-2.06 2.06-.94-2.06-.94-.94-2.06-.94 2.06-2.06.94z\"/><path d=\"M17.41 7.96l-1.37-1.37c-.4-.4-.92-.59-1.43-.59-.52 0-1.04.2-1.43.59L10.3 9.45l-7.72 7.72c-.78.78-.78 2.05 0 2.83L4 21.41c.39.39.9.59 1.41.59.51 0 1.02-.2 1.41-.59l7.78-7.78 2.81-2.81c.8-.78.8-2.07 0-2.86zM5.41 20L4 18.59l7.72-7.72 1.47 1.35L5.41 20z\"/>\n",
              "  </svg>\n",
              "      </button>\n",
              "      \n",
              "  <style>\n",
              "    .colab-df-container {\n",
              "      display:flex;\n",
              "      flex-wrap:wrap;\n",
              "      gap: 12px;\n",
              "    }\n",
              "\n",
              "    .colab-df-convert {\n",
              "      background-color: #E8F0FE;\n",
              "      border: none;\n",
              "      border-radius: 50%;\n",
              "      cursor: pointer;\n",
              "      display: none;\n",
              "      fill: #1967D2;\n",
              "      height: 32px;\n",
              "      padding: 0 0 0 0;\n",
              "      width: 32px;\n",
              "    }\n",
              "\n",
              "    .colab-df-convert:hover {\n",
              "      background-color: #E2EBFA;\n",
              "      box-shadow: 0px 1px 2px rgba(60, 64, 67, 0.3), 0px 1px 3px 1px rgba(60, 64, 67, 0.15);\n",
              "      fill: #174EA6;\n",
              "    }\n",
              "\n",
              "    [theme=dark] .colab-df-convert {\n",
              "      background-color: #3B4455;\n",
              "      fill: #D2E3FC;\n",
              "    }\n",
              "\n",
              "    [theme=dark] .colab-df-convert:hover {\n",
              "      background-color: #434B5C;\n",
              "      box-shadow: 0px 1px 3px 1px rgba(0, 0, 0, 0.15);\n",
              "      filter: drop-shadow(0px 1px 2px rgba(0, 0, 0, 0.3));\n",
              "      fill: #FFFFFF;\n",
              "    }\n",
              "  </style>\n",
              "\n",
              "      <script>\n",
              "        const buttonEl =\n",
              "          document.querySelector('#df-54ee3c35-0bc6-400b-9d2b-cf36d89ffcaa button.colab-df-convert');\n",
              "        buttonEl.style.display =\n",
              "          google.colab.kernel.accessAllowed ? 'block' : 'none';\n",
              "\n",
              "        async function convertToInteractive(key) {\n",
              "          const element = document.querySelector('#df-54ee3c35-0bc6-400b-9d2b-cf36d89ffcaa');\n",
              "          const dataTable =\n",
              "            await google.colab.kernel.invokeFunction('convertToInteractive',\n",
              "                                                     [key], {});\n",
              "          if (!dataTable) return;\n",
              "\n",
              "          const docLinkHtml = 'Like what you see? Visit the ' +\n",
              "            '<a target=\"_blank\" href=https://colab.research.google.com/notebooks/data_table.ipynb>data table notebook</a>'\n",
              "            + ' to learn more about interactive tables.';\n",
              "          element.innerHTML = '';\n",
              "          dataTable['output_type'] = 'display_data';\n",
              "          await google.colab.output.renderOutput(dataTable, element);\n",
              "          const docLink = document.createElement('div');\n",
              "          docLink.innerHTML = docLinkHtml;\n",
              "          element.appendChild(docLink);\n",
              "        }\n",
              "      </script>\n",
              "    </div>\n",
              "  </div>\n",
              "  "
            ]
          },
          "metadata": {},
          "execution_count": 19
        }
      ],
      "source": [
        "df[\"mfcc\"] = pd.Series(list(mfcc_arr))\n",
        "df[\"cstft\"] = pd.Series(list(cstft_arr))\n",
        "df[\"mspec\"] = pd.Series(list(mSpec_arr))\n",
        "df[\"len_mfcc\"] = df[\"mfcc\"].apply(lambda row : len(row))\n",
        "df[\"len_cstft\"] = df[\"cstft\"].apply(lambda row : len(row))\n",
        "df[\"len_mspec\"] = df[\"mspec\"].apply(lambda row : len(row))\n",
        "df.head()"
      ]
    },
    {
      "cell_type": "markdown",
      "metadata": {
        "id": "xNSNDMFnjXsw"
      },
      "source": [
        "# Display Wave Sound"
      ]
    },
    {
      "cell_type": "markdown",
      "metadata": {
        "id": "7x-FsOpWlm3-"
      },
      "source": [
        "## From MFCC"
      ]
    },
    {
      "cell_type": "code",
      "execution_count": null,
      "metadata": {
        "colab": {
          "base_uri": "https://localhost:8080/",
          "height": 370
        },
        "id": "r4OK1VLNlobu",
        "outputId": "9b308b99-97e8-4f02-f41b-586cb9c79026"
      },
      "outputs": [
        {
          "output_type": "stream",
          "name": "stdout",
          "text": [
            "(20, 259)\n"
          ]
        },
        {
          "output_type": "display_data",
          "data": {
            "text/plain": [
              "<Figure size 576x360 with 2 Axes>"
            ],
            "image/png": "[encoded data removed]"
          },
          "metadata": {
            "needs_background": "light"
          }
        }
      ],
      "source": [
        "mfccs = df.iloc[42][\"mfcc\"]\n",
        "print(mfccs.shape)\n",
        "\n",
        "#Displaying  the MFCCs:\n",
        "plt.figure(figsize = (8,5))\n",
        "img = librosa.display.specshow(mfccs, sr = 22050, x_axis='time')\n",
        "plt.colorbar(img)\n",
        "plt.title(\"MFCC Plot for PPOK Data\", fontsize = 15)\n",
        "plt.xlim(2.6,3.4)\n",
        "plt.show()"
      ]
    },
    {
      "cell_type": "code",
      "execution_count": null,
      "metadata": {
        "colab": {
          "base_uri": "https://localhost:8080/",
          "height": 370
        },
        "id": "FUpRYSV2mxz-",
        "outputId": "070949a0-89c1-4058-8ed0-de22a54404e1"
      },
      "outputs": [
        {
          "output_type": "stream",
          "name": "stdout",
          "text": [
            "(20, 259)\n"
          ]
        },
        {
          "output_type": "display_data",
          "data": {
            "text/plain": [
              "<Figure size 576x360 with 2 Axes>"
            ],
            "image/png": "[encoded data removed]"
          },
          "metadata": {
            "needs_background": "light"
          }
        }
      ],
      "source": [
        "mfccs = df.iloc[24][\"mfcc\"]\n",
        "print(mfccs.shape)\n",
        "\n",
        "#Displaying  the MFCCs:\n",
        "plt.figure(figsize = (8,5))\n",
        "img = librosa.display.specshow(mfccs, sr = 22050, x_axis='time')\n",
        "plt.colorbar(img)\n",
        "plt.title(\"MFCC Plot for non-PPOK Data\", fontsize = 15)\n",
        "plt.xlim(1.9,4.1)\n",
        "plt.show()"
      ]
    },
    {
      "cell_type": "code",
      "execution_count": null,
      "metadata": {
        "colab": {
          "base_uri": "https://localhost:8080/"
        },
        "id": "gU8klCx3nOq8",
        "outputId": "51b2f50b-43a5-4b32-ba08-28ca4e1cfa7e"
      },
      "outputs": [
        {
          "output_type": "execute_result",
          "data": {
            "text/plain": [
              "0.9856603741645813"
            ]
          },
          "metadata": {},
          "execution_count": 65
        }
      ],
      "source": [
        "'''\n",
        "Matrix Similarity\n",
        "'''\n",
        "a = df.iloc[42][\"mfcc\"].flatten()\n",
        "b = df.iloc[100][\"mfcc\"].flatten()\n",
        "\n",
        "from scipy import spatial\n",
        "result = 1 - spatial.distance.cosine(a, b)\n",
        "result"
      ]
    },
    {
      "cell_type": "markdown",
      "metadata": {
        "id": "3Rl3-SZ6zHWA"
      },
      "source": [
        "## From CSTFT"
      ]
    },
    {
      "cell_type": "code",
      "execution_count": null,
      "metadata": {
        "colab": {
          "base_uri": "https://localhost:8080/",
          "height": 370
        },
        "outputId": "7cd86252-6293-4c5b-9cb1-0a54b6fc1d05",
        "id": "j8TagiPuzHWA"
      },
      "outputs": [
        {
          "output_type": "stream",
          "name": "stdout",
          "text": [
            "(12, 259)\n"
          ]
        },
        {
          "output_type": "display_data",
          "data": {
            "text/plain": [
              "<Figure size 576x360 with 2 Axes>"
            ],
            "image/png": "[encoded data removed]"
          },
          "metadata": {
            "needs_background": "light"
          }
        }
      ],
      "source": [
        "chroma = df.iloc[42][\"cstft\"]\n",
        "print(chroma.shape)\n",
        "\n",
        "#Displaying  the Chroma:\n",
        "plt.figure(figsize = (8,5))\n",
        "img = librosa.display.specshow(chroma, y_axis='chroma', x_axis='time')\n",
        "plt.colorbar(img)\n",
        "plt.title(\"CSTFT Plot for PPOK Data\", fontsize = 15)\n",
        "plt.xlim(2.6,3.4)\n",
        "plt.show()"
      ]
    },
    {
      "cell_type": "code",
      "execution_count": null,
      "metadata": {
        "colab": {
          "base_uri": "https://localhost:8080/",
          "height": 370
        },
        "outputId": "b4feb8fd-aba3-49b2-db29-222dc7e6e878",
        "id": "PZPHOw8mzHWB"
      },
      "outputs": [
        {
          "output_type": "stream",
          "name": "stdout",
          "text": [
            "(12, 259)\n"
          ]
        },
        {
          "output_type": "display_data",
          "data": {
            "text/plain": [
              "<Figure size 576x360 with 2 Axes>"
            ],
            "image/png": "[encoded data removed]"
          },
          "metadata": {
            "needs_background": "light"
          }
        }
      ],
      "source": [
        "chroma = df.iloc[24][\"cstft\"]\n",
        "print(chroma.shape)\n",
        "\n",
        "#Displaying  the Chroma:\n",
        "plt.figure(figsize = (8,5))\n",
        "img = librosa.display.specshow(chroma, y_axis='chroma', x_axis='time')\n",
        "plt.colorbar(img)\n",
        "plt.title(\"CSTFT Plot for PPOK Data\", fontsize = 15)\n",
        "plt.xlim(2.6,3.4)\n",
        "plt.show()"
      ]
    },
    {
      "cell_type": "code",
      "execution_count": null,
      "metadata": {
        "colab": {
          "base_uri": "https://localhost:8080/"
        },
        "outputId": "0e5ffad6-0beb-4fd5-9965-b6dcb6156650",
        "id": "_cLgLoLFzHWB"
      },
      "outputs": [
        {
          "data": {
            "text/plain": [
              "0.9870253205299377"
            ]
          },
          "execution_count": 30,
          "metadata": {},
          "output_type": "execute_result"
        }
      ],
      "source": [
        "'''\n",
        "Matrix Similarity\n",
        "'''\n",
        "a = df.iloc[24][\"mfcc\"].flatten()\n",
        "b = df.iloc[42][\"mfcc\"].flatten()\n",
        "\n",
        "from scipy import spatial\n",
        "result = 1 - spatial.distance.cosine(a, b)\n",
        "result"
      ]
    },
    {
      "cell_type": "markdown",
      "metadata": {
        "id": "eQc3PpICzUZu"
      },
      "source": [
        "## From MelSpectogram"
      ]
    },
    {
      "cell_type": "code",
      "execution_count": null,
      "metadata": {
        "colab": {
          "base_uri": "https://localhost:8080/",
          "height": 350
        },
        "outputId": "1fbf291c-0aae-483b-bc57-f9d808942c87",
        "id": "3aFpsvESzUZv"
      },
      "outputs": [
        {
          "output_type": "display_data",
          "data": {
            "text/plain": [
              "<Figure size 576x360 with 2 Axes>"
            ],
            "image/png": "[encoded data removed]"
          },
          "metadata": {
            "needs_background": "light"
          }
        }
      ],
      "source": [
        "mspec = df.iloc[42][\"mspec\"]\n",
        "\n",
        "#Displaying  the MelSpectogram:\n",
        "import matplotlib.pyplot as plt\n",
        "fig, ax = plt.subplots(figsize = (8,5))\n",
        "S_dB = librosa.power_to_db(mspec, ref=np.max)\n",
        "img = librosa.display.specshow(S_dB, x_axis='time',\n",
        "                         y_axis='mel', sr=22050,\n",
        "                         fmax=8000, ax=ax)\n",
        "fig.colorbar(img, ax=ax, format='%+2.0f dB')\n",
        "ax.set(title='Mel-frequency spectrogram for PPOK Data')\n",
        "plt.xlim(2.6,3.4)\n",
        "plt.show()"
      ]
    },
    {
      "cell_type": "code",
      "execution_count": null,
      "metadata": {
        "colab": {
          "base_uri": "https://localhost:8080/",
          "height": 350
        },
        "outputId": "a5b2b0b1-d694-481d-86df-929379853096",
        "id": "3ENzw6UbzUZv"
      },
      "outputs": [
        {
          "output_type": "display_data",
          "data": {
            "text/plain": [
              "<Figure size 576x360 with 2 Axes>"
            ],
            "image/png": "[encoded data removed]"
          },
          "metadata": {
            "needs_background": "light"
          }
        }
      ],
      "source": [
        "mspec = df.iloc[24][\"mspec\"]\n",
        "\n",
        "#Displaying  the MelSpectogram:\n",
        "import matplotlib.pyplot as plt\n",
        "\n",
        "fig, ax = plt.subplots(figsize = (8,5))\n",
        "S_dB = librosa.power_to_db(mspec, ref=np.max)\n",
        "img = librosa.display.specshow(S_dB, x_axis='time',\n",
        "                         y_axis='mel', sr=22050,\n",
        "                         fmax=8000, ax=ax)\n",
        "fig.colorbar(img, ax=ax, format='%+2.0f dB')\n",
        "ax.set(title='Mel-frequency spectrogram for non-PPOK Data')\n",
        "plt.xlim(2,4)\n",
        "plt.show()"
      ]
    },
    {
      "cell_type": "code",
      "execution_count": null,
      "metadata": {
        "colab": {
          "base_uri": "https://localhost:8080/"
        },
        "outputId": "0e5ffad6-0beb-4fd5-9965-b6dcb6156650",
        "id": "7LAileTkzUZv"
      },
      "outputs": [
        {
          "data": {
            "text/plain": [
              "0.9870253205299377"
            ]
          },
          "execution_count": 30,
          "metadata": {},
          "output_type": "execute_result"
        }
      ],
      "source": [
        "'''\n",
        "Matrix Similarity\n",
        "'''\n",
        "a = df.iloc[24][\"mfcc\"].flatten()\n",
        "b = df.iloc[42][\"mfcc\"].flatten()\n",
        "\n",
        "from scipy import spatial\n",
        "result = 1 - spatial.distance.cosine(a, b)\n",
        "result"
      ]
    },
    {
      "cell_type": "markdown",
      "metadata": {
        "id": "aywKWZZQliqt"
      },
      "source": [
        "## From Raw File"
      ]
    },
    {
      "cell_type": "code",
      "execution_count": null,
      "metadata": {
        "id": "rT2doa5JlurV"
      },
      "outputs": [],
      "source": [
        "df[\"index\"] = [i for i in range(len(df))]"
      ]
    },
    {
      "cell_type": "code",
      "execution_count": null,
      "metadata": {
        "colab": {
          "base_uri": "https://localhost:8080/"
        },
        "id": "u9mcNaUul3CE",
        "outputId": "2c5383e7-c404-4530-8fb7-53e99ba34ebf"
      },
      "outputs": [
        {
          "data": {
            "text/plain": [
              "patient_id                                                  104\n",
              "rec_index                                                   1b1\n",
              "chest_loc                                                    Al\n",
              "acq_mode                                                     sc\n",
              "rec_equip                                              Litt3200\n",
              "start                                                       0.0\n",
              "end                                                      1.8771\n",
              "crackles                                                      0\n",
              "weezels                                                       0\n",
              "file_name                                104_1b1_Al_sc_Litt3200\n",
              "diag                                                       COPD\n",
              "mfcc          [[-613.4402, -613.4402, -613.4402, -613.4402, ...\n",
              "cstft         [[0.0, 0.0, 0.0, 0.0, 0.0, 0.0, 0.0, 0.0, 0.0,...\n",
              "mspec         [[0.0, 0.0, 0.0, 0.0, 0.0, 0.0, 0.0, 0.0, 0.0,...\n",
              "len_mfcc                                                     20\n",
              "len_cstft                                                    12\n",
              "len_mspec                                                   128\n",
              "Name: 0, dtype: object"
            ]
          },
          "execution_count": 27,
          "metadata": {},
          "output_type": "execute_result"
        }
      ],
      "source": [
        "df.iloc[42]"
      ]
    },
    {
      "cell_type": "code",
      "execution_count": null,
      "metadata": {
        "colab": {
          "base_uri": "https://localhost:8080/"
        },
        "id": "pQ4fgZQTn7rS",
        "outputId": "df032486-7c3f-4793-cb70-a89978e9f5c4"
      },
      "outputs": [
        {
          "data": {
            "text/plain": [
              "patient_id                                                  102\n",
              "rec_index                                                   1b1\n",
              "chest_loc                                                    Ar\n",
              "acq_mode                                                     sc\n",
              "rec_equip                                              Meditron\n",
              "start                                                     0.264\n",
              "end                                                       1.736\n",
              "crackles                                                      0\n",
              "weezels                                                       0\n",
              "file_name                                102_1b1_Ar_sc_Meditron\n",
              "diag                                                    Healthy\n",
              "mfcc          [[-613.4402, -613.4402, -613.4402, -613.4402, ...\n",
              "cstft         [[0.0, 0.0, 0.0, 0.0, 0.0, 0.0, 0.0, 0.0, 0.0,...\n",
              "mspec         [[0.0, 0.0, 0.0, 0.0, 0.0, 0.0, 0.0, 0.0, 0.0,...\n",
              "len_mfcc                                                     20\n",
              "len_cstft                                                    12\n",
              "len_mspec                                                   128\n",
              "Name: 0, dtype: object"
            ]
          },
          "execution_count": 28,
          "metadata": {},
          "output_type": "execute_result"
        }
      ],
      "source": [
        "df.iloc[23]"
      ]
    },
    {
      "cell_type": "code",
      "execution_count": null,
      "metadata": {
        "colab": {
          "base_uri": "https://localhost:8080/"
        },
        "id": "tn6DwApC0x1h",
        "outputId": "cfe01270-4f3b-4109-8670-27534e7b7c5c"
      },
      "outputs": [
        {
          "data": {
            "text/plain": [
              "array(['URTI', 'Healthy', 'Asthma', 'COPD', 'LRTI', 'Bronchiectasis'],\n",
              "      dtype=object)"
            ]
          },
          "execution_count": 32,
          "metadata": {},
          "output_type": "execute_result"
        }
      ],
      "source": [
        "df[\"diag\"].unique()"
      ]
    },
    {
      "cell_type": "code",
      "execution_count": null,
      "metadata": {
        "colab": {
          "base_uri": "https://localhost:8080/"
        },
        "id": "r3ZhHUTGlcZD",
        "outputId": "82276934-c405-4ea4-fb52-ed70afd28242"
      },
      "outputs": [
        {
          "data": {
            "text/plain": [
              "0      23\n",
              "1      24\n",
              "2      25\n",
              "3      26\n",
              "4      27\n",
              "     ... \n",
              "4    3980\n",
              "5    3981\n",
              "6    3982\n",
              "7    3983\n",
              "8    3984\n",
              "Name: index, Length: 176, dtype: int64"
            ]
          },
          "execution_count": 33,
          "metadata": {},
          "output_type": "execute_result"
        }
      ],
      "source": [
        "df[df[\"diag\"] == \"Healthy\"][\"index\"]"
      ]
    },
    {
      "cell_type": "code",
      "execution_count": null,
      "metadata": {
        "colab": {
          "base_uri": "https://localhost:8080/",
          "height": 295
        },
        "id": "DLi1Ge181Eva",
        "outputId": "196c65ae-607d-48d5-c5fd-47e30acaa90c"
      },
      "outputs": [
        {
          "data": {
            "image/png": "[encoded data removed]",
            "text/plain": [
              "<Figure size 432x288 with 1 Axes>"
            ]
          },
          "metadata": {},
          "output_type": "display_data"
        }
      ],
      "source": [
        "librosa.display.waveplot(audio_arr[23],\n",
        "                         sr = 22050,\n",
        "                         max_points = 50000,\n",
        "                         x_axis ='time', offset=0.0, max_sr=1000)\n",
        "plt.title(\"Non-PPOK Case\")\n",
        "plt.show()"
      ]
    },
    {
      "cell_type": "code",
      "execution_count": null,
      "metadata": {
        "colab": {
          "base_uri": "https://localhost:8080/",
          "height": 295
        },
        "id": "rUO2X0HqkWrU",
        "outputId": "c9bb3038-3866-40ef-866f-3692b40ca68d"
      },
      "outputs": [
        {
          "data": {
            "image/png": "[encoded data removed]",
            "text/plain": [
              "<Figure size 432x288 with 1 Axes>"
            ]
          },
          "metadata": {},
          "output_type": "display_data"
        }
      ],
      "source": [
        "librosa.display.waveplot(audio_arr[42],\n",
        "                         sr = 22050,\n",
        "                         max_points = 50000)\n",
        "                         #x_axis ='time', offset=0.0, max_sr=1000)\n",
        "plt.title(\"PPOK Case\")\n",
        "plt.show()"
      ]
    },
    {
      "cell_type": "code",
      "execution_count": null,
      "metadata": {
        "id": "VfDUcmwKjaSq"
      },
      "outputs": [],
      "source": [
        "plt.figure(figsize=(15,4))\n",
        "librosa.display.waveplot(data1,sr=sample_rate1, max_points=50000.0, x_axis='time', offset=0.0, max_sr=1000)"
      ]
    },
    {
      "cell_type": "markdown",
      "metadata": {
        "id": "8zhmudf8qIn7"
      },
      "source": [
        "# MODELING"
      ]
    },
    {
      "cell_type": "code",
      "execution_count": null,
      "metadata": {
        "id": "JmgFouWLsYOm"
      },
      "outputs": [],
      "source": [
        "df[\"binary_diag\"] = df[\"diag\"].apply(lambda row : \"non-COPD\" if row != \"COPD\" else row)"
      ]
    },
    {
      "cell_type": "markdown",
      "metadata": {
        "id": "9-zsHIjWjR-6"
      },
      "source": [
        "## LSTM using MFCC only"
      ]
    },
    {
      "cell_type": "code",
      "execution_count": null,
      "metadata": {
        "colab": {
          "base_uri": "https://localhost:8080/",
          "height": 240
        },
        "id": "NctIooPkOJ2P",
        "outputId": "0c470caf-c7ed-4733-bc09-a37ec9cae24f"
      },
      "outputs": [
        {
          "ename": "ValueError",
          "evalue": "ignored",
          "output_type": "error",
          "traceback": [
            "\u001b[0;31m---------------------------------------------------------------------------\u001b[0m",
            "\u001b[0;31mValueError\u001b[0m                                Traceback (most recent call last)",
            "\u001b[0;32m<ipython-input-49-5796e23f8989>\u001b[0m in \u001b[0;36m<module>\u001b[0;34m\u001b[0m\n\u001b[1;32m     14\u001b[0m \u001b[0mX_train\u001b[0m\u001b[0;34m,\u001b[0m \u001b[0mX_test\u001b[0m\u001b[0;34m,\u001b[0m \u001b[0my_train\u001b[0m\u001b[0;34m,\u001b[0m \u001b[0my_test\u001b[0m \u001b[0;34m=\u001b[0m \u001b[0mtrain_test_split\u001b[0m\u001b[0;34m(\u001b[0m\u001b[0mX\u001b[0m\u001b[0;34m,\u001b[0m \u001b[0my\u001b[0m\u001b[0;34m,\u001b[0m \u001b[0mtest_size\u001b[0m \u001b[0;34m=\u001b[0m \u001b[0;36m0.33\u001b[0m\u001b[0;34m,\u001b[0m \u001b[0mrandom_state\u001b[0m \u001b[0;34m=\u001b[0m \u001b[0;36m42\u001b[0m\u001b[0;34m)\u001b[0m\u001b[0;34m\u001b[0m\u001b[0;34m\u001b[0m\u001b[0m\n\u001b[1;32m     15\u001b[0m \u001b[0;34m\u001b[0m\u001b[0m\n\u001b[0;32m---> 16\u001b[0;31m \u001b[0mX_train\u001b[0m \u001b[0;34m=\u001b[0m \u001b[0mX_train\u001b[0m\u001b[0;34m.\u001b[0m\u001b[0mreshape\u001b[0m\u001b[0;34m(\u001b[0m\u001b[0mX_train\u001b[0m\u001b[0;34m.\u001b[0m\u001b[0mshape\u001b[0m\u001b[0;34m[\u001b[0m\u001b[0;36m0\u001b[0m\u001b[0;34m]\u001b[0m\u001b[0;34m,\u001b[0m\u001b[0mX_train\u001b[0m\u001b[0;34m.\u001b[0m\u001b[0mshape\u001b[0m\u001b[0;34m[\u001b[0m\u001b[0;36m1\u001b[0m\u001b[0;34m]\u001b[0m\u001b[0;34m,\u001b[0m \u001b[0;36m1\u001b[0m\u001b[0;34m)\u001b[0m\u001b[0;34m\u001b[0m\u001b[0;34m\u001b[0m\u001b[0m\n\u001b[0m\u001b[1;32m     17\u001b[0m \u001b[0my_train\u001b[0m \u001b[0;34m=\u001b[0m \u001b[0my_train\u001b[0m\u001b[0;34m.\u001b[0m\u001b[0mreshape\u001b[0m\u001b[0;34m(\u001b[0m\u001b[0my_train\u001b[0m\u001b[0;34m.\u001b[0m\u001b[0mshape\u001b[0m\u001b[0;34m[\u001b[0m\u001b[0;36m0\u001b[0m\u001b[0;34m]\u001b[0m\u001b[0;34m,\u001b[0m\u001b[0my_train\u001b[0m\u001b[0;34m.\u001b[0m\u001b[0mshape\u001b[0m\u001b[0;34m[\u001b[0m\u001b[0;36m1\u001b[0m\u001b[0;34m]\u001b[0m\u001b[0;34m)\u001b[0m\u001b[0;34m\u001b[0m\u001b[0;34m\u001b[0m\u001b[0m\n\u001b[1;32m     18\u001b[0m \u001b[0;31m#y_train = y_train.reshape(y_train.shape[0],1, 1)\u001b[0m\u001b[0;34m\u001b[0m\u001b[0;34m\u001b[0m\u001b[0;34m\u001b[0m\u001b[0m\n",
            "\u001b[0;31mValueError\u001b[0m: cannot reshape array of size 14571340 into shape (2813,20,1)"
          ]
        }
      ],
      "source": [
        "#Feature\n",
        "X = np.array(df[\"mfcc\"].apply(lambda row : tf.convert_to_tensor(np.array(row), dtype=float)).to_list())\n",
        "#X = tf.convert_to_tensor(np.array(final[\"data\"].to_list()))\n",
        "#X = [array for array in final[\"data\"]]\n",
        "\n",
        "#Target\n",
        "y = np.array(df[\"binary_diag\"].to_list())\n",
        "labelencoder = LabelEncoder()\n",
        "y = to_categorical(labelencoder.fit_transform(y)) #similar with get_dummies function in pandas\n",
        "#y = labelencoder.fit_transform(y)\n",
        "\n",
        "#Train-Test Split\n",
        "\n",
        "X_train, X_test, y_train, y_test = train_test_split(X, y, test_size = 0.33, random_state = 42)\n",
        "\n",
        "X_train = X_train.reshape(X_train.shape[0],X_train.shape[1], 1)\n",
        "y_train = y_train.reshape(y_train.shape[0],y_train.shape[1])\n",
        "#y_train = y_train.reshape(y_train.shape[0],1, 1)\n",
        "X_test = X_test.reshape(X_test.shape[0],X_test.shape[1], 1)\n",
        "y_test = y_test.reshape(y_test.shape[0],y_test.shape[1])\n",
        "#y_test = y_test.reshape(y_test.shape[0],1, 1)"
      ]
    },
    {
      "cell_type": "code",
      "execution_count": null,
      "metadata": {
        "colab": {
          "base_uri": "https://localhost:8080/"
        },
        "id": "K8jsyI4pOdXM",
        "outputId": "58506b38-80a4-4980-a536-16a38eb16797"
      },
      "outputs": [
        {
          "name": "stdout",
          "output_type": "stream",
          "text": [
            "Training data shape : (154, 40, 1)\n",
            "Training label shape : (154, 4)\n",
            "Validation data shape : (77, 40, 1)\n",
            "Validation label shape : (77, 4)\n"
          ]
        }
      ],
      "source": [
        "print(f\"Training data shape : {X_train.shape}\")\n",
        "print(f\"Training label shape : {y_train.shape}\")\n",
        "print(f\"Validation data shape : {X_test.shape}\")\n",
        "print(f\"Validation label shape : {y_test.shape}\")"
      ]
    },
    {
      "cell_type": "code",
      "execution_count": null,
      "metadata": {
        "colab": {
          "base_uri": "https://localhost:8080/"
        },
        "id": "f5Ju_sIyGL3T",
        "outputId": "ea44e965-6ac0-4356-d66f-aa217e63ffa7"
      },
      "outputs": [
        {
          "name": "stdout",
          "output_type": "stream",
          "text": [
            "Model: \"sequential\"\n",
            "_________________________________________________________________\n",
            " Layer (type)                Output Shape              Param #   \n",
            "=================================================================\n",
            " lstm (LSTM)                 (None, 256)               264192    \n",
            "                                                                 \n",
            " dropout (Dropout)           (None, 256)               0         \n",
            "                                                                 \n",
            " dense (Dense)               (None, 128)               32896     \n",
            "                                                                 \n",
            " dropout_1 (Dropout)         (None, 128)               0         \n",
            "                                                                 \n",
            " dense_1 (Dense)             (None, 64)                8256      \n",
            "                                                                 \n",
            " dropout_2 (Dropout)         (None, 64)                0         \n",
            "                                                                 \n",
            " dense_2 (Dense)             (None, 32)                2080      \n",
            "                                                                 \n",
            " dense_3 (Dense)             (None, 16)                528       \n",
            "                                                                 \n",
            " dense_4 (Dense)             (None, 4)                 68        \n",
            "                                                                 \n",
            "=================================================================\n",
            "Total params: 308,020\n",
            "Trainable params: 308,020\n",
            "Non-trainable params: 0\n",
            "_________________________________________________________________\n"
          ]
        }
      ],
      "source": [
        "import keras\n",
        "from tensorflow.keras.layers import LSTM, Dense,Dropout\n",
        "\n",
        "input_shape=(40,1)\n",
        "\n",
        "model = keras.Sequential()\n",
        "model.add(LSTM(256,input_shape=input_shape))\n",
        "model.add(Dropout(0.2))\n",
        "#model.add(Dense(32, activation='relu'))\n",
        "#model.add(Dropout(0.2))\n",
        "model.add(Dense(128, activation='relu'))\n",
        "model.add(Dropout(0.4))\n",
        "model.add(Dense(64, activation='relu'))\n",
        "model.add(Dropout(0.2))\n",
        "model.add(Dense(32, activation='relu'))\n",
        "model.add(Dense(16, activation='relu'))\n",
        "model.add(Dense(4, activation='softmax')) #output 4\n",
        "\n",
        "model.summary()"
      ]
    },
    {
      "cell_type": "code",
      "execution_count": null,
      "metadata": {
        "colab": {
          "base_uri": "https://localhost:8080/"
        },
        "id": "B67QaSBe1q2K",
        "outputId": "4ab76d08-f563-468d-e258-6a2e8de508c1"
      },
      "outputs": [
        {
          "name": "stdout",
          "output_type": "stream",
          "text": [
            "Model: \"sequential_1\"\n",
            "_________________________________________________________________\n",
            " Layer (type)                Output Shape              Param #   \n",
            "=================================================================\n",
            " lstm_1 (LSTM)               (None, 256)               264192    \n",
            "                                                                 \n",
            " dropout_3 (Dropout)         (None, 256)               0         \n",
            "                                                                 \n",
            " dense_5 (Dense)             (None, 128)               32896     \n",
            "                                                                 \n",
            " dropout_4 (Dropout)         (None, 128)               0         \n",
            "                                                                 \n",
            " dense_6 (Dense)             (None, 64)                8256      \n",
            "                                                                 \n",
            " dropout_5 (Dropout)         (None, 64)                0         \n",
            "                                                                 \n",
            " dense_7 (Dense)             (None, 32)                2080      \n",
            "                                                                 \n",
            " dense_8 (Dense)             (None, 16)                528       \n",
            "                                                                 \n",
            " dense_9 (Dense)             (None, 4)                 68        \n",
            "                                                                 \n",
            "=================================================================\n",
            "Total params: 308,020\n",
            "Trainable params: 308,020\n",
            "Non-trainable params: 0\n",
            "_________________________________________________________________\n"
          ]
        }
      ],
      "source": [
        "import keras\n",
        "from tensorflow.keras.layers import LSTM, Dense,Dropout\n",
        "\n",
        "input_shape=(40,1)\n",
        "\n",
        "model = keras.Sequential()\n",
        "model.add(LSTM(256,input_shape=input_shape))\n",
        "model.add(Dropout(0.2))\n",
        "#model.add(Dense(32, activation='relu'))\n",
        "#model.add(Dropout(0.2))\n",
        "model.add(Dense(128, activation='sigmoid'))\n",
        "model.add(Dropout(0.4))\n",
        "model.add(Dense(64, activation='sigmoid'))\n",
        "model.add(Dropout(0.2))\n",
        "model.add(Dense(32, activation='sigmoid'))\n",
        "model.add(Dense(16, activation='sigmoid'))\n",
        "model.add(Dense(4, activation='softmax')) #output 4\n",
        "\n",
        "model.summary()"
      ]
    },
    {
      "cell_type": "code",
      "execution_count": null,
      "metadata": {
        "id": "pOgfiiAlX8ZT"
      },
      "outputs": [],
      "source": [
        "model.compile(optimizer='adam',loss = 'categorical_crossentropy',metrics=['accuracy'])"
      ]
    },
    {
      "cell_type": "code",
      "execution_count": null,
      "metadata": {
        "colab": {
          "base_uri": "https://localhost:8080/"
        },
        "id": "SeR7UQzXG7oE",
        "outputId": "ce17d66c-e734-40b7-bc35-07bda67e53e2"
      },
      "outputs": [
        {
          "name": "stdout",
          "output_type": "stream",
          "text": [
            "Epoch 1/100\n",
            "3/3 [==============================] - 4s 505ms/step - loss: 1.6053 - accuracy: 0.0974 - val_loss: 1.5396 - val_accuracy: 0.1039\n",
            "Epoch 2/100\n",
            "3/3 [==============================] - 1s 197ms/step - loss: 1.5295 - accuracy: 0.0974 - val_loss: 1.4708 - val_accuracy: 0.1039\n",
            "Epoch 3/100\n",
            "3/3 [==============================] - 1s 197ms/step - loss: 1.4616 - accuracy: 0.0974 - val_loss: 1.4144 - val_accuracy: 0.1039\n",
            "Epoch 4/100\n",
            "3/3 [==============================] - 1s 190ms/step - loss: 1.4059 - accuracy: 0.0974 - val_loss: 1.3710 - val_accuracy: 0.1039\n",
            "Epoch 5/100\n",
            "3/3 [==============================] - 1s 186ms/step - loss: 1.3616 - accuracy: 0.1234 - val_loss: 1.3374 - val_accuracy: 0.5325\n",
            "Epoch 6/100\n",
            "3/3 [==============================] - 1s 185ms/step - loss: 1.3276 - accuracy: 0.4935 - val_loss: 1.3114 - val_accuracy: 0.5325\n",
            "Epoch 7/100\n",
            "3/3 [==============================] - 1s 183ms/step - loss: 1.3022 - accuracy: 0.5390 - val_loss: 1.2908 - val_accuracy: 0.5325\n",
            "Epoch 8/100\n",
            "3/3 [==============================] - 1s 191ms/step - loss: 1.2793 - accuracy: 0.5390 - val_loss: 1.2743 - val_accuracy: 0.5325\n",
            "Epoch 9/100\n",
            "3/3 [==============================] - 1s 196ms/step - loss: 1.2630 - accuracy: 0.5390 - val_loss: 1.2610 - val_accuracy: 0.5325\n",
            "Epoch 10/100\n",
            "3/3 [==============================] - 1s 185ms/step - loss: 1.2474 - accuracy: 0.5390 - val_loss: 1.2502 - val_accuracy: 0.5325\n",
            "Epoch 11/100\n",
            "3/3 [==============================] - 1s 192ms/step - loss: 1.2398 - accuracy: 0.5390 - val_loss: 1.2413 - val_accuracy: 0.5325\n",
            "Epoch 12/100\n",
            "3/3 [==============================] - 1s 184ms/step - loss: 1.2274 - accuracy: 0.5390 - val_loss: 1.2339 - val_accuracy: 0.5325\n",
            "Epoch 13/100\n",
            "3/3 [==============================] - 1s 190ms/step - loss: 1.2212 - accuracy: 0.5390 - val_loss: 1.2277 - val_accuracy: 0.5325\n",
            "Epoch 14/100\n",
            "3/3 [==============================] - 1s 186ms/step - loss: 1.2146 - accuracy: 0.5390 - val_loss: 1.2226 - val_accuracy: 0.5325\n",
            "Epoch 15/100\n",
            "3/3 [==============================] - 1s 191ms/step - loss: 1.2087 - accuracy: 0.5390 - val_loss: 1.2182 - val_accuracy: 0.5325\n",
            "Epoch 16/100\n",
            "3/3 [==============================] - 1s 192ms/step - loss: 1.2050 - accuracy: 0.5390 - val_loss: 1.2146 - val_accuracy: 0.5325\n",
            "Epoch 17/100\n",
            "3/3 [==============================] - 1s 185ms/step - loss: 1.1992 - accuracy: 0.5390 - val_loss: 1.2116 - val_accuracy: 0.5325\n",
            "Epoch 18/100\n",
            "3/3 [==============================] - 1s 202ms/step - loss: 1.1991 - accuracy: 0.5390 - val_loss: 1.2090 - val_accuracy: 0.5325\n",
            "Epoch 19/100\n",
            "3/3 [==============================] - 1s 196ms/step - loss: 1.1932 - accuracy: 0.5390 - val_loss: 1.2069 - val_accuracy: 0.5325\n",
            "Epoch 20/100\n",
            "3/3 [==============================] - 1s 187ms/step - loss: 1.1922 - accuracy: 0.5390 - val_loss: 1.2051 - val_accuracy: 0.5325\n",
            "Epoch 21/100\n",
            "3/3 [==============================] - 1s 191ms/step - loss: 1.1902 - accuracy: 0.5390 - val_loss: 1.2037 - val_accuracy: 0.5325\n",
            "Epoch 22/100\n",
            "3/3 [==============================] - 1s 192ms/step - loss: 1.1893 - accuracy: 0.5390 - val_loss: 1.2025 - val_accuracy: 0.5325\n",
            "Epoch 23/100\n",
            "3/3 [==============================] - 1s 203ms/step - loss: 1.1877 - accuracy: 0.5390 - val_loss: 1.2014 - val_accuracy: 0.5325\n",
            "Epoch 24/100\n",
            "3/3 [==============================] - 1s 181ms/step - loss: 1.1879 - accuracy: 0.5390 - val_loss: 1.2006 - val_accuracy: 0.5325\n",
            "Epoch 25/100\n",
            "3/3 [==============================] - 1s 196ms/step - loss: 1.1869 - accuracy: 0.5390 - val_loss: 1.1999 - val_accuracy: 0.5325\n",
            "Epoch 26/100\n",
            "3/3 [==============================] - 1s 185ms/step - loss: 1.1876 - accuracy: 0.5390 - val_loss: 1.1994 - val_accuracy: 0.5325\n",
            "Epoch 27/100\n",
            "3/3 [==============================] - 1s 184ms/step - loss: 1.1883 - accuracy: 0.5390 - val_loss: 1.1989 - val_accuracy: 0.5325\n",
            "Epoch 28/100\n",
            "3/3 [==============================] - 1s 182ms/step - loss: 1.1852 - accuracy: 0.5390 - val_loss: 1.1986 - val_accuracy: 0.5325\n",
            "Epoch 29/100\n",
            "3/3 [==============================] - 1s 171ms/step - loss: 1.1863 - accuracy: 0.5390 - val_loss: 1.1983 - val_accuracy: 0.5325\n",
            "Epoch 30/100\n",
            "3/3 [==============================] - 1s 183ms/step - loss: 1.1876 - accuracy: 0.5390 - val_loss: 1.1980 - val_accuracy: 0.5325\n",
            "Epoch 31/100\n",
            "3/3 [==============================] - 1s 187ms/step - loss: 1.1853 - accuracy: 0.5390 - val_loss: 1.1977 - val_accuracy: 0.5325\n",
            "Epoch 32/100\n",
            "3/3 [==============================] - 1s 186ms/step - loss: 1.1840 - accuracy: 0.5390 - val_loss: 1.1975 - val_accuracy: 0.5325\n",
            "Epoch 33/100\n",
            "3/3 [==============================] - 1s 175ms/step - loss: 1.1852 - accuracy: 0.5390 - val_loss: 1.1973 - val_accuracy: 0.5325\n",
            "Epoch 34/100\n",
            "3/3 [==============================] - 1s 194ms/step - loss: 1.1851 - accuracy: 0.5390 - val_loss: 1.1972 - val_accuracy: 0.5325\n",
            "Epoch 35/100\n",
            "3/3 [==============================] - 1s 180ms/step - loss: 1.1853 - accuracy: 0.5390 - val_loss: 1.1970 - val_accuracy: 0.5325\n",
            "Epoch 36/100\n",
            "3/3 [==============================] - 1s 185ms/step - loss: 1.1848 - accuracy: 0.5390 - val_loss: 1.1968 - val_accuracy: 0.5325\n",
            "Epoch 37/100\n",
            "3/3 [==============================] - 1s 182ms/step - loss: 1.1838 - accuracy: 0.5390 - val_loss: 1.1967 - val_accuracy: 0.5325\n",
            "Epoch 38/100\n",
            "3/3 [==============================] - 1s 182ms/step - loss: 1.1839 - accuracy: 0.5390 - val_loss: 1.1966 - val_accuracy: 0.5325\n",
            "Epoch 39/100\n",
            "3/3 [==============================] - 1s 178ms/step - loss: 1.1843 - accuracy: 0.5390 - val_loss: 1.1965 - val_accuracy: 0.5325\n",
            "Epoch 40/100\n",
            "3/3 [==============================] - 1s 189ms/step - loss: 1.1838 - accuracy: 0.5390 - val_loss: 1.1964 - val_accuracy: 0.5325\n",
            "Epoch 41/100\n",
            "3/3 [==============================] - 1s 192ms/step - loss: 1.1840 - accuracy: 0.5390 - val_loss: 1.1963 - val_accuracy: 0.5325\n",
            "Epoch 42/100\n",
            "3/3 [==============================] - 1s 190ms/step - loss: 1.1840 - accuracy: 0.5390 - val_loss: 1.1962 - val_accuracy: 0.5325\n",
            "Epoch 43/100\n",
            "3/3 [==============================] - 1s 194ms/step - loss: 1.1849 - accuracy: 0.5390 - val_loss: 1.1961 - val_accuracy: 0.5325\n",
            "Epoch 44/100\n",
            "3/3 [==============================] - 1s 182ms/step - loss: 1.1831 - accuracy: 0.5390 - val_loss: 1.1960 - val_accuracy: 0.5325\n",
            "Epoch 45/100\n",
            "3/3 [==============================] - 1s 193ms/step - loss: 1.1824 - accuracy: 0.5390 - val_loss: 1.1959 - val_accuracy: 0.5325\n",
            "Epoch 46/100\n",
            "3/3 [==============================] - 1s 190ms/step - loss: 1.1817 - accuracy: 0.5390 - val_loss: 1.1959 - val_accuracy: 0.5325\n",
            "Epoch 47/100\n",
            "3/3 [==============================] - 1s 185ms/step - loss: 1.1830 - accuracy: 0.5390 - val_loss: 1.1958 - val_accuracy: 0.5325\n",
            "Epoch 48/100\n",
            "3/3 [==============================] - 1s 186ms/step - loss: 1.1844 - accuracy: 0.5390 - val_loss: 1.1958 - val_accuracy: 0.5325\n",
            "Epoch 49/100\n",
            "3/3 [==============================] - 1s 182ms/step - loss: 1.1831 - accuracy: 0.5390 - val_loss: 1.1957 - val_accuracy: 0.5325\n",
            "Epoch 50/100\n",
            "3/3 [==============================] - 1s 185ms/step - loss: 1.1826 - accuracy: 0.5390 - val_loss: 1.1957 - val_accuracy: 0.5325\n",
            "Epoch 51/100\n",
            "3/3 [==============================] - 1s 190ms/step - loss: 1.1816 - accuracy: 0.5390 - val_loss: 1.1956 - val_accuracy: 0.5325\n",
            "Epoch 52/100\n",
            "3/3 [==============================] - 1s 187ms/step - loss: 1.1835 - accuracy: 0.5390 - val_loss: 1.1956 - val_accuracy: 0.5325\n",
            "Epoch 53/100\n",
            "3/3 [==============================] - 1s 184ms/step - loss: 1.1820 - accuracy: 0.5390 - val_loss: 1.1955 - val_accuracy: 0.5325\n",
            "Epoch 54/100\n",
            "3/3 [==============================] - 1s 186ms/step - loss: 1.1822 - accuracy: 0.5390 - val_loss: 1.1955 - val_accuracy: 0.5325\n",
            "Epoch 55/100\n",
            "3/3 [==============================] - 1s 181ms/step - loss: 1.1848 - accuracy: 0.5390 - val_loss: 1.1955 - val_accuracy: 0.5325\n",
            "Epoch 56/100\n",
            "3/3 [==============================] - 1s 188ms/step - loss: 1.1836 - accuracy: 0.5390 - val_loss: 1.1954 - val_accuracy: 0.5325\n",
            "Epoch 57/100\n",
            "3/3 [==============================] - 1s 182ms/step - loss: 1.1816 - accuracy: 0.5390 - val_loss: 1.1954 - val_accuracy: 0.5325\n",
            "Epoch 58/100\n",
            "3/3 [==============================] - 1s 185ms/step - loss: 1.1839 - accuracy: 0.5390 - val_loss: 1.1954 - val_accuracy: 0.5325\n",
            "Epoch 59/100\n",
            "3/3 [==============================] - 1s 196ms/step - loss: 1.1842 - accuracy: 0.5390 - val_loss: 1.1954 - val_accuracy: 0.5325\n",
            "Epoch 60/100\n",
            "3/3 [==============================] - 1s 177ms/step - loss: 1.1818 - accuracy: 0.5390 - val_loss: 1.1954 - val_accuracy: 0.5325\n",
            "Epoch 61/100\n",
            "3/3 [==============================] - 1s 180ms/step - loss: 1.1807 - accuracy: 0.5390 - val_loss: 1.1954 - val_accuracy: 0.5325\n",
            "Epoch 62/100\n",
            "3/3 [==============================] - 1s 188ms/step - loss: 1.1794 - accuracy: 0.5390 - val_loss: 1.1954 - val_accuracy: 0.5325\n",
            "Epoch 63/100\n",
            "3/3 [==============================] - 1s 199ms/step - loss: 1.1839 - accuracy: 0.5390 - val_loss: 1.1954 - val_accuracy: 0.5325\n",
            "Epoch 64/100\n",
            "3/3 [==============================] - 1s 203ms/step - loss: 1.1807 - accuracy: 0.5390 - val_loss: 1.1954 - val_accuracy: 0.5325\n",
            "Epoch 65/100\n",
            "3/3 [==============================] - 1s 181ms/step - loss: 1.1819 - accuracy: 0.5390 - val_loss: 1.1954 - val_accuracy: 0.5325\n",
            "Epoch 66/100\n",
            "3/3 [==============================] - 1s 198ms/step - loss: 1.1837 - accuracy: 0.5390 - val_loss: 1.1954 - val_accuracy: 0.5325\n",
            "Epoch 67/100\n",
            "3/3 [==============================] - 1s 182ms/step - loss: 1.1805 - accuracy: 0.5390 - val_loss: 1.1954 - val_accuracy: 0.5325\n",
            "Epoch 68/100\n",
            "3/3 [==============================] - 1s 193ms/step - loss: 1.1812 - accuracy: 0.5390 - val_loss: 1.1954 - val_accuracy: 0.5325\n",
            "Epoch 69/100\n",
            "3/3 [==============================] - 1s 193ms/step - loss: 1.1822 - accuracy: 0.5390 - val_loss: 1.1954 - val_accuracy: 0.5325\n",
            "Epoch 70/100\n",
            "3/3 [==============================] - 1s 186ms/step - loss: 1.1819 - accuracy: 0.5390 - val_loss: 1.1954 - val_accuracy: 0.5325\n",
            "Epoch 71/100\n",
            "3/3 [==============================] - 1s 182ms/step - loss: 1.1829 - accuracy: 0.5390 - val_loss: 1.1954 - val_accuracy: 0.5325\n",
            "Epoch 72/100\n",
            "3/3 [==============================] - 1s 188ms/step - loss: 1.1827 - accuracy: 0.5390 - val_loss: 1.1954 - val_accuracy: 0.5325\n",
            "Epoch 73/100\n",
            "3/3 [==============================] - 1s 181ms/step - loss: 1.1844 - accuracy: 0.5390 - val_loss: 1.1954 - val_accuracy: 0.5325\n",
            "Epoch 74/100\n",
            "3/3 [==============================] - 1s 188ms/step - loss: 1.1812 - accuracy: 0.5390 - val_loss: 1.1954 - val_accuracy: 0.5325\n",
            "Epoch 75/100\n",
            "3/3 [==============================] - 1s 195ms/step - loss: 1.1790 - accuracy: 0.5390 - val_loss: 1.1954 - val_accuracy: 0.5325\n",
            "Epoch 76/100\n",
            "3/3 [==============================] - 1s 186ms/step - loss: 1.1817 - accuracy: 0.5390 - val_loss: 1.1954 - val_accuracy: 0.5325\n",
            "Epoch 77/100\n",
            "3/3 [==============================] - 1s 212ms/step - loss: 1.1831 - accuracy: 0.5390 - val_loss: 1.1954 - val_accuracy: 0.5325\n",
            "Epoch 78/100\n",
            "3/3 [==============================] - 1s 181ms/step - loss: 1.1824 - accuracy: 0.5390 - val_loss: 1.1954 - val_accuracy: 0.5325\n",
            "Epoch 79/100\n",
            "3/3 [==============================] - 1s 188ms/step - loss: 1.1812 - accuracy: 0.5390 - val_loss: 1.1953 - val_accuracy: 0.5325\n",
            "Epoch 80/100\n",
            "3/3 [==============================] - 1s 179ms/step - loss: 1.1821 - accuracy: 0.5390 - val_loss: 1.1953 - val_accuracy: 0.5325\n",
            "Epoch 81/100\n",
            "3/3 [==============================] - 1s 196ms/step - loss: 1.1823 - accuracy: 0.5390 - val_loss: 1.1953 - val_accuracy: 0.5325\n",
            "Epoch 82/100\n",
            "3/3 [==============================] - 1s 186ms/step - loss: 1.1819 - accuracy: 0.5390 - val_loss: 1.1953 - val_accuracy: 0.5325\n",
            "Epoch 83/100\n",
            "3/3 [==============================] - 1s 176ms/step - loss: 1.1819 - accuracy: 0.5390 - val_loss: 1.1953 - val_accuracy: 0.5325\n",
            "Epoch 84/100\n",
            "3/3 [==============================] - 1s 189ms/step - loss: 1.1827 - accuracy: 0.5390 - val_loss: 1.1952 - val_accuracy: 0.5325\n",
            "Epoch 85/100\n",
            "3/3 [==============================] - 1s 184ms/step - loss: 1.1813 - accuracy: 0.5390 - val_loss: 1.1952 - val_accuracy: 0.5325\n",
            "Epoch 86/100\n",
            "3/3 [==============================] - 1s 191ms/step - loss: 1.1820 - accuracy: 0.5390 - val_loss: 1.1952 - val_accuracy: 0.5325\n",
            "Epoch 87/100\n",
            "3/3 [==============================] - 1s 187ms/step - loss: 1.1824 - accuracy: 0.5390 - val_loss: 1.1952 - val_accuracy: 0.5325\n",
            "Epoch 88/100\n",
            "3/3 [==============================] - 1s 187ms/step - loss: 1.1803 - accuracy: 0.5390 - val_loss: 1.1953 - val_accuracy: 0.5325\n",
            "Epoch 89/100\n",
            "3/3 [==============================] - 1s 204ms/step - loss: 1.1813 - accuracy: 0.5390 - val_loss: 1.1953 - val_accuracy: 0.5325\n",
            "Epoch 90/100\n",
            "3/3 [==============================] - 1s 200ms/step - loss: 1.1822 - accuracy: 0.5390 - val_loss: 1.1953 - val_accuracy: 0.5325\n",
            "Epoch 91/100\n",
            "3/3 [==============================] - 1s 191ms/step - loss: 1.1810 - accuracy: 0.5390 - val_loss: 1.1952 - val_accuracy: 0.5325\n",
            "Epoch 92/100\n",
            "3/3 [==============================] - 1s 190ms/step - loss: 1.1821 - accuracy: 0.5390 - val_loss: 1.1952 - val_accuracy: 0.5325\n",
            "Epoch 93/100\n",
            "3/3 [==============================] - 1s 193ms/step - loss: 1.1826 - accuracy: 0.5390 - val_loss: 1.1952 - val_accuracy: 0.5325\n",
            "Epoch 94/100\n",
            "3/3 [==============================] - 1s 190ms/step - loss: 1.1819 - accuracy: 0.5390 - val_loss: 1.1952 - val_accuracy: 0.5325\n",
            "Epoch 95/100\n",
            "3/3 [==============================] - 1s 188ms/step - loss: 1.1842 - accuracy: 0.5390 - val_loss: 1.1952 - val_accuracy: 0.5325\n",
            "Epoch 96/100\n",
            "3/3 [==============================] - 1s 190ms/step - loss: 1.1816 - accuracy: 0.5390 - val_loss: 1.1952 - val_accuracy: 0.5325\n",
            "Epoch 97/100\n",
            "3/3 [==============================] - 1s 187ms/step - loss: 1.1817 - accuracy: 0.5390 - val_loss: 1.1952 - val_accuracy: 0.5325\n",
            "Epoch 98/100\n",
            "3/3 [==============================] - 1s 205ms/step - loss: 1.1820 - accuracy: 0.5390 - val_loss: 1.1953 - val_accuracy: 0.5325\n",
            "Epoch 99/100\n",
            "3/3 [==============================] - 1s 190ms/step - loss: 1.1845 - accuracy: 0.5390 - val_loss: 1.1953 - val_accuracy: 0.5325\n",
            "Epoch 100/100\n",
            "3/3 [==============================] - 1s 185ms/step - loss: 1.1821 - accuracy: 0.5390 - val_loss: 1.1953 - val_accuracy: 0.5325\n"
          ]
        }
      ],
      "source": [
        "history = model.fit(X_train, y_train, epochs=100, batch_size = 72, validation_data=(X_test, y_test), shuffle=False)"
      ]
    },
    {
      "cell_type": "code",
      "execution_count": null,
      "metadata": {
        "id": "IfYUvSxljVXW"
      },
      "outputs": [],
      "source": []
    },
    {
      "cell_type": "markdown",
      "metadata": {
        "id": "mMRb0HwP1nWv"
      },
      "source": [
        "## CNN Using MFCC ONLY"
      ]
    },
    {
      "cell_type": "code",
      "execution_count": null,
      "metadata": {
        "id": "voh8yUQYQ1ws"
      },
      "outputs": [],
      "source": [
        "df[\"binary_diag\"] = df[\"diag\"].apply(lambda row : \"non-COPD\" if row != \"COPD\" else row)"
      ]
    },
    {
      "cell_type": "markdown",
      "metadata": {
        "id": "dlwC4X3wTkY8"
      },
      "source": [
        "### With Overall Imbalanced Data"
      ]
    },
    {
      "cell_type": "code",
      "execution_count": null,
      "metadata": {
        "colab": {
          "base_uri": "https://localhost:8080/",
          "height": 424
        },
        "id": "7j8KJl7WqfnY",
        "outputId": "f3fa5baf-94f4-4cbb-9cd3-cbc793bc00cc"
      },
      "outputs": [
        {
          "data": {
            "text/html": [
              "\n",
              "  <div id=\"df-90055bd6-6ac6-4119-92a8-ad49baa7a2b7\">\n",
              "    <div class=\"colab-df-container\">\n",
              "      <div>\n",
              "<style scoped>\n",
              "    .dataframe tbody tr th:only-of-type {\n",
              "        vertical-align: middle;\n",
              "    }\n",
              "\n",
              "    .dataframe tbody tr th {\n",
              "        vertical-align: top;\n",
              "    }\n",
              "\n",
              "    .dataframe thead th {\n",
              "        text-align: right;\n",
              "    }\n",
              "</style>\n",
              "<table border=\"1\" class=\"dataframe\">\n",
              "  <thead>\n",
              "    <tr style=\"text-align: right;\">\n",
              "      <th></th>\n",
              "      <th>mfcc</th>\n",
              "      <th>binary_diag</th>\n",
              "    </tr>\n",
              "  </thead>\n",
              "  <tbody>\n",
              "    <tr>\n",
              "      <th>0</th>\n",
              "      <td>[[-613.4402, -613.4402, -613.4402, -613.4402, ...</td>\n",
              "      <td>non-COPD</td>\n",
              "    </tr>\n",
              "    <tr>\n",
              "      <th>1</th>\n",
              "      <td>[[-621.05994, -621.05994, -621.05994, -621.059...</td>\n",
              "      <td>non-COPD</td>\n",
              "    </tr>\n",
              "    <tr>\n",
              "      <th>2</th>\n",
              "      <td>[[-619.62665, -619.62665, -619.62665, -619.626...</td>\n",
              "      <td>non-COPD</td>\n",
              "    </tr>\n",
              "    <tr>\n",
              "      <th>3</th>\n",
              "      <td>[[-629.2678, -629.2678, -629.2678, -629.2678, ...</td>\n",
              "      <td>non-COPD</td>\n",
              "    </tr>\n",
              "    <tr>\n",
              "      <th>4</th>\n",
              "      <td>[[-655.7785, -655.7785, -655.7785, -655.7785, ...</td>\n",
              "      <td>non-COPD</td>\n",
              "    </tr>\n",
              "    <tr>\n",
              "      <th>...</th>\n",
              "      <td>...</td>\n",
              "      <td>...</td>\n",
              "    </tr>\n",
              "    <tr>\n",
              "      <th>0</th>\n",
              "      <td>[[-613.4402, -613.4402, -613.4402, -613.4402, ...</td>\n",
              "      <td>COPD</td>\n",
              "    </tr>\n",
              "    <tr>\n",
              "      <th>0</th>\n",
              "      <td>[[-613.4402, -613.4402, -613.4402, -613.4402, ...</td>\n",
              "      <td>COPD</td>\n",
              "    </tr>\n",
              "    <tr>\n",
              "      <th>0</th>\n",
              "      <td>[[-613.4402, -613.4402, -613.4402, -613.4402, ...</td>\n",
              "      <td>COPD</td>\n",
              "    </tr>\n",
              "    <tr>\n",
              "      <th>4</th>\n",
              "      <td>[[-655.7785, -655.7785, -655.7785, -655.7785, ...</td>\n",
              "      <td>COPD</td>\n",
              "    </tr>\n",
              "    <tr>\n",
              "      <th>15</th>\n",
              "      <td>[[-660.4171, -660.4171, -660.4171, -660.4171, ...</td>\n",
              "      <td>COPD</td>\n",
              "    </tr>\n",
              "  </tbody>\n",
              "</table>\n",
              "<p>1426 rows × 2 columns</p>\n",
              "</div>\n",
              "      <button class=\"colab-df-convert\" onclick=\"convertToInteractive('df-90055bd6-6ac6-4119-92a8-ad49baa7a2b7')\"\n",
              "              title=\"Convert this dataframe to an interactive table.\"\n",
              "              style=\"display:none;\">\n",
              "        \n",
              "  <svg xmlns=\"http://www.w3.org/2000/svg\" height=\"24px\"viewBox=\"0 0 24 24\"\n",
              "       width=\"24px\">\n",
              "    <path d=\"M0 0h24v24H0V0z\" fill=\"none\"/>\n",
              "    <path d=\"M18.56 5.44l.94 2.06.94-2.06 2.06-.94-2.06-.94-.94-2.06-.94 2.06-2.06.94zm-11 1L8.5 8.5l.94-2.06 2.06-.94-2.06-.94L8.5 2.5l-.94 2.06-2.06.94zm10 10l.94 2.06.94-2.06 2.06-.94-2.06-.94-.94-2.06-.94 2.06-2.06.94z\"/><path d=\"M17.41 7.96l-1.37-1.37c-.4-.4-.92-.59-1.43-.59-.52 0-1.04.2-1.43.59L10.3 9.45l-7.72 7.72c-.78.78-.78 2.05 0 2.83L4 21.41c.39.39.9.59 1.41.59.51 0 1.02-.2 1.41-.59l7.78-7.78 2.81-2.81c.8-.78.8-2.07 0-2.86zM5.41 20L4 18.59l7.72-7.72 1.47 1.35L5.41 20z\"/>\n",
              "  </svg>\n",
              "      </button>\n",
              "      \n",
              "  <style>\n",
              "    .colab-df-container {\n",
              "      display:flex;\n",
              "      flex-wrap:wrap;\n",
              "      gap: 12px;\n",
              "    }\n",
              "\n",
              "    .colab-df-convert {\n",
              "      background-color: #E8F0FE;\n",
              "      border: none;\n",
              "      border-radius: 50%;\n",
              "      cursor: pointer;\n",
              "      display: none;\n",
              "      fill: #1967D2;\n",
              "      height: 32px;\n",
              "      padding: 0 0 0 0;\n",
              "      width: 32px;\n",
              "    }\n",
              "\n",
              "    .colab-df-convert:hover {\n",
              "      background-color: #E2EBFA;\n",
              "      box-shadow: 0px 1px 2px rgba(60, 64, 67, 0.3), 0px 1px 3px 1px rgba(60, 64, 67, 0.15);\n",
              "      fill: #174EA6;\n",
              "    }\n",
              "\n",
              "    [theme=dark] .colab-df-convert {\n",
              "      background-color: #3B4455;\n",
              "      fill: #D2E3FC;\n",
              "    }\n",
              "\n",
              "    [theme=dark] .colab-df-convert:hover {\n",
              "      background-color: #434B5C;\n",
              "      box-shadow: 0px 1px 3px 1px rgba(0, 0, 0, 0.15);\n",
              "      filter: drop-shadow(0px 1px 2px rgba(0, 0, 0, 0.3));\n",
              "      fill: #FFFFFF;\n",
              "    }\n",
              "  </style>\n",
              "\n",
              "      <script>\n",
              "        const buttonEl =\n",
              "          document.querySelector('#df-90055bd6-6ac6-4119-92a8-ad49baa7a2b7 button.colab-df-convert');\n",
              "        buttonEl.style.display =\n",
              "          google.colab.kernel.accessAllowed ? 'block' : 'none';\n",
              "\n",
              "        async function convertToInteractive(key) {\n",
              "          const element = document.querySelector('#df-90055bd6-6ac6-4119-92a8-ad49baa7a2b7');\n",
              "          const dataTable =\n",
              "            await google.colab.kernel.invokeFunction('convertToInteractive',\n",
              "                                                     [key], {});\n",
              "          if (!dataTable) return;\n",
              "\n",
              "          const docLinkHtml = 'Like what you see? Visit the ' +\n",
              "            '<a target=\"_blank\" href=https://colab.research.google.com/notebooks/data_table.ipynb>data table notebook</a>'\n",
              "            + ' to learn more about interactive tables.';\n",
              "          element.innerHTML = '';\n",
              "          dataTable['output_type'] = 'display_data';\n",
              "          await google.colab.output.renderOutput(dataTable, element);\n",
              "          const docLink = document.createElement('div');\n",
              "          docLink.innerHTML = docLinkHtml;\n",
              "          element.appendChild(docLink);\n",
              "        }\n",
              "      </script>\n",
              "    </div>\n",
              "  </div>\n",
              "  "
            ],
            "text/plain": [
              "                                                 mfcc binary_diag\n",
              "0   [[-613.4402, -613.4402, -613.4402, -613.4402, ...    non-COPD\n",
              "1   [[-621.05994, -621.05994, -621.05994, -621.059...    non-COPD\n",
              "2   [[-619.62665, -619.62665, -619.62665, -619.626...    non-COPD\n",
              "3   [[-629.2678, -629.2678, -629.2678, -629.2678, ...    non-COPD\n",
              "4   [[-655.7785, -655.7785, -655.7785, -655.7785, ...    non-COPD\n",
              "..                                                ...         ...\n",
              "0   [[-613.4402, -613.4402, -613.4402, -613.4402, ...        COPD\n",
              "0   [[-613.4402, -613.4402, -613.4402, -613.4402, ...        COPD\n",
              "0   [[-613.4402, -613.4402, -613.4402, -613.4402, ...        COPD\n",
              "4   [[-655.7785, -655.7785, -655.7785, -655.7785, ...        COPD\n",
              "15  [[-660.4171, -660.4171, -660.4171, -660.4171, ...        COPD\n",
              "\n",
              "[1426 rows x 2 columns]"
            ]
          },
          "execution_count": 43,
          "metadata": {},
          "output_type": "execute_result"
        }
      ],
      "source": [
        "'''\n",
        "60-40 Train Test Data [UNDERSAMPLE]\n",
        "'''\n",
        "temp_df = pd.concat((df[df[\"binary_diag\"] != \"COPD\"][[\"mfcc\" , \"binary_diag\"]] , df[df[\"binary_diag\"] == \"COPD\"][[\"mfcc\" , \"binary_diag\"]].sample(len(df[df[\"binary_diag\"] != \"COPD\"]), random_state = 42)))\n",
        "temp_df"
      ]
    },
    {
      "cell_type": "code",
      "execution_count": null,
      "metadata": {
        "id": "NwrMOCg0TWQt"
      },
      "outputs": [],
      "source": [
        "#Feature\n",
        "X = np.array(temp_df[\"mfcc\"].apply(lambda row : tf.convert_to_tensor(np.array(row), dtype=float)).to_list())\n",
        "\n",
        "#Target\n",
        "binary_diag_dict = {'non-COPD': 0, 'COPD': 1} #mapping dictionary\n",
        "inv_diag_dict = {v: k for k, v in binary_diag_dict.items()} #inverse mapping\n",
        "y = np.array(temp_df[\"binary_diag\"].map(binary_diag_dict).to_list())\n",
        "\n",
        "#Train-Test Split, use stratify to handle imbalanced data on the dataset\n",
        "X_train, X_test, y_train, y_test = train_test_split(X, y, test_size = 0.33, random_state = 42)\n",
        "#X_train, X_test, y_train, y_test = train_test_split(X, y, test_size = 0.33, random_state = 42)"
      ]
    },
    {
      "cell_type": "code",
      "execution_count": null,
      "metadata": {
        "colab": {
          "base_uri": "https://localhost:8080/"
        },
        "id": "USBiRjmipL0-",
        "outputId": "81458ddb-f49a-4a91-92bc-62119de3d553"
      },
      "outputs": [
        {
          "name": "stdout",
          "output_type": "stream",
          "text": [
            "Train :\n",
            "non-COPD    50.157068\n",
            "COPD        49.842932\n",
            "dtype: float64\n",
            "\n",
            "Test: \n",
            "COPD        50.318471\n",
            "non-COPD    49.681529\n",
            "dtype: float64\n"
          ]
        }
      ],
      "source": [
        "'''\n",
        "Test Proportion of Train and Test\n",
        "'''\n",
        "print(\"Train :\")\n",
        "print(pd.Series(y_train).map(inv_diag_dict).value_counts()  / len(y_train) * 100)\n",
        "print(\"\\nTest: \")\n",
        "print(pd.Series(y_test).map(inv_diag_dict).value_counts()  / len(y_test) * 100)"
      ]
    },
    {
      "cell_type": "code",
      "execution_count": null,
      "metadata": {
        "colab": {
          "base_uri": "https://localhost:8080/"
        },
        "id": "iC83EbR0TWQv",
        "outputId": "103bf3a1-0ffa-4155-b4f6-bda8ca74722a"
      },
      "outputs": [
        {
          "name": "stdout",
          "output_type": "stream",
          "text": [
            "Model: \"mfccModel\"\n",
            "_________________________________________________________________\n",
            " Layer (type)                Output Shape              Param #   \n",
            "=================================================================\n",
            " mfccInput (InputLayer)      [(None, 20, 259, 1)]      0         \n",
            "                                                                 \n",
            " conv2d (Conv2D)             (None, 20, 87, 32)        832       \n",
            "                                                                 \n",
            " batch_normalization (BatchN  (None, 20, 87, 32)       128       \n",
            " ormalization)                                                   \n",
            "                                                                 \n",
            " activation (Activation)     (None, 20, 87, 32)        0         \n",
            "                                                                 \n",
            " max_pooling2d (MaxPooling2D  (None, 10, 43, 32)       0         \n",
            " )                                                               \n",
            "                                                                 \n",
            " conv2d_1 (Conv2D)           (None, 10, 22, 64)        18496     \n",
            "                                                                 \n",
            " batch_normalization_1 (Batc  (None, 10, 22, 64)       256       \n",
            " hNormalization)                                                 \n",
            "                                                                 \n",
            " activation_1 (Activation)   (None, 10, 22, 64)        0         \n",
            "                                                                 \n",
            " max_pooling2d_1 (MaxPooling  (None, 5, 11, 64)        0         \n",
            " 2D)                                                             \n",
            "                                                                 \n",
            " conv2d_2 (Conv2D)           (None, 5, 11, 96)         24672     \n",
            "                                                                 \n",
            " batch_normalization_2 (Batc  (None, 5, 11, 96)        384       \n",
            " hNormalization)                                                 \n",
            "                                                                 \n",
            " activation_2 (Activation)   (None, 5, 11, 96)         0         \n",
            "                                                                 \n",
            " max_pooling2d_2 (MaxPooling  (None, 2, 5, 96)         0         \n",
            " 2D)                                                             \n",
            "                                                                 \n",
            " conv2d_3 (Conv2D)           (None, 2, 5, 128)         49280     \n",
            "                                                                 \n",
            " batch_normalization_3 (Batc  (None, 2, 5, 128)        512       \n",
            " hNormalization)                                                 \n",
            "                                                                 \n",
            " activation_3 (Activation)   (None, 2, 5, 128)         0         \n",
            "                                                                 \n",
            " global_max_pooling2d (Globa  (None, 128)              0         \n",
            " lMaxPooling2D)                                                  \n",
            "                                                                 \n",
            " dense (Dense)               (None, 50)                6450      \n",
            "                                                                 \n",
            " dropout_1 (Dropout)         (None, 50)                0         \n",
            "                                                                 \n",
            " dense_1 (Dense)             (None, 25)                1275      \n",
            "                                                                 \n",
            " dropout_2 (Dropout)         (None, 25)                0         \n",
            "                                                                 \n",
            " dense_2 (Dense)             (None, 2)                 52        \n",
            "                                                                 \n",
            "=================================================================\n",
            "Total params: 102,337\n",
            "Trainable params: 101,697\n",
            "Non-trainable params: 640\n",
            "_________________________________________________________________\n"
          ]
        }
      ],
      "source": [
        "'''\n",
        "CNN MODEL\n",
        "'''\n",
        "from tensorflow import keras\n",
        "\n",
        "mfcc_input=keras.layers.Input(shape=(20,259,1),name=\"mfccInput\")\n",
        "x=keras.layers.Conv2D(32,5,strides=(1,3),padding='same')(mfcc_input)\n",
        "x=keras.layers.BatchNormalization()(x)\n",
        "x=keras.layers.Activation(keras.activations.relu)(x)\n",
        "x=keras.layers.MaxPooling2D(pool_size=2,padding='valid')(x)\n",
        "\n",
        "x=keras.layers.Conv2D(64,3,strides=(1,2),padding='same')(x)\n",
        "x=keras.layers.BatchNormalization()(x)\n",
        "x=keras.layers.Activation(keras.activations.relu)(x)\n",
        "x=keras.layers.MaxPooling2D(pool_size=2,padding='valid')(x)\n",
        "\n",
        "x=keras.layers.Conv2D(96,2,padding='same')(x)\n",
        "x=keras.layers.BatchNormalization()(x)\n",
        "x=keras.layers.Activation(keras.activations.relu)(x)\n",
        "x=keras.layers.MaxPooling2D(pool_size=2,padding='valid')(x)\n",
        "\n",
        "x=keras.layers.Conv2D(128,2,padding='same')(x)\n",
        "x=keras.layers.BatchNormalization()(x)\n",
        "x=keras.layers.Activation(keras.activations.relu)(x)\n",
        "x=keras.layers.GlobalMaxPooling2D()(x)\n",
        "\n",
        "hidden=keras.layers.Dropout(0.2)(x)\n",
        "hidden=keras.layers.Dense(50,activation='relu')(x)\n",
        "hidden=keras.layers.Dropout(0.3)(hidden)\n",
        "hidden=keras.layers.Dense(25,activation='relu')(hidden)\n",
        "hidden=keras.layers.Dropout(0.3)(hidden)\n",
        "mfcc_output=keras.layers.Dense(2,activation='softmax')(hidden)\n",
        "\n",
        "mfcc_model=keras.Model(mfcc_input, mfcc_output, name=\"mfccModel\")\n",
        "mfcc_model.summary()"
      ]
    },
    {
      "cell_type": "code",
      "execution_count": null,
      "metadata": {
        "colab": {
          "base_uri": "https://localhost:8080/"
        },
        "id": "FWvTgloVTWQv",
        "outputId": "b7c7bba1-7c36-4aaa-af1b-ff98bae9c94b"
      },
      "outputs": [
        {
          "name": "stdout",
          "output_type": "stream",
          "text": [
            "Epoch 1/50\n",
            "30/30 [==============================] - ETA: 0s - loss: 0.8388 - accuracy: 0.5026\n",
            "Epoch 1: val_loss improved from inf to 0.69612, saving model to /content/drive/MyDrive/Tugas Akhir/DATA + DESCRIPTION/Sound Database/MODELS/MFCC_CNN_50-50.epoch01-loss0.70.hdf5\n",
            "30/30 [==============================] - 7s 135ms/step - loss: 0.8388 - accuracy: 0.5026 - val_loss: 0.6961 - val_accuracy: 0.5032\n",
            "Epoch 2/50\n",
            "30/30 [==============================] - ETA: 0s - loss: 0.7166 - accuracy: 0.4859\n",
            "Epoch 2: val_loss improved from 0.69612 to 0.69336, saving model to /content/drive/MyDrive/Tugas Akhir/DATA + DESCRIPTION/Sound Database/MODELS/MFCC_CNN_50-50.epoch02-loss0.69.hdf5\n",
            "30/30 [==============================] - 3s 117ms/step - loss: 0.7166 - accuracy: 0.4859 - val_loss: 0.6934 - val_accuracy: 0.4968\n",
            "Epoch 3/50\n",
            "30/30 [==============================] - ETA: 0s - loss: 0.7016 - accuracy: 0.4942\n",
            "Epoch 3: val_loss did not improve from 0.69336\n",
            "30/30 [==============================] - 3s 116ms/step - loss: 0.7016 - accuracy: 0.4942 - val_loss: 0.7134 - val_accuracy: 0.4968\n",
            "Epoch 4/50\n",
            "30/30 [==============================] - ETA: 0s - loss: 0.7024 - accuracy: 0.5037\n",
            "Epoch 4: val_loss did not improve from 0.69336\n",
            "30/30 [==============================] - 4s 122ms/step - loss: 0.7024 - accuracy: 0.5037 - val_loss: 0.7158 - val_accuracy: 0.4968\n",
            "Epoch 5/50\n",
            "30/30 [==============================] - ETA: 0s - loss: 0.6920 - accuracy: 0.5058\n",
            "Epoch 5: val_loss did not improve from 0.69336\n",
            "30/30 [==============================] - 4s 121ms/step - loss: 0.6920 - accuracy: 0.5058 - val_loss: 0.6954 - val_accuracy: 0.4968\n",
            "Epoch 6/50\n",
            "30/30 [==============================] - ETA: 0s - loss: 0.6961 - accuracy: 0.5131\n",
            "Epoch 6: val_loss improved from 0.69336 to 0.69184, saving model to /content/drive/MyDrive/Tugas Akhir/DATA + DESCRIPTION/Sound Database/MODELS/MFCC_CNN_50-50.epoch06-loss0.69.hdf5\n",
            "30/30 [==============================] - 4s 120ms/step - loss: 0.6961 - accuracy: 0.5131 - val_loss: 0.6918 - val_accuracy: 0.5223\n",
            "Epoch 7/50\n",
            "30/30 [==============================] - ETA: 0s - loss: 0.6958 - accuracy: 0.4921\n",
            "Epoch 7: val_loss did not improve from 0.69184\n",
            "30/30 [==============================] - 3s 111ms/step - loss: 0.6958 - accuracy: 0.4921 - val_loss: 0.6939 - val_accuracy: 0.4968\n",
            "Epoch 8/50\n",
            "30/30 [==============================] - ETA: 0s - loss: 0.6950 - accuracy: 0.4963\n",
            "Epoch 8: val_loss did not improve from 0.69184\n",
            "30/30 [==============================] - 3s 117ms/step - loss: 0.6950 - accuracy: 0.4963 - val_loss: 0.6943 - val_accuracy: 0.5032\n",
            "Epoch 9/50\n",
            "30/30 [==============================] - ETA: 0s - loss: 0.6967 - accuracy: 0.5058\n",
            "Epoch 9: val_loss did not improve from 0.69184\n",
            "30/30 [==============================] - 3s 117ms/step - loss: 0.6967 - accuracy: 0.5058 - val_loss: 0.6928 - val_accuracy: 0.5329\n",
            "Epoch 10/50\n",
            "30/30 [==============================] - ETA: 0s - loss: 0.6959 - accuracy: 0.4880\n",
            "Epoch 10: val_loss did not improve from 0.69184\n",
            "30/30 [==============================] - 3s 113ms/step - loss: 0.6959 - accuracy: 0.4880 - val_loss: 0.6928 - val_accuracy: 0.5329\n",
            "Epoch 11/50\n",
            "30/30 [==============================] - ETA: 0s - loss: 0.6937 - accuracy: 0.4984\n",
            "Epoch 11: val_loss did not improve from 0.69184\n",
            "30/30 [==============================] - 3s 114ms/step - loss: 0.6937 - accuracy: 0.4984 - val_loss: 0.6926 - val_accuracy: 0.5159\n",
            "Epoch 12/50\n",
            "30/30 [==============================] - ETA: 0s - loss: 0.6931 - accuracy: 0.5047\n",
            "Epoch 12: val_loss did not improve from 0.69184\n",
            "30/30 [==============================] - 4s 120ms/step - loss: 0.6931 - accuracy: 0.5047 - val_loss: 0.6927 - val_accuracy: 0.5265\n",
            "Epoch 13/50\n",
            "30/30 [==============================] - ETA: 0s - loss: 0.6931 - accuracy: 0.5058\n",
            "Epoch 13: val_loss did not improve from 0.69184\n",
            "30/30 [==============================] - 3s 114ms/step - loss: 0.6931 - accuracy: 0.5058 - val_loss: 0.6928 - val_accuracy: 0.5223\n",
            "Epoch 14/50\n",
            "30/30 [==============================] - ETA: 0s - loss: 0.6931 - accuracy: 0.5016\n",
            "Epoch 14: val_loss did not improve from 0.69184\n",
            "30/30 [==============================] - 3s 113ms/step - loss: 0.6931 - accuracy: 0.5016 - val_loss: 0.6931 - val_accuracy: 0.4820\n",
            "Epoch 15/50\n",
            "30/30 [==============================] - ETA: 0s - loss: 0.6932 - accuracy: 0.4901\n",
            "Epoch 15: val_loss did not improve from 0.69184\n",
            "30/30 [==============================] - 3s 115ms/step - loss: 0.6932 - accuracy: 0.4901 - val_loss: 0.6932 - val_accuracy: 0.4713\n",
            "Epoch 16/50\n",
            "30/30 [==============================] - ETA: 0s - loss: 0.6940 - accuracy: 0.4743\n",
            "Epoch 16: val_loss did not improve from 0.69184\n",
            "30/30 [==============================] - 3s 113ms/step - loss: 0.6940 - accuracy: 0.4743 - val_loss: 0.6931 - val_accuracy: 0.4862\n",
            "Epoch 17/50\n",
            "30/30 [==============================] - ETA: 0s - loss: 0.6933 - accuracy: 0.4827\n",
            "Epoch 17: val_loss did not improve from 0.69184\n",
            "30/30 [==============================] - 4s 119ms/step - loss: 0.6933 - accuracy: 0.4827 - val_loss: 0.6932 - val_accuracy: 0.4968\n",
            "Epoch 18/50\n",
            "30/30 [==============================] - ETA: 0s - loss: 0.6931 - accuracy: 0.4942\n",
            "Epoch 18: val_loss did not improve from 0.69184\n",
            "30/30 [==============================] - 3s 117ms/step - loss: 0.6931 - accuracy: 0.4942 - val_loss: 0.6932 - val_accuracy: 0.4968\n",
            "Epoch 19/50\n",
            "30/30 [==============================] - ETA: 0s - loss: 0.6933 - accuracy: 0.4796\n",
            "Epoch 19: val_loss did not improve from 0.69184\n",
            "30/30 [==============================] - 4s 120ms/step - loss: 0.6933 - accuracy: 0.4796 - val_loss: 0.6932 - val_accuracy: 0.4968\n",
            "Epoch 20/50\n",
            "30/30 [==============================] - ETA: 0s - loss: 0.6933 - accuracy: 0.4880\n",
            "Epoch 20: val_loss did not improve from 0.69184\n",
            "30/30 [==============================] - 4s 118ms/step - loss: 0.6933 - accuracy: 0.4880 - val_loss: 0.6932 - val_accuracy: 0.4968\n",
            "Epoch 21/50\n",
            "30/30 [==============================] - ETA: 0s - loss: 0.6932 - accuracy: 0.5016\n",
            "Epoch 21: val_loss did not improve from 0.69184\n",
            "30/30 [==============================] - 4s 125ms/step - loss: 0.6932 - accuracy: 0.5016 - val_loss: 0.6932 - val_accuracy: 0.4968\n",
            "Epoch 22/50\n",
            "30/30 [==============================] - ETA: 0s - loss: 0.6932 - accuracy: 0.4827\n",
            "Epoch 22: val_loss did not improve from 0.69184\n",
            "30/30 [==============================] - 3s 117ms/step - loss: 0.6932 - accuracy: 0.4827 - val_loss: 0.6932 - val_accuracy: 0.4968\n",
            "Epoch 23/50\n",
            "30/30 [==============================] - ETA: 0s - loss: 0.6932 - accuracy: 0.5099\n",
            "Epoch 23: val_loss did not improve from 0.69184\n",
            "30/30 [==============================] - 4s 122ms/step - loss: 0.6932 - accuracy: 0.5099 - val_loss: 0.6924 - val_accuracy: 0.5223\n",
            "Epoch 24/50\n",
            "30/30 [==============================] - ETA: 0s - loss: 0.6937 - accuracy: 0.4880\n",
            "Epoch 24: val_loss did not improve from 0.69184\n",
            "30/30 [==============================] - 4s 120ms/step - loss: 0.6937 - accuracy: 0.4880 - val_loss: 0.6932 - val_accuracy: 0.4968\n",
            "Epoch 25/50\n",
            "30/30 [==============================] - ETA: 0s - loss: 0.6932 - accuracy: 0.5047\n",
            "Epoch 25: val_loss did not improve from 0.69184\n",
            "30/30 [==============================] - 4s 123ms/step - loss: 0.6932 - accuracy: 0.5047 - val_loss: 0.6932 - val_accuracy: 0.4968\n",
            "Epoch 26/50\n",
            "30/30 [==============================] - ETA: 0s - loss: 0.6933 - accuracy: 0.4838\n",
            "Epoch 26: val_loss did not improve from 0.69184\n",
            "30/30 [==============================] - 4s 125ms/step - loss: 0.6933 - accuracy: 0.4838 - val_loss: 0.6932 - val_accuracy: 0.4968\n",
            "Epoch 27/50\n",
            "30/30 [==============================] - ETA: 0s - loss: 0.6932 - accuracy: 0.4848\n",
            "Epoch 27: val_loss did not improve from 0.69184\n",
            "30/30 [==============================] - 4s 118ms/step - loss: 0.6932 - accuracy: 0.4848 - val_loss: 0.6932 - val_accuracy: 0.4968\n",
            "Epoch 28/50\n",
            "30/30 [==============================] - ETA: 0s - loss: 0.6933 - accuracy: 0.4785\n",
            "Epoch 28: val_loss did not improve from 0.69184\n",
            "30/30 [==============================] - 4s 121ms/step - loss: 0.6933 - accuracy: 0.4785 - val_loss: 0.6932 - val_accuracy: 0.4968\n",
            "Epoch 29/50\n",
            "30/30 [==============================] - ETA: 0s - loss: 0.6932 - accuracy: 0.5110\n",
            "Epoch 29: val_loss did not improve from 0.69184\n",
            "30/30 [==============================] - 4s 119ms/step - loss: 0.6932 - accuracy: 0.5110 - val_loss: 0.6932 - val_accuracy: 0.4968\n",
            "Epoch 30/50\n",
            "30/30 [==============================] - ETA: 0s - loss: 0.6933 - accuracy: 0.4942\n",
            "Epoch 30: val_loss did not improve from 0.69184\n",
            "30/30 [==============================] - 3s 115ms/step - loss: 0.6933 - accuracy: 0.4942 - val_loss: 0.6931 - val_accuracy: 0.4968\n",
            "Epoch 31/50\n",
            "30/30 [==============================] - ETA: 0s - loss: 0.6932 - accuracy: 0.5047\n",
            "Epoch 31: val_loss did not improve from 0.69184\n",
            "30/30 [==============================] - 4s 118ms/step - loss: 0.6932 - accuracy: 0.5047 - val_loss: 0.6932 - val_accuracy: 0.4968\n",
            "Epoch 32/50\n",
            "30/30 [==============================] - ETA: 0s - loss: 0.6933 - accuracy: 0.4712\n",
            "Epoch 32: val_loss did not improve from 0.69184\n",
            "30/30 [==============================] - 4s 125ms/step - loss: 0.6933 - accuracy: 0.4712 - val_loss: 0.6932 - val_accuracy: 0.4968\n",
            "Epoch 33/50\n",
            "30/30 [==============================] - ETA: 0s - loss: 0.6933 - accuracy: 0.4880\n",
            "Epoch 33: val_loss did not improve from 0.69184\n",
            "30/30 [==============================] - 4s 124ms/step - loss: 0.6933 - accuracy: 0.4880 - val_loss: 0.6932 - val_accuracy: 0.4968\n",
            "Epoch 34/50\n",
            "30/30 [==============================] - ETA: 0s - loss: 0.6929 - accuracy: 0.5225\n",
            "Epoch 34: val_loss did not improve from 0.69184\n",
            "30/30 [==============================] - 4s 124ms/step - loss: 0.6929 - accuracy: 0.5225 - val_loss: 0.6932 - val_accuracy: 0.4968\n",
            "Epoch 35/50\n",
            "30/30 [==============================] - ETA: 0s - loss: 0.6932 - accuracy: 0.4963\n",
            "Epoch 35: val_loss did not improve from 0.69184\n",
            "30/30 [==============================] - 4s 128ms/step - loss: 0.6932 - accuracy: 0.4963 - val_loss: 0.6932 - val_accuracy: 0.4968\n",
            "Epoch 36/50\n",
            "30/30 [==============================] - ETA: 0s - loss: 0.6933 - accuracy: 0.5016\n",
            "Epoch 36: val_loss did not improve from 0.69184\n",
            "30/30 [==============================] - 4s 121ms/step - loss: 0.6933 - accuracy: 0.5016 - val_loss: 0.6932 - val_accuracy: 0.4968\n",
            "Epoch 37/50\n",
            "30/30 [==============================] - ETA: 0s - loss: 0.6932 - accuracy: 0.4953\n",
            "Epoch 37: val_loss did not improve from 0.69184\n",
            "30/30 [==============================] - 4s 121ms/step - loss: 0.6932 - accuracy: 0.4953 - val_loss: 0.6932 - val_accuracy: 0.4968\n",
            "Epoch 38/50\n",
            "30/30 [==============================] - ETA: 0s - loss: 0.6930 - accuracy: 0.5120\n",
            "Epoch 38: val_loss did not improve from 0.69184\n",
            "30/30 [==============================] - 3s 115ms/step - loss: 0.6930 - accuracy: 0.5120 - val_loss: 0.6932 - val_accuracy: 0.4968\n",
            "Epoch 39/50\n",
            "30/30 [==============================] - ETA: 0s - loss: 0.6933 - accuracy: 0.4984\n",
            "Epoch 39: val_loss did not improve from 0.69184\n",
            "30/30 [==============================] - 3s 114ms/step - loss: 0.6933 - accuracy: 0.4984 - val_loss: 0.6932 - val_accuracy: 0.4968\n",
            "Epoch 40/50\n",
            "30/30 [==============================] - ETA: 0s - loss: 0.6933 - accuracy: 0.4890\n",
            "Epoch 40: val_loss did not improve from 0.69184\n",
            "30/30 [==============================] - 3s 114ms/step - loss: 0.6933 - accuracy: 0.4890 - val_loss: 0.6932 - val_accuracy: 0.4968\n",
            "Epoch 41/50\n",
            "30/30 [==============================] - ETA: 0s - loss: 0.6933 - accuracy: 0.5016\n",
            "Epoch 41: val_loss did not improve from 0.69184\n",
            "30/30 [==============================] - 4s 124ms/step - loss: 0.6933 - accuracy: 0.5016 - val_loss: 0.6932 - val_accuracy: 0.4968\n",
            "Epoch 42/50\n",
            "30/30 [==============================] - ETA: 0s - loss: 0.6932 - accuracy: 0.5141\n",
            "Epoch 42: val_loss did not improve from 0.69184\n",
            "30/30 [==============================] - 3s 116ms/step - loss: 0.6932 - accuracy: 0.5141 - val_loss: 0.6932 - val_accuracy: 0.4968\n",
            "Epoch 43/50\n",
            "30/30 [==============================] - ETA: 0s - loss: 0.6933 - accuracy: 0.4869\n",
            "Epoch 43: val_loss did not improve from 0.69184\n",
            "30/30 [==============================] - 4s 117ms/step - loss: 0.6933 - accuracy: 0.4869 - val_loss: 0.6932 - val_accuracy: 0.4968\n",
            "Epoch 44/50\n",
            "30/30 [==============================] - ETA: 0s - loss: 0.6932 - accuracy: 0.4921\n",
            "Epoch 44: val_loss did not improve from 0.69184\n",
            "30/30 [==============================] - 4s 119ms/step - loss: 0.6932 - accuracy: 0.4921 - val_loss: 0.6932 - val_accuracy: 0.4968\n",
            "Epoch 45/50\n",
            "30/30 [==============================] - ETA: 0s - loss: 0.6933 - accuracy: 0.4743\n",
            "Epoch 45: val_loss did not improve from 0.69184\n",
            "30/30 [==============================] - 4s 124ms/step - loss: 0.6933 - accuracy: 0.4743 - val_loss: 0.6932 - val_accuracy: 0.4968\n",
            "Epoch 46/50\n",
            "30/30 [==============================] - ETA: 0s - loss: 0.6931 - accuracy: 0.5016\n",
            "Epoch 46: val_loss did not improve from 0.69184\n",
            "30/30 [==============================] - 4s 127ms/step - loss: 0.6931 - accuracy: 0.5016 - val_loss: 0.6932 - val_accuracy: 0.4968\n",
            "Epoch 47/50\n",
            "30/30 [==============================] - ETA: 0s - loss: 0.6933 - accuracy: 0.5099\n",
            "Epoch 47: val_loss did not improve from 0.69184\n",
            "30/30 [==============================] - 4s 122ms/step - loss: 0.6933 - accuracy: 0.5099 - val_loss: 0.6932 - val_accuracy: 0.4968\n",
            "Epoch 48/50\n",
            "30/30 [==============================] - ETA: 0s - loss: 0.6931 - accuracy: 0.5005\n",
            "Epoch 48: val_loss did not improve from 0.69184\n",
            "30/30 [==============================] - 4s 121ms/step - loss: 0.6931 - accuracy: 0.5005 - val_loss: 0.6932 - val_accuracy: 0.4968\n",
            "Epoch 49/50\n",
            "30/30 [==============================] - ETA: 0s - loss: 0.6933 - accuracy: 0.4984\n",
            "Epoch 49: val_loss did not improve from 0.69184\n",
            "30/30 [==============================] - 3s 116ms/step - loss: 0.6933 - accuracy: 0.4984 - val_loss: 0.6932 - val_accuracy: 0.4968\n",
            "Epoch 50/50\n",
            "30/30 [==============================] - ETA: 0s - loss: 0.6932 - accuracy: 0.5079\n",
            "Epoch 50: val_loss did not improve from 0.69184\n",
            "30/30 [==============================] - 4s 123ms/step - loss: 0.6932 - accuracy: 0.5079 - val_loss: 0.6932 - val_accuracy: 0.4968\n",
            "Runtime 182.27504897117615 seconds\n"
          ]
        }
      ],
      "source": [
        "'''\n",
        "Set Checkpoint for the best model\n",
        "'''\n",
        "from tensorflow.keras.callbacks import ModelCheckpoint\n",
        "import time\n",
        "filepath = \"/content/drive/MyDrive/Tugas Akhir/DATA + DESCRIPTION/Sound Database/MODELS/MFCC_CNN_50-50.epoch{epoch:02d}-loss{val_loss:.2f}.hdf5\"\n",
        "\n",
        "checkpoint = ModelCheckpoint(filepath=filepath, monitor=\"val_loss\",verbose=1, save_best_only=True, mode=\"min\")\n",
        "\n",
        "callbacks = [checkpoint]\n",
        "\n",
        "'''\n",
        "Compile and Fitting Model\n",
        "'''\n",
        "mfcc_model.compile(loss='sparse_categorical_crossentropy', optimizer='nadam', metrics=['accuracy'])\n",
        "start = time.time()\n",
        "mfcc_model = mfcc_model.fit(X_train, y_train, epochs=50,\n",
        "               validation_data = (X_test, y_test),\n",
        "               callbacks = callbacks)\n",
        "print(f\"Runtime {time.time()-start} seconds\")"
      ]
    },
    {
      "cell_type": "markdown",
      "metadata": {
        "id": "spFu6VyMqaE2"
      },
      "source": [
        "## Binary Class DataSet"
      ]
    },
    {
      "cell_type": "markdown",
      "metadata": {
        "id": "nJF3ulqBqTVx"
      },
      "source": [
        "### Imbalanced Data Set"
      ]
    },
    {
      "cell_type": "markdown",
      "metadata": {
        "id": "RpC3kuXfH-En"
      },
      "source": [
        "#### Training"
      ]
    },
    {
      "cell_type": "markdown",
      "metadata": {
        "id": "iF_-fRsiH-Gu"
      },
      "source": [
        "##### Splitting Dataset"
      ]
    },
    {
      "cell_type": "code",
      "execution_count": null,
      "metadata": {
        "id": "0sjljmNfq140"
      },
      "outputs": [],
      "source": [
        "'''\n",
        "MFCC\n",
        "'''\n",
        "#Feature\n",
        "mfcc_X = np.array(df[\"mfcc\"].apply(lambda row : tf.convert_to_tensor(np.array(row), dtype=float)).to_list())\n",
        "\n",
        "#Target\n",
        "binary_diag_dict = {'non-COPD': 0, 'COPD': 1} #mapping dictionary\n",
        "mfcc_y = np.array(df[\"binary_diag\"].map(binary_diag_dict).to_list())\n",
        "\n",
        "#Train-Test Split, use stratify to handle imbalanced data on the dataset\n",
        "mfcc_X_train, mfcc_X_test, mfcc_y_train, mfcc_y_test = train_test_split(mfcc_X, mfcc_y, test_size = 0.33, random_state = 42)\n",
        "\n",
        "'''\n",
        "CSTFT\n",
        "'''\n",
        "#Feature\n",
        "cstft_X = np.array(df[\"cstft\"].apply(lambda row : tf.convert_to_tensor(np.array(row), dtype=float)).to_list())\n",
        "\n",
        "#Target\n",
        "binary_diag_dict = {'non-COPD': 0, 'COPD': 1} #mapping dictionary\n",
        "cstft_y = np.array(df[\"binary_diag\"].map(binary_diag_dict).to_list())\n",
        "\n",
        "#Train-Test Split, use stratify to handle imbalanced data on the dataset\n",
        "cstft_X_train, cstft_X_test, cstft_y_train, cstft_y_test = train_test_split(cstft_X, cstft_y, test_size = 0.33, random_state = 42)\n",
        "\n",
        "'''\n",
        "Chroma\n",
        "'''\n",
        "#Feature\n",
        "chroma_X = np.array(df[\"mspec\"].apply(lambda row : tf.convert_to_tensor(np.array(row), dtype=float)).to_list())\n",
        "\n",
        "#Target\n",
        "binary_diag_dict = {'non-COPD': 0, 'COPD': 1} #mapping dictionary\n",
        "chroma_y = np.array(df[\"binary_diag\"].map(binary_diag_dict).to_list())\n",
        "\n",
        "#Train-Test Split, use stratify to handle imbalanced data on the dataset\n",
        "chroma_X_train, chroma_X_test, chroma_y_train, chroma_y_test = train_test_split(chroma_X, chroma_y, test_size = 0.33, random_state = 42)\n"
      ]
    },
    {
      "cell_type": "code",
      "execution_count": null,
      "metadata": {
        "colab": {
          "base_uri": "https://localhost:8080/"
        },
        "id": "s9kl78qgTWQu",
        "outputId": "3c156cc3-414d-4fd2-f726-1232974a81b3"
      },
      "outputs": [
        {
          "name": "stdout",
          "output_type": "stream",
          "text": [
            "MFCC\n",
            "Train :\n",
            "COPD        83.142177\n",
            "non-COPD    16.857823\n",
            "dtype: float64\n",
            "\n",
            "Test: \n",
            "COPD        83.618797\n",
            "non-COPD    16.381203\n",
            "dtype: float64\n",
            "\n",
            "CSTFT\n",
            "Train :\n",
            "COPD        83.142177\n",
            "non-COPD    16.857823\n",
            "dtype: float64\n",
            "\n",
            "Test: \n",
            "COPD        83.618797\n",
            "non-COPD    16.381203\n",
            "dtype: float64\n",
            "\n",
            "CHROMA\n",
            "Train :\n",
            "COPD        83.142177\n",
            "non-COPD    16.857823\n",
            "dtype: float64\n",
            "\n",
            "Test: \n",
            "COPD        83.618797\n",
            "non-COPD    16.381203\n",
            "dtype: float64\n",
            "\n"
          ]
        }
      ],
      "source": [
        "'''\n",
        "Test Proportion of Train and Test\n",
        "'''\n",
        "inv_diag_dict = {v: k for k, v in binary_diag_dict.items()}\n",
        "print(\"MFCC\")\n",
        "print(\"Train :\")\n",
        "print(pd.Series(mfcc_y_train).map(inv_diag_dict).value_counts()  / len(mfcc_y_train) * 100)\n",
        "print(\"\\nTest: \")\n",
        "print(pd.Series(mfcc_y_test).map(inv_diag_dict).value_counts()  / len(mfcc_y_test) * 100)\n",
        "print()\n",
        "print(\"CSTFT\")\n",
        "print(\"Train :\")\n",
        "print(pd.Series(cstft_y_train).map(inv_diag_dict).value_counts()  / len(cstft_y_train) * 100)\n",
        "print(\"\\nTest: \")\n",
        "print(pd.Series(cstft_y_test).map(inv_diag_dict).value_counts()  / len(cstft_y_test) * 100)\n",
        "print()\n",
        "print(\"CHROMA\")\n",
        "print(\"Train :\")\n",
        "print(pd.Series(chroma_y_train).map(inv_diag_dict).value_counts()  / len(chroma_y_train) * 100)\n",
        "print(\"\\nTest: \")\n",
        "print(pd.Series(chroma_y_test).map(inv_diag_dict).value_counts()  / len(chroma_y_test) * 100)\n",
        "print()"
      ]
    },
    {
      "cell_type": "code",
      "execution_count": null,
      "metadata": {
        "colab": {
          "base_uri": "https://localhost:8080/"
        },
        "id": "0HoEFbSHTWQu",
        "outputId": "16f2a199-f0b4-4138-d4d3-ab5b66759ba2"
      },
      "outputs": [
        {
          "name": "stdout",
          "output_type": "stream",
          "text": [
            "MFCC\n",
            "Training data shape : (4621, 20, 259)\n",
            "Training label shape : (4621,)\n",
            "Validation data shape : (2277, 20, 259)\n",
            "Validation label shape : (2277,)\n",
            "\n",
            "CSTFT\n",
            "Training data shape : (4621, 12, 259)\n",
            "Training label shape : (4621,)\n",
            "Validation data shape : (2277, 12, 259)\n",
            "Validation label shape : (2277,)\n",
            "\n",
            "CHROMA\n",
            "Training data shape : (4621, 128, 259)\n",
            "Training label shape : (4621,)\n",
            "Validation data shape : (2277, 128, 259)\n",
            "Validation label shape : (2277,)\n",
            "\n"
          ]
        }
      ],
      "source": [
        "print(\"MFCC\")\n",
        "print(f\"Training data shape : {mfcc_X_train.shape}\")\n",
        "print(f\"Training label shape : {mfcc_y_train.shape}\")\n",
        "print(f\"Validation data shape : {mfcc_X_test.shape}\")\n",
        "print(f\"Validation label shape : {mfcc_y_test.shape}\")\n",
        "print()\n",
        "print(\"CSTFT\")\n",
        "print(f\"Training data shape : {cstft_X_train.shape}\")\n",
        "print(f\"Training label shape : {cstft_y_train.shape}\")\n",
        "print(f\"Validation data shape : {cstft_X_test.shape}\")\n",
        "print(f\"Validation label shape : {cstft_y_test.shape}\")\n",
        "print()\n",
        "print(\"CHROMA\")\n",
        "print(f\"Training data shape : {chroma_X_train.shape}\")\n",
        "print(f\"Training label shape : {chroma_y_train.shape}\")\n",
        "print(f\"Validation data shape : {chroma_X_test.shape}\")\n",
        "print(f\"Validation label shape : {chroma_y_test.shape}\")\n",
        "print()"
      ]
    },
    {
      "cell_type": "markdown",
      "metadata": {
        "id": "vaOj2vWo3w7a"
      },
      "source": [
        "##### Model"
      ]
    },
    {
      "cell_type": "code",
      "execution_count": null,
      "metadata": {
        "colab": {
          "base_uri": "https://localhost:8080/"
        },
        "id": "K4HfmdcgqrCi",
        "outputId": "8618e943-c85f-4d69-9f37-5f2732e0c510"
      },
      "outputs": [
        {
          "name": "stdout",
          "output_type": "stream",
          "text": [
            "Model: \"mfccModel\"\n",
            "_________________________________________________________________\n",
            " Layer (type)                Output Shape              Param #   \n",
            "=================================================================\n",
            " mfccInput (InputLayer)      [(None, 20, 259, 1)]      0         \n",
            "                                                                 \n",
            " conv2d (Conv2D)             (None, 20, 87, 32)        832       \n",
            "                                                                 \n",
            " batch_normalization (BatchN  (None, 20, 87, 32)       128       \n",
            " ormalization)                                                   \n",
            "                                                                 \n",
            " activation (Activation)     (None, 20, 87, 32)        0         \n",
            "                                                                 \n",
            " max_pooling2d (MaxPooling2D  (None, 10, 43, 32)       0         \n",
            " )                                                               \n",
            "                                                                 \n",
            " conv2d_1 (Conv2D)           (None, 10, 22, 64)        18496     \n",
            "                                                                 \n",
            " batch_normalization_1 (Batc  (None, 10, 22, 64)       256       \n",
            " hNormalization)                                                 \n",
            "                                                                 \n",
            " activation_1 (Activation)   (None, 10, 22, 64)        0         \n",
            "                                                                 \n",
            " max_pooling2d_1 (MaxPooling  (None, 5, 11, 64)        0         \n",
            " 2D)                                                             \n",
            "                                                                 \n",
            " conv2d_2 (Conv2D)           (None, 5, 11, 96)         24672     \n",
            "                                                                 \n",
            " batch_normalization_2 (Batc  (None, 5, 11, 96)        384       \n",
            " hNormalization)                                                 \n",
            "                                                                 \n",
            " activation_2 (Activation)   (None, 5, 11, 96)         0         \n",
            "                                                                 \n",
            " max_pooling2d_2 (MaxPooling  (None, 2, 5, 96)         0         \n",
            " 2D)                                                             \n",
            "                                                                 \n",
            " conv2d_3 (Conv2D)           (None, 2, 5, 128)         49280     \n",
            "                                                                 \n",
            " batch_normalization_3 (Batc  (None, 2, 5, 128)        512       \n",
            " hNormalization)                                                 \n",
            "                                                                 \n",
            " activation_3 (Activation)   (None, 2, 5, 128)         0         \n",
            "                                                                 \n",
            " global_max_pooling2d (Globa  (None, 128)              0         \n",
            " lMaxPooling2D)                                                  \n",
            "                                                                 \n",
            "=================================================================\n",
            "Total params: 94,560\n",
            "Trainable params: 93,920\n",
            "Non-trainable params: 640\n",
            "_________________________________________________________________\n"
          ]
        }
      ],
      "source": [
        "mfcc_input=keras.layers.Input(shape=(20,259,1),name=\"mfccInput\")\n",
        "x=keras.layers.Conv2D(32,5,strides=(1,3),padding='same')(mfcc_input)\n",
        "x=keras.layers.BatchNormalization()(x)\n",
        "x=keras.layers.Activation(keras.activations.relu)(x)\n",
        "x=keras.layers.MaxPooling2D(pool_size=2,padding='valid')(x)\n",
        "\n",
        "x=keras.layers.Conv2D(64,3,strides=(1,2),padding='same')(x)\n",
        "x=keras.layers.BatchNormalization()(x)\n",
        "x=keras.layers.Activation(keras.activations.relu)(x)\n",
        "x=keras.layers.MaxPooling2D(pool_size=2,padding='valid')(x)\n",
        "\n",
        "x=keras.layers.Conv2D(96,2,padding='same')(x)\n",
        "x=keras.layers.BatchNormalization()(x)\n",
        "x=keras.layers.Activation(keras.activations.relu)(x)\n",
        "x=keras.layers.MaxPooling2D(pool_size=2,padding='valid')(x)\n",
        "\n",
        "x=keras.layers.Conv2D(128,2,padding='same')(x)\n",
        "x=keras.layers.BatchNormalization()(x)\n",
        "x=keras.layers.Activation(keras.activations.relu)(x)\n",
        "mfcc_output=keras.layers.GlobalMaxPooling2D()(x)\n",
        "\n",
        "mfcc_model=keras.Model(mfcc_input, mfcc_output, name=\"mfccModel\")\n",
        "mfcc_model.summary()"
      ]
    },
    {
      "cell_type": "code",
      "execution_count": null,
      "metadata": {
        "colab": {
          "base_uri": "https://localhost:8080/"
        },
        "id": "onRIdnyTqrCj",
        "outputId": "6f01152c-30ca-44a9-825d-874a9ce3ccb7"
      },
      "outputs": [
        {
          "name": "stdout",
          "output_type": "stream",
          "text": [
            "Model: \"cromaModel\"\n",
            "_________________________________________________________________\n",
            " Layer (type)                Output Shape              Param #   \n",
            "=================================================================\n",
            " cromaInput (InputLayer)     [(None, 12, 259, 1)]      0         \n",
            "                                                                 \n",
            " conv2d_4 (Conv2D)           (None, 12, 87, 32)        832       \n",
            "                                                                 \n",
            " batch_normalization_4 (Batc  (None, 12, 87, 32)       128       \n",
            " hNormalization)                                                 \n",
            "                                                                 \n",
            " activation_4 (Activation)   (None, 12, 87, 32)        0         \n",
            "                                                                 \n",
            " max_pooling2d_3 (MaxPooling  (None, 6, 43, 32)        0         \n",
            " 2D)                                                             \n",
            "                                                                 \n",
            " conv2d_5 (Conv2D)           (None, 6, 22, 64)         18496     \n",
            "                                                                 \n",
            " batch_normalization_5 (Batc  (None, 6, 22, 64)        256       \n",
            " hNormalization)                                                 \n",
            "                                                                 \n",
            " activation_5 (Activation)   (None, 6, 22, 64)         0         \n",
            "                                                                 \n",
            " max_pooling2d_4 (MaxPooling  (None, 3, 11, 64)        0         \n",
            " 2D)                                                             \n",
            "                                                                 \n",
            " conv2d_6 (Conv2D)           (None, 3, 11, 128)        32896     \n",
            "                                                                 \n",
            " batch_normalization_6 (Batc  (None, 3, 11, 128)       512       \n",
            " hNormalization)                                                 \n",
            "                                                                 \n",
            " activation_6 (Activation)   (None, 3, 11, 128)        0         \n",
            "                                                                 \n",
            " global_max_pooling2d_1 (Glo  (None, 128)              0         \n",
            " balMaxPooling2D)                                                \n",
            "                                                                 \n",
            "=================================================================\n",
            "Total params: 53,120\n",
            "Trainable params: 52,672\n",
            "Non-trainable params: 448\n",
            "_________________________________________________________________\n"
          ]
        }
      ],
      "source": [
        "croma_input=keras.layers.Input(shape=(12,259,1),name=\"cromaInput\")\n",
        "x=keras.layers.Conv2D(32,5,strides=(1,3),padding='same')(croma_input)\n",
        "x=keras.layers.BatchNormalization()(x)\n",
        "x=keras.layers.Activation(keras.activations.relu)(x)\n",
        "x=keras.layers.MaxPooling2D(pool_size=2,padding='valid')(x)\n",
        "\n",
        "x=keras.layers.Conv2D(64,3,strides=(1,2),padding='same')(x)\n",
        "x=keras.layers.BatchNormalization()(x)\n",
        "x=keras.layers.Activation(keras.activations.relu)(x)\n",
        "x=keras.layers.MaxPooling2D(pool_size=2,padding='valid')(x)\n",
        "\n",
        "x=keras.layers.Conv2D(128,2,padding='same')(x)\n",
        "x=keras.layers.BatchNormalization()(x)\n",
        "x=keras.layers.Activation(keras.activations.relu)(x)\n",
        "croma_output=keras.layers.GlobalMaxPooling2D()(x)\n",
        "\n",
        "croma_model=keras.Model(croma_input, croma_output, name=\"cromaModel\")\n",
        "croma_model.summary()"
      ]
    },
    {
      "cell_type": "code",
      "execution_count": null,
      "metadata": {
        "colab": {
          "base_uri": "https://localhost:8080/"
        },
        "id": "YgVj4atOqrCk",
        "outputId": "135c6d92-a553-405d-f14b-93b9aa34ed4f"
      },
      "outputs": [
        {
          "name": "stdout",
          "output_type": "stream",
          "text": [
            "Model: \"mSpecModel\"\n",
            "_________________________________________________________________\n",
            " Layer (type)                Output Shape              Param #   \n",
            "=================================================================\n",
            " mSpecInput (InputLayer)     [(None, 128, 259, 1)]     0         \n",
            "                                                                 \n",
            " conv2d_7 (Conv2D)           (None, 64, 87, 32)        832       \n",
            "                                                                 \n",
            " batch_normalization_7 (Batc  (None, 64, 87, 32)       128       \n",
            " hNormalization)                                                 \n",
            "                                                                 \n",
            " activation_7 (Activation)   (None, 64, 87, 32)        0         \n",
            "                                                                 \n",
            " max_pooling2d_5 (MaxPooling  (None, 32, 43, 32)       0         \n",
            " 2D)                                                             \n",
            "                                                                 \n",
            " conv2d_8 (Conv2D)           (None, 16, 22, 64)        18496     \n",
            "                                                                 \n",
            " batch_normalization_8 (Batc  (None, 16, 22, 64)       256       \n",
            " hNormalization)                                                 \n",
            "                                                                 \n",
            " activation_8 (Activation)   (None, 16, 22, 64)        0         \n",
            "                                                                 \n",
            " max_pooling2d_6 (MaxPooling  (None, 8, 11, 64)        0         \n",
            " 2D)                                                             \n",
            "                                                                 \n",
            " conv2d_9 (Conv2D)           (None, 8, 11, 96)         24672     \n",
            "                                                                 \n",
            " batch_normalization_9 (Batc  (None, 8, 11, 96)        384       \n",
            " hNormalization)                                                 \n",
            "                                                                 \n",
            " activation_9 (Activation)   (None, 8, 11, 96)         0         \n",
            "                                                                 \n",
            " max_pooling2d_7 (MaxPooling  (None, 4, 5, 96)         0         \n",
            " 2D)                                                             \n",
            "                                                                 \n",
            " conv2d_10 (Conv2D)          (None, 4, 5, 128)         49280     \n",
            "                                                                 \n",
            " batch_normalization_10 (Bat  (None, 4, 5, 128)        512       \n",
            " chNormalization)                                                \n",
            "                                                                 \n",
            " activation_10 (Activation)  (None, 4, 5, 128)         0         \n",
            "                                                                 \n",
            " global_max_pooling2d_2 (Glo  (None, 128)              0         \n",
            " balMaxPooling2D)                                                \n",
            "                                                                 \n",
            "=================================================================\n",
            "Total params: 94,560\n",
            "Trainable params: 93,920\n",
            "Non-trainable params: 640\n",
            "_________________________________________________________________\n"
          ]
        }
      ],
      "source": [
        "mSpec_input=keras.layers.Input(shape=(128,259,1),name=\"mSpecInput\")\n",
        "x=keras.layers.Conv2D(32,5,strides=(2,3),padding='same')(mSpec_input)\n",
        "x=keras.layers.BatchNormalization()(x)\n",
        "x=keras.layers.Activation(keras.activations.relu)(x)\n",
        "x=keras.layers.MaxPooling2D(pool_size=2,padding='valid')(x)\n",
        "\n",
        "x=keras.layers.Conv2D(64,3,strides=(2,2),padding='same')(x)\n",
        "x=keras.layers.BatchNormalization()(x)\n",
        "x=keras.layers.Activation(keras.activations.relu)(x)\n",
        "x=keras.layers.MaxPooling2D(pool_size=2,padding='valid')(x)\n",
        "\n",
        "x=keras.layers.Conv2D(96,2,padding='same')(x)\n",
        "x=keras.layers.BatchNormalization()(x)\n",
        "x=keras.layers.Activation(keras.activations.relu)(x)\n",
        "x=keras.layers.MaxPooling2D(pool_size=2,padding='valid')(x)\n",
        "\n",
        "x=keras.layers.Conv2D(128,2,padding='same')(x)\n",
        "x=keras.layers.BatchNormalization()(x)\n",
        "x=keras.layers.Activation(keras.activations.relu)(x)\n",
        "mSpec_output=keras.layers.GlobalMaxPooling2D()(x)\n",
        "\n",
        "mSpec_model=keras.Model(mSpec_input, mSpec_output, name=\"mSpecModel\")\n",
        "mSpec_model.summary()"
      ]
    },
    {
      "cell_type": "code",
      "execution_count": null,
      "metadata": {
        "colab": {
          "base_uri": "https://localhost:8080/"
        },
        "id": "UBz4aeZCqrCk",
        "outputId": "1c6144f9-8ca1-43fb-da60-09ffdec263f5"
      },
      "outputs": [
        {
          "name": "stdout",
          "output_type": "stream",
          "text": [
            "Model: \"Net\"\n",
            "__________________________________________________________________________________________________\n",
            " Layer (type)                   Output Shape         Param #     Connected to                     \n",
            "==================================================================================================\n",
            " mfcc (InputLayer)              [(None, 20, 259, 1)  0           []                               \n",
            "                                ]                                                                 \n",
            "                                                                                                  \n",
            " croma (InputLayer)             [(None, 12, 259, 1)  0           []                               \n",
            "                                ]                                                                 \n",
            "                                                                                                  \n",
            " mspec (InputLayer)             [(None, 128, 259, 1  0           []                               \n",
            "                                )]                                                                \n",
            "                                                                                                  \n",
            " mfccModel (Functional)         (None, 128)          94560       ['mfcc[0][0]']                   \n",
            "                                                                                                  \n",
            " cromaModel (Functional)        (None, 128)          53120       ['croma[0][0]']                  \n",
            "                                                                                                  \n",
            " mSpecModel (Functional)        (None, 128)          94560       ['mspec[0][0]']                  \n",
            "                                                                                                  \n",
            " concatenate (Concatenate)      (None, 384)          0           ['mfccModel[0][0]',              \n",
            "                                                                  'cromaModel[0][0]',             \n",
            "                                                                  'mSpecModel[0][0]']             \n",
            "                                                                                                  \n",
            " dense (Dense)                  (None, 50)           19250       ['concatenate[0][0]']            \n",
            "                                                                                                  \n",
            " dropout_1 (Dropout)            (None, 50)           0           ['dense[0][0]']                  \n",
            "                                                                                                  \n",
            " dense_1 (Dense)                (None, 25)           1275        ['dropout_1[0][0]']              \n",
            "                                                                                                  \n",
            " dropout_2 (Dropout)            (None, 25)           0           ['dense_1[0][0]']                \n",
            "                                                                                                  \n",
            " dense_2 (Dense)                (None, 4)            104         ['dropout_2[0][0]']              \n",
            "                                                                                                  \n",
            "==================================================================================================\n",
            "Total params: 262,869\n",
            "Trainable params: 261,141\n",
            "Non-trainable params: 1,728\n",
            "__________________________________________________________________________________________________\n"
          ]
        }
      ],
      "source": [
        "input_mfcc=keras.layers.Input(shape=(20,259,1),name=\"mfcc\")\n",
        "mfcc=mfcc_model(input_mfcc)\n",
        "\n",
        "input_croma=keras.layers.Input(shape=(12,259,1),name=\"croma\")\n",
        "croma=croma_model(input_croma)\n",
        "\n",
        "input_mSpec=keras.layers.Input(shape=(128,259,1),name=\"mspec\")\n",
        "mSpec=mSpec_model(input_mSpec)\n",
        "\n",
        "\n",
        "concat=keras.layers.concatenate([mfcc,croma,mSpec])\n",
        "hidden=keras.layers.Dropout(0.2)(concat)\n",
        "hidden=keras.layers.Dense(50,activation='relu')(concat)\n",
        "hidden=keras.layers.Dropout(0.3)(hidden)\n",
        "hidden=keras.layers.Dense(25,activation='relu')(hidden)\n",
        "hidden=keras.layers.Dropout(0.3)(hidden)\n",
        "output=keras.layers.Dense(4,activation='softmax')(hidden)\n",
        "\n",
        "net=keras.Model([input_mfcc,input_croma,input_mSpec], output, name=\"Net\")\n",
        "net.summary()"
      ]
    },
    {
      "cell_type": "code",
      "execution_count": null,
      "metadata": {
        "id": "EhwEJzQYtnDJ"
      },
      "outputs": [],
      "source": [
        "from keras import backend as K\n",
        "net.compile(loss='sparse_categorical_crossentropy', optimizer='nadam', metrics=['accuracy'])\n",
        "K.set_value(net.optimizer.learning_rate, 0.001)"
      ]
    },
    {
      "cell_type": "code",
      "execution_count": null,
      "metadata": {
        "colab": {
          "base_uri": "https://localhost:8080/"
        },
        "id": "vIwv4-onuFCM",
        "outputId": "41f74b38-a3aa-4de7-96e3-0e3de32a96ab"
      },
      "outputs": [
        {
          "data": {
            "text/plain": [
              "True"
            ]
          },
          "execution_count": 30,
          "metadata": {},
          "output_type": "execute_result"
        }
      ],
      "source": [
        "np.logical_and( (mfcc_y_train==cstft_y_train).all(), (cstft_y_train==chroma_y_train).all() )"
      ]
    },
    {
      "cell_type": "code",
      "execution_count": null,
      "metadata": {
        "colab": {
          "base_uri": "https://localhost:8080/"
        },
        "id": "juQkkt6Qu4Da",
        "outputId": "256d8804-edbe-4fc6-b67e-503c367ab53e"
      },
      "outputs": [
        {
          "data": {
            "text/plain": [
              "True"
            ]
          },
          "execution_count": 31,
          "metadata": {},
          "output_type": "execute_result"
        }
      ],
      "source": [
        "np.logical_and( (mfcc_y_test==cstft_y_test).all(), (cstft_y_test==chroma_y_test).all() )"
      ]
    },
    {
      "cell_type": "code",
      "execution_count": null,
      "metadata": {
        "id": "MFnrgIcatnDR"
      },
      "outputs": [],
      "source": [
        "my_callbacks = [\n",
        "    tf.keras.callbacks.EarlyStopping(patience=5),\n",
        "    tf.keras.callbacks.ReduceLROnPlateau(monitor='val_loss', factor=0.1,\n",
        "                              patience=3, min_lr=0.00001,mode='min')\n",
        "]\n",
        "\n",
        "history=net.fit(\n",
        "    {\"mfcc\":mfcc_X_train,\"croma\":cstft_X_train,\"mspec\":chroma_X_train},\n",
        "    mfcc_y_train,\n",
        "    validation_data=({\"mfcc\":mfcc_X_test,\"croma\":cstft_X_test,\"mspec\":chroma_X_test},mfcc_y_test),\n",
        "    epochs=100,verbose=0,\n",
        "    callbacks=my_callbacks\n",
        ")"
      ]
    },
    {
      "cell_type": "markdown",
      "metadata": {
        "id": "HaNSuJ5-7u5s"
      },
      "source": [
        "#### Model Evaluation"
      ]
    },
    {
      "cell_type": "code",
      "execution_count": null,
      "metadata": {
        "colab": {
          "base_uri": "https://localhost:8080/",
          "height": 265
        },
        "id": "p62tOEqAtnDR",
        "outputId": "2c894085-4e82-4167-ee9a-3e440c487e90"
      },
      "outputs": [
        {
          "data": {
            "image/png": "[encoded data removed]",
            "text/plain": [
              "<Figure size 432x288 with 1 Axes>"
            ]
          },
          "metadata": {},
          "output_type": "display_data"
        }
      ],
      "source": [
        "pd.DataFrame(history.history).plot()\n",
        "plt.grid(True)\n",
        "plt.gca().set_ylim(-0.1,1.1)\n",
        "plt.show()"
      ]
    },
    {
      "cell_type": "code",
      "execution_count": null,
      "metadata": {
        "id": "7Bme5lA1qJ4t"
      },
      "outputs": [],
      "source": [
        "net.save(\"/content/drive/MyDrive/Tugas Akhir/DATA + DESCRIPTION/Sound Database/MODELS/3type_binary_imbalanced.hdf5\")"
      ]
    },
    {
      "cell_type": "code",
      "execution_count": null,
      "metadata": {
        "colab": {
          "base_uri": "https://localhost:8080/"
        },
        "id": "4EBcvwia3DmC",
        "outputId": "5495d79b-bc2a-44a9-8dda-44f1d801da06"
      },
      "outputs": [
        {
          "name": "stdout",
          "output_type": "stream",
          "text": [
            "72/72 [==============================] - 8s 105ms/step\n",
            "              precision    recall  f1-score   support\n",
            "\n",
            "    non-COPD       0.00      0.00      0.00       373\n",
            "        COPD       0.84      1.00      0.91      1904\n",
            "\n",
            "    accuracy                           0.84      2277\n",
            "   macro avg       0.42      0.50      0.46      2277\n",
            "weighted avg       0.70      0.84      0.76      2277\n",
            "\n"
          ]
        },
        {
          "name": "stderr",
          "output_type": "stream",
          "text": [
            "/usr/local/lib/python3.7/dist-packages/sklearn/metrics/_classification.py:1318: UndefinedMetricWarning: Precision and F-score are ill-defined and being set to 0.0 in labels with no predicted samples. Use `zero_division` parameter to control this behavior.\n",
            "  _warn_prf(average, modifier, msg_start, len(result))\n",
            "/usr/local/lib/python3.7/dist-packages/sklearn/metrics/_classification.py:1318: UndefinedMetricWarning: Precision and F-score are ill-defined and being set to 0.0 in labels with no predicted samples. Use `zero_division` parameter to control this behavior.\n",
            "  _warn_prf(average, modifier, msg_start, len(result))\n",
            "/usr/local/lib/python3.7/dist-packages/sklearn/metrics/_classification.py:1318: UndefinedMetricWarning: Precision and F-score are ill-defined and being set to 0.0 in labels with no predicted samples. Use `zero_division` parameter to control this behavior.\n",
            "  _warn_prf(average, modifier, msg_start, len(result))\n"
          ]
        }
      ],
      "source": [
        "'''\n",
        "Load Model and Predict the Test Data on Training Table on Imbalanced Data\n",
        "'''\n",
        "#Disable warnings\n",
        "logging.disable(logging.WARNING)\n",
        "os.environ[\"TF_CPP_MIN_LOG_LEVEL\"] = \"3\"\n",
        "\n",
        "directory = \"/content/drive/MyDrive/Tugas Akhir/DATA + DESCRIPTION/Sound Database/MODELS/\"\n",
        "best_model_file = \"3type_binary_imbalanced.hdf5\"\n",
        "\n",
        "model = keras.models.load_model(directory+best_model_file)\n",
        "\n",
        "y_pred_weights = model.predict({\"mfcc\":mfcc_X_test,\"croma\":cstft_X_test,\"mspec\":chroma_X_test})\n",
        "y_pred_label = np.argmax(y_pred_weights, axis=-1)\n",
        "y_true = mfcc_y_test\n",
        "\n",
        "target_names = ['non-COPD', 'COPD']\n",
        "print(classification_report(y_true, y_pred_label, target_names=target_names))"
      ]
    },
    {
      "cell_type": "code",
      "execution_count": null,
      "metadata": {
        "colab": {
          "base_uri": "https://localhost:8080/",
          "height": 603
        },
        "id": "vQjLjUdvAoPC",
        "outputId": "ebc88911-8f70-4832-eee2-1556a91b750a"
      },
      "outputs": [
        {
          "name": "stdout",
          "output_type": "stream",
          "text": [
            "41/41 [==============================] - 4s 84ms/step\n",
            "              precision    recall  f1-score   support\n",
            "\n",
            "    non-COPD       0.00      0.00      0.00       373\n",
            "        COPD       0.71      1.00      0.83       932\n",
            "\n",
            "    accuracy                           0.71      1305\n",
            "   macro avg       0.36      0.50      0.42      1305\n",
            "weighted avg       0.51      0.71      0.60      1305\n",
            "\n"
          ]
        },
        {
          "name": "stderr",
          "output_type": "stream",
          "text": [
            "/usr/local/lib/python3.7/dist-packages/sklearn/metrics/_classification.py:1318: UndefinedMetricWarning: Precision and F-score are ill-defined and being set to 0.0 in labels with no predicted samples. Use `zero_division` parameter to control this behavior.\n",
            "  _warn_prf(average, modifier, msg_start, len(result))\n",
            "/usr/local/lib/python3.7/dist-packages/sklearn/metrics/_classification.py:1318: UndefinedMetricWarning: Precision and F-score are ill-defined and being set to 0.0 in labels with no predicted samples. Use `zero_division` parameter to control this behavior.\n",
            "  _warn_prf(average, modifier, msg_start, len(result))\n",
            "/usr/local/lib/python3.7/dist-packages/sklearn/metrics/_classification.py:1318: UndefinedMetricWarning: Precision and F-score are ill-defined and being set to 0.0 in labels with no predicted samples. Use `zero_division` parameter to control this behavior.\n",
            "  _warn_prf(average, modifier, msg_start, len(result))\n"
          ]
        },
        {
          "data": {
            "text/plain": [
              "<sklearn.metrics._plot.confusion_matrix.ConfusionMatrixDisplay at 0x7fcb5536bf50>"
            ]
          },
          "execution_count": 38,
          "metadata": {},
          "output_type": "execute_result"
        },
        {
          "data": {
            "image/png": "[encoded data removed]",
            "text/plain": [
              "<Figure size 432x288 with 2 Axes>"
            ]
          },
          "metadata": {},
          "output_type": "display_data"
        }
      ],
      "source": [
        "'''\n",
        "70 (COPD) - 30 (non-COPD)\n",
        "'''\n",
        "eq_y = pd.Series(mfcc_y_test)\n",
        "eq_y_0 = eq_y[eq_y == 0] #non-COPD\n",
        "eq_y_1 = eq_y[eq_y == 1].sample(round(len(eq_y_0) * 2.5),random_state = 42) #COPD\n",
        "eq_y = pd.concat((eq_y_0, eq_y_1)).sort_index()\n",
        "eq_mfcc, eq_cstft, eq_chroma = mfcc_X_test[eq_y.index], cstft_X_test[eq_y.index], chroma_X_test[eq_y.index]\n",
        "\n",
        "'''\n",
        "Load Model and Predict the Test Data on Training Table on Imbalanced Data\n",
        "'''\n",
        "#Disable warnings\n",
        "logging.disable(logging.WARNING)\n",
        "os.environ[\"TF_CPP_MIN_LOG_LEVEL\"] = \"3\"\n",
        "\n",
        "directory = \"/content/drive/MyDrive/Tugas Akhir/DATA + DESCRIPTION/Sound Database/MODELS/\"\n",
        "best_model_file = \"3type_binary_imbalanced.hdf5\"\n",
        "\n",
        "model = keras.models.load_model(directory+best_model_file)\n",
        "\n",
        "y_pred_weights = model.predict({\"mfcc\": eq_mfcc,\"croma\":eq_cstft,\"mspec\": eq_chroma}) #chroma harusny amspec\n",
        "y_pred_label = np.argmax(y_pred_weights, axis=-1)\n",
        "y_true = eq_y\n",
        "\n",
        "target_names = ['non-COPD', 'COPD']\n",
        "print(classification_report(y_true, y_pred_label, target_names=target_names))\n",
        "\n",
        "'''\n",
        "Confusion matrix\n",
        "'''\n",
        "cm = confusion_matrix(y_true, y_pred_label)\n",
        "disp = ConfusionMatrixDisplay(confusion_matrix = cm, display_labels = [\"non-COPD\", \"COPD\"])\n",
        "disp.plot()"
      ]
    },
    {
      "cell_type": "code",
      "execution_count": null,
      "metadata": {
        "colab": {
          "base_uri": "https://localhost:8080/",
          "height": 603
        },
        "id": "bhT3pKEm9QtM",
        "outputId": "5e562c8c-c5f3-44d3-ebae-d926a2b1bd88"
      },
      "outputs": [
        {
          "name": "stdout",
          "output_type": "stream",
          "text": [
            "35/35 [==============================] - 4s 110ms/step\n",
            "              precision    recall  f1-score   support\n",
            "\n",
            "    non-COPD       0.00      0.00      0.00       373\n",
            "        COPD       0.67      1.00      0.80       746\n",
            "\n",
            "    accuracy                           0.67      1119\n",
            "   macro avg       0.33      0.50      0.40      1119\n",
            "weighted avg       0.44      0.67      0.53      1119\n",
            "\n"
          ]
        },
        {
          "name": "stderr",
          "output_type": "stream",
          "text": [
            "/usr/local/lib/python3.7/dist-packages/sklearn/metrics/_classification.py:1318: UndefinedMetricWarning: Precision and F-score are ill-defined and being set to 0.0 in labels with no predicted samples. Use `zero_division` parameter to control this behavior.\n",
            "  _warn_prf(average, modifier, msg_start, len(result))\n",
            "/usr/local/lib/python3.7/dist-packages/sklearn/metrics/_classification.py:1318: UndefinedMetricWarning: Precision and F-score are ill-defined and being set to 0.0 in labels with no predicted samples. Use `zero_division` parameter to control this behavior.\n",
            "  _warn_prf(average, modifier, msg_start, len(result))\n",
            "/usr/local/lib/python3.7/dist-packages/sklearn/metrics/_classification.py:1318: UndefinedMetricWarning: Precision and F-score are ill-defined and being set to 0.0 in labels with no predicted samples. Use `zero_division` parameter to control this behavior.\n",
            "  _warn_prf(average, modifier, msg_start, len(result))\n"
          ]
        },
        {
          "data": {
            "text/plain": [
              "<sklearn.metrics._plot.confusion_matrix.ConfusionMatrixDisplay at 0x7fcb52b8ff90>"
            ]
          },
          "execution_count": 40,
          "metadata": {},
          "output_type": "execute_result"
        },
        {
          "data": {
            "image/png": "[encoded data removed]",
            "text/plain": [
              "<Figure size 432x288 with 2 Axes>"
            ]
          },
          "metadata": {},
          "output_type": "display_data"
        }
      ],
      "source": [
        "'''\n",
        "60 (COPD) - 40 (non-COPD)\n",
        "'''\n",
        "eq_y = pd.Series(mfcc_y_test)\n",
        "eq_y_0 = eq_y[eq_y == 0] #non-COPD\n",
        "eq_y_1 = eq_y[eq_y == 1].sample(round(len(eq_y_0) * 2),random_state = 42) #COPD\n",
        "eq_y = pd.concat((eq_y_0, eq_y_1)).sort_index()\n",
        "eq_mfcc, eq_cstft, eq_chroma = mfcc_X_test[eq_y.index], cstft_X_test[eq_y.index], chroma_X_test[eq_y.index]\n",
        "\n",
        "'''\n",
        "Load Model and Predict the Test Data on Training Table on Imbalanced Data\n",
        "'''\n",
        "#Disable warnings\n",
        "logging.disable(logging.WARNING)\n",
        "os.environ[\"TF_CPP_MIN_LOG_LEVEL\"] = \"3\"\n",
        "\n",
        "directory = \"/content/drive/MyDrive/Tugas Akhir/DATA + DESCRIPTION/Sound Database/MODELS/\"\n",
        "best_model_file = \"3type_binary_imbalanced.hdf5\"\n",
        "\n",
        "model = keras.models.load_model(directory+best_model_file)\n",
        "\n",
        "y_pred_weights = model.predict({\"mfcc\": eq_mfcc,\"croma\":eq_cstft,\"mspec\": eq_chroma}) #chroma harusny amspec\n",
        "y_pred_label = np.argmax(y_pred_weights, axis=-1)\n",
        "y_true = eq_y\n",
        "\n",
        "target_names = ['non-COPD', 'COPD']\n",
        "print(classification_report(y_true, y_pred_label, target_names=target_names))\n",
        "\n",
        "'''\n",
        "Confusion matrix\n",
        "'''\n",
        "cm = confusion_matrix(y_true, y_pred_label)\n",
        "disp = ConfusionMatrixDisplay(confusion_matrix = cm, display_labels = [\"non-COPD\", \"COPD\"])\n",
        "disp.plot()"
      ]
    },
    {
      "cell_type": "code",
      "execution_count": null,
      "metadata": {
        "colab": {
          "base_uri": "https://localhost:8080/",
          "height": 603
        },
        "id": "73uuxYfWGfHa",
        "outputId": "0dfd935b-2d3a-4ea2-be73-dbc50b8cfc43"
      },
      "outputs": [
        {
          "name": "stdout",
          "output_type": "stream",
          "text": [
            "24/24 [==============================] - 2s 65ms/step\n",
            "              precision    recall  f1-score   support\n",
            "\n",
            "    non-COPD       0.00      0.00      0.00       373\n",
            "        COPD       0.50      1.00      0.67       373\n",
            "\n",
            "    accuracy                           0.50       746\n",
            "   macro avg       0.25      0.50      0.33       746\n",
            "weighted avg       0.25      0.50      0.33       746\n",
            "\n"
          ]
        },
        {
          "name": "stderr",
          "output_type": "stream",
          "text": [
            "/usr/local/lib/python3.7/dist-packages/sklearn/metrics/_classification.py:1318: UndefinedMetricWarning: Precision and F-score are ill-defined and being set to 0.0 in labels with no predicted samples. Use `zero_division` parameter to control this behavior.\n",
            "  _warn_prf(average, modifier, msg_start, len(result))\n",
            "/usr/local/lib/python3.7/dist-packages/sklearn/metrics/_classification.py:1318: UndefinedMetricWarning: Precision and F-score are ill-defined and being set to 0.0 in labels with no predicted samples. Use `zero_division` parameter to control this behavior.\n",
            "  _warn_prf(average, modifier, msg_start, len(result))\n",
            "/usr/local/lib/python3.7/dist-packages/sklearn/metrics/_classification.py:1318: UndefinedMetricWarning: Precision and F-score are ill-defined and being set to 0.0 in labels with no predicted samples. Use `zero_division` parameter to control this behavior.\n",
            "  _warn_prf(average, modifier, msg_start, len(result))\n"
          ]
        },
        {
          "data": {
            "text/plain": [
              "<sklearn.metrics._plot.confusion_matrix.ConfusionMatrixDisplay at 0x7fcb52a402d0>"
            ]
          },
          "execution_count": 41,
          "metadata": {},
          "output_type": "execute_result"
        },
        {
          "data": {
            "image/png": "[encoded data removed]",
            "text/plain": [
              "<Figure size 432x288 with 2 Axes>"
            ]
          },
          "metadata": {},
          "output_type": "display_data"
        }
      ],
      "source": [
        "'''\n",
        "50 (COPD) - 50 (non-COPD)\n",
        "'''\n",
        "eq_y = pd.Series(mfcc_y_test)\n",
        "eq_y_0 = eq_y[eq_y == 0] #non-COPD\n",
        "eq_y_1 = eq_y[eq_y == 1].sample(round(len(eq_y_0)),random_state = 42) #COPD\n",
        "eq_y = pd.concat((eq_y_0, eq_y_1)).sort_index()\n",
        "eq_mfcc, eq_cstft, eq_chroma = mfcc_X_test[eq_y.index], cstft_X_test[eq_y.index], chroma_X_test[eq_y.index]\n",
        "\n",
        "'''\n",
        "Load Model and Predict the Test Data on Training Table on Imbalanced Data\n",
        "'''\n",
        "#Disable warnings\n",
        "logging.disable(logging.WARNING)\n",
        "os.environ[\"TF_CPP_MIN_LOG_LEVEL\"] = \"3\"\n",
        "\n",
        "directory = \"/content/drive/MyDrive/Tugas Akhir/DATA + DESCRIPTION/Sound Database/MODELS/\"\n",
        "best_model_file = \"3type_binary_imbalanced.hdf5\"\n",
        "\n",
        "model = keras.models.load_model(directory+best_model_file)\n",
        "\n",
        "y_pred_weights = model.predict({\"mfcc\": eq_mfcc,\"croma\":eq_cstft,\"mspec\": eq_chroma}) #chroma harusny amspec\n",
        "y_pred_label = np.argmax(y_pred_weights, axis=-1)\n",
        "y_true = eq_y\n",
        "\n",
        "target_names = ['non-COPD', 'COPD']\n",
        "print(classification_report(y_true, y_pred_label, target_names=target_names))\n",
        "\n",
        "'''\n",
        "Confusion matrix\n",
        "'''\n",
        "cm = confusion_matrix(y_true, y_pred_label)\n",
        "disp = ConfusionMatrixDisplay(confusion_matrix = cm, display_labels = [\"non-COPD\", \"COPD\"])\n",
        "disp.plot()"
      ]
    },
    {
      "cell_type": "markdown",
      "metadata": {
        "id": "t2W88uExmu_x"
      },
      "source": [
        "precision dari COPD : seberapa bagus model menebak dia COPD (TP / (TP+FP)) \\\n",
        "recall :  \\\n",
        "f1_score : sensitivity , TP /(TP+FN)"
      ]
    },
    {
      "cell_type": "code",
      "execution_count": null,
      "metadata": {
        "colab": {
          "base_uri": "https://localhost:8080/"
        },
        "id": "JdZIBQgt78Uh",
        "outputId": "11a061c5-c18d-44a8-813e-4d2cb189662c"
      },
      "outputs": [
        {
          "data": {
            "text/plain": [
              "COPD        66.666667\n",
              "non-COPD    33.333333\n",
              "Name: binary_diag, dtype: float64"
            ]
          },
          "execution_count": 42,
          "metadata": {},
          "output_type": "execute_result"
        }
      ],
      "source": [
        "eq_df_1 = df[df[\"binary_diag\"] == \"non-COPD\"]\n",
        "eq_df_2 = df[df[\"binary_diag\"] == \"COPD\"].sample(round(len(eq_df_1) * 2),random_state = 42)\n",
        "eq_df = pd.concat((eq_df_1, eq_df_2))\n",
        "eq_df[\"binary_diag\"].value_counts() / len(eq_df) * 100"
      ]
    },
    {
      "cell_type": "markdown",
      "metadata": {
        "id": "mWouNfKZzbM3"
      },
      "source": [
        "### Balanced Data Set"
      ]
    },
    {
      "cell_type": "markdown",
      "metadata": {
        "id": "vuXvgnFXHswR"
      },
      "source": [
        "#### Training"
      ]
    },
    {
      "cell_type": "markdown",
      "metadata": {
        "id": "Z3nJ_TsjHx4c"
      },
      "source": [
        "##### Splitting Data"
      ]
    },
    {
      "cell_type": "code",
      "execution_count": null,
      "metadata": {
        "colab": {
          "base_uri": "https://localhost:8080/"
        },
        "id": "stRyw3YHz75P",
        "outputId": "b5c30c15-ab89-4f23-d19a-724cc2f8cc7d"
      },
      "outputs": [
        {
          "data": {
            "text/plain": [
              "non-COPD    713\n",
              "COPD        713\n",
              "Name: binary_diag, dtype: int64"
            ]
          },
          "execution_count": 34,
          "metadata": {},
          "output_type": "execute_result"
        }
      ],
      "source": [
        "eq_df_1 = df[df[\"binary_diag\"] == \"non-COPD\"]\n",
        "eq_df_2 = df[df[\"binary_diag\"] == \"COPD\"].sample(len(eq_df_1),random_state = 42)\n",
        "eq_df = pd.concat((eq_df_1, eq_df_2))\n",
        "eq_df[\"binary_diag\"].value_counts()"
      ]
    },
    {
      "cell_type": "code",
      "execution_count": null,
      "metadata": {
        "id": "Mtic0rgJzbM_"
      },
      "outputs": [],
      "source": [
        "'''\n",
        "MFCC\n",
        "'''\n",
        "#Feature\n",
        "mfcc_X = np.array(eq_df[\"mfcc\"].apply(lambda row : tf.convert_to_tensor(np.array(row), dtype=float)).to_list())\n",
        "\n",
        "#Target\n",
        "binary_diag_dict = {'non-COPD': 0, 'COPD': 1} #mapping dictionary\n",
        "mfcc_y = np.array(eq_df[\"binary_diag\"].map(binary_diag_dict).to_list())\n",
        "\n",
        "#Train-Test Split, use stratify to handle imbalanced data on the dataset\n",
        "mfcc_X_train, mfcc_X_test, mfcc_y_train, mfcc_y_test = train_test_split(mfcc_X, mfcc_y, test_size = 0.2, random_state = 42)\n",
        "\n",
        "'''\n",
        "CSTFT\n",
        "'''\n",
        "#Feature\n",
        "cstft_X = np.array(eq_df[\"cstft\"].apply(lambda row : tf.convert_to_tensor(np.array(row), dtype=float)).to_list())\n",
        "\n",
        "#Target\n",
        "binary_diag_dict = {'non-COPD': 0, 'COPD': 1} #mapping dictionary\n",
        "cstft_y = np.array(eq_df[\"binary_diag\"].map(binary_diag_dict).to_list())\n",
        "\n",
        "#Train-Test Split, use stratify to handle imbalanced data on the dataset\n",
        "cstft_X_train, cstft_X_test, cstft_y_train, cstft_y_test = train_test_split(cstft_X, cstft_y, test_size = 0.2, random_state = 42)\n",
        "\n",
        "'''\n",
        "Mel Spectogram\n",
        "'''\n",
        "#Feature\n",
        "chroma_X = np.array(eq_df[\"mspec\"].apply(lambda row : tf.convert_to_tensor(np.array(row), dtype=float)).to_list())\n",
        "\n",
        "#Target\n",
        "binary_diag_dict = {'non-COPD': 0, 'COPD': 1} #mapping dictionary\n",
        "chroma_y = np.array(eq_df[\"binary_diag\"].map(binary_diag_dict).to_list())\n",
        "\n",
        "#Train-Test Split, use stratify to handle imbalanced data on the dataset\n",
        "chroma_X_train, chroma_X_test, chroma_y_train, chroma_y_test = train_test_split(chroma_X, chroma_y, test_size = 0.2, random_state = 42)\n"
      ]
    },
    {
      "cell_type": "code",
      "execution_count": null,
      "metadata": {
        "colab": {
          "base_uri": "https://localhost:8080/"
        },
        "id": "r7mCTBpWzbNA",
        "outputId": "46e4c996-1d4c-48dd-aaaa-6ef93c92156d"
      },
      "outputs": [
        {
          "name": "stdout",
          "output_type": "stream",
          "text": [
            "MFCC\n",
            "Train :\n",
            "non-COPD    50.614035\n",
            "COPD        49.385965\n",
            "dtype: float64\n",
            "\n",
            "Test: \n",
            "COPD        52.447552\n",
            "non-COPD    47.552448\n",
            "dtype: float64\n",
            "\n",
            "CSTFT\n",
            "Train :\n",
            "non-COPD    50.614035\n",
            "COPD        49.385965\n",
            "dtype: float64\n",
            "\n",
            "Test: \n",
            "COPD        52.447552\n",
            "non-COPD    47.552448\n",
            "dtype: float64\n",
            "\n",
            "CHROMA\n",
            "Train :\n",
            "non-COPD    50.614035\n",
            "COPD        49.385965\n",
            "dtype: float64\n",
            "\n",
            "Test: \n",
            "COPD        52.447552\n",
            "non-COPD    47.552448\n",
            "dtype: float64\n",
            "\n"
          ]
        }
      ],
      "source": [
        "'''\n",
        "Test Proportion of Train and Test\n",
        "'''\n",
        "inv_diag_dict = {v: k for k, v in binary_diag_dict.items()}\n",
        "print(\"MFCC\")\n",
        "print(\"Train :\")\n",
        "print(pd.Series(mfcc_y_train).map(inv_diag_dict).value_counts()  / len(mfcc_y_train) * 100)\n",
        "print(\"\\nTest: \")\n",
        "print(pd.Series(mfcc_y_test).map(inv_diag_dict).value_counts()  / len(mfcc_y_test) * 100)\n",
        "print()\n",
        "print(\"CSTFT\")\n",
        "print(\"Train :\")\n",
        "print(pd.Series(cstft_y_train).map(inv_diag_dict).value_counts()  / len(cstft_y_train) * 100)\n",
        "print(\"\\nTest: \")\n",
        "print(pd.Series(cstft_y_test).map(inv_diag_dict).value_counts()  / len(cstft_y_test) * 100)\n",
        "print()\n",
        "print(\"CHROMA\")\n",
        "print(\"Train :\")\n",
        "print(pd.Series(chroma_y_train).map(inv_diag_dict).value_counts()  / len(chroma_y_train) * 100)\n",
        "print(\"\\nTest: \")\n",
        "print(pd.Series(chroma_y_test).map(inv_diag_dict).value_counts()  / len(chroma_y_test) * 100)\n",
        "print()"
      ]
    },
    {
      "cell_type": "code",
      "execution_count": null,
      "metadata": {
        "colab": {
          "base_uri": "https://localhost:8080/"
        },
        "id": "mFdmAtoZzbNA",
        "outputId": "4be7468d-b89a-48df-981c-cc6f2df71962"
      },
      "outputs": [
        {
          "name": "stdout",
          "output_type": "stream",
          "text": [
            "MFCC\n",
            "Training data shape : (1140, 20, 259)\n",
            "Training label shape : (1140,)\n",
            "Validation data shape : (286, 20, 259)\n",
            "Validation label shape : (286,)\n",
            "\n",
            "CSTFT\n",
            "Training data shape : (1140, 12, 259)\n",
            "Training label shape : (1140,)\n",
            "Validation data shape : (286, 12, 259)\n",
            "Validation label shape : (286,)\n",
            "\n",
            "CHROMA\n",
            "Training data shape : (1140, 128, 259)\n",
            "Training label shape : (1140,)\n",
            "Validation data shape : (286, 128, 259)\n",
            "Validation label shape : (286,)\n",
            "\n"
          ]
        }
      ],
      "source": [
        "print(\"MFCC\")\n",
        "print(f\"Training data shape : {mfcc_X_train.shape}\")\n",
        "print(f\"Training label shape : {mfcc_y_train.shape}\")\n",
        "print(f\"Validation data shape : {mfcc_X_test.shape}\")\n",
        "print(f\"Validation label shape : {mfcc_y_test.shape}\")\n",
        "print()\n",
        "print(\"CSTFT\")\n",
        "print(f\"Training data shape : {cstft_X_train.shape}\")\n",
        "print(f\"Training label shape : {cstft_y_train.shape}\")\n",
        "print(f\"Validation data shape : {cstft_X_test.shape}\")\n",
        "print(f\"Validation label shape : {cstft_y_test.shape}\")\n",
        "print()\n",
        "print(\"CHROMA\")\n",
        "print(f\"Training data shape : {chroma_X_train.shape}\")\n",
        "print(f\"Training label shape : {chroma_y_train.shape}\")\n",
        "print(f\"Validation data shape : {chroma_X_test.shape}\")\n",
        "print(f\"Validation label shape : {chroma_y_test.shape}\")\n",
        "print()"
      ]
    },
    {
      "cell_type": "markdown",
      "metadata": {
        "id": "heamXcul38Io"
      },
      "source": [
        "##### Model"
      ]
    },
    {
      "cell_type": "code",
      "execution_count": null,
      "metadata": {
        "colab": {
          "base_uri": "https://localhost:8080/"
        },
        "id": "EBgbme4YzbNA",
        "outputId": "8e82ec4f-ec7c-4124-c08d-644079dbd9c9"
      },
      "outputs": [
        {
          "name": "stdout",
          "output_type": "stream",
          "text": [
            "Model: \"mfccModel\"\n",
            "_________________________________________________________________\n",
            " Layer (type)                Output Shape              Param #   \n",
            "=================================================================\n",
            " mfccInput (InputLayer)      [(None, 20, 259, 1)]      0         \n",
            "                                                                 \n",
            " conv2d (Conv2D)             (None, 20, 87, 32)        832       \n",
            "                                                                 \n",
            " batch_normalization (BatchN  (None, 20, 87, 32)       128       \n",
            " ormalization)                                                   \n",
            "                                                                 \n",
            " activation (Activation)     (None, 20, 87, 32)        0         \n",
            "                                                                 \n",
            " max_pooling2d (MaxPooling2D  (None, 10, 43, 32)       0         \n",
            " )                                                               \n",
            "                                                                 \n",
            " conv2d_1 (Conv2D)           (None, 10, 22, 64)        18496     \n",
            "                                                                 \n",
            " batch_normalization_1 (Batc  (None, 10, 22, 64)       256       \n",
            " hNormalization)                                                 \n",
            "                                                                 \n",
            " activation_1 (Activation)   (None, 10, 22, 64)        0         \n",
            "                                                                 \n",
            " max_pooling2d_1 (MaxPooling  (None, 5, 11, 64)        0         \n",
            " 2D)                                                             \n",
            "                                                                 \n",
            " conv2d_2 (Conv2D)           (None, 5, 11, 96)         24672     \n",
            "                                                                 \n",
            " batch_normalization_2 (Batc  (None, 5, 11, 96)        384       \n",
            " hNormalization)                                                 \n",
            "                                                                 \n",
            " activation_2 (Activation)   (None, 5, 11, 96)         0         \n",
            "                                                                 \n",
            " max_pooling2d_2 (MaxPooling  (None, 2, 5, 96)         0         \n",
            " 2D)                                                             \n",
            "                                                                 \n",
            " conv2d_3 (Conv2D)           (None, 2, 5, 128)         49280     \n",
            "                                                                 \n",
            " batch_normalization_3 (Batc  (None, 2, 5, 128)        512       \n",
            " hNormalization)                                                 \n",
            "                                                                 \n",
            " activation_3 (Activation)   (None, 2, 5, 128)         0         \n",
            "                                                                 \n",
            " global_max_pooling2d (Globa  (None, 128)              0         \n",
            " lMaxPooling2D)                                                  \n",
            "                                                                 \n",
            "=================================================================\n",
            "Total params: 94,560\n",
            "Trainable params: 93,920\n",
            "Non-trainable params: 640\n",
            "_________________________________________________________________\n"
          ]
        }
      ],
      "source": [
        "mfcc_input=keras.layers.Input(shape=(20,259,1),name=\"mfccInput\")\n",
        "x=keras.layers.Conv2D(32,5,strides=(1,3),padding='same')(mfcc_input)\n",
        "x=keras.layers.BatchNormalization()(x)\n",
        "x=keras.layers.Activation(keras.activations.relu)(x)\n",
        "x=keras.layers.MaxPooling2D(pool_size=2,padding='valid')(x)\n",
        "\n",
        "x=keras.layers.Conv2D(64,3,strides=(1,2),padding='same')(x)\n",
        "x=keras.layers.BatchNormalization()(x)\n",
        "x=keras.layers.Activation(keras.activations.relu)(x)\n",
        "x=keras.layers.MaxPooling2D(pool_size=2,padding='valid')(x)\n",
        "\n",
        "x=keras.layers.Conv2D(96,2,padding='same')(x)\n",
        "x=keras.layers.BatchNormalization()(x)\n",
        "x=keras.layers.Activation(keras.activations.relu)(x)\n",
        "x=keras.layers.MaxPooling2D(pool_size=2,padding='valid')(x)\n",
        "\n",
        "x=keras.layers.Conv2D(128,2,padding='same')(x)\n",
        "x=keras.layers.BatchNormalization()(x)\n",
        "x=keras.layers.Activation(keras.activations.relu)(x)\n",
        "mfcc_output=keras.layers.GlobalMaxPooling2D()(x)\n",
        "\n",
        "mfcc_model=keras.Model(mfcc_input, mfcc_output, name=\"mfccModel\")\n",
        "mfcc_model.summary()"
      ]
    },
    {
      "cell_type": "code",
      "execution_count": null,
      "metadata": {
        "colab": {
          "base_uri": "https://localhost:8080/"
        },
        "id": "uzNpdvGWzbNA",
        "outputId": "1c553aaa-cb83-445d-b375-0712d59c0c24"
      },
      "outputs": [
        {
          "name": "stdout",
          "output_type": "stream",
          "text": [
            "Model: \"cromaModel\"\n",
            "_________________________________________________________________\n",
            " Layer (type)                Output Shape              Param #   \n",
            "=================================================================\n",
            " cromaInput (InputLayer)     [(None, 12, 259, 1)]      0         \n",
            "                                                                 \n",
            " conv2d_4 (Conv2D)           (None, 12, 87, 32)        832       \n",
            "                                                                 \n",
            " batch_normalization_4 (Batc  (None, 12, 87, 32)       128       \n",
            " hNormalization)                                                 \n",
            "                                                                 \n",
            " activation_4 (Activation)   (None, 12, 87, 32)        0         \n",
            "                                                                 \n",
            " max_pooling2d_3 (MaxPooling  (None, 6, 43, 32)        0         \n",
            " 2D)                                                             \n",
            "                                                                 \n",
            " conv2d_5 (Conv2D)           (None, 6, 22, 64)         18496     \n",
            "                                                                 \n",
            " batch_normalization_5 (Batc  (None, 6, 22, 64)        256       \n",
            " hNormalization)                                                 \n",
            "                                                                 \n",
            " activation_5 (Activation)   (None, 6, 22, 64)         0         \n",
            "                                                                 \n",
            " max_pooling2d_4 (MaxPooling  (None, 3, 11, 64)        0         \n",
            " 2D)                                                             \n",
            "                                                                 \n",
            " conv2d_6 (Conv2D)           (None, 3, 11, 128)        32896     \n",
            "                                                                 \n",
            " batch_normalization_6 (Batc  (None, 3, 11, 128)       512       \n",
            " hNormalization)                                                 \n",
            "                                                                 \n",
            " activation_6 (Activation)   (None, 3, 11, 128)        0         \n",
            "                                                                 \n",
            " global_max_pooling2d_1 (Glo  (None, 128)              0         \n",
            " balMaxPooling2D)                                                \n",
            "                                                                 \n",
            "=================================================================\n",
            "Total params: 53,120\n",
            "Trainable params: 52,672\n",
            "Non-trainable params: 448\n",
            "_________________________________________________________________\n"
          ]
        }
      ],
      "source": [
        "croma_input=keras.layers.Input(shape=(12,259,1),name=\"cromaInput\")\n",
        "x=keras.layers.Conv2D(32,5,strides=(1,3),padding='same')(croma_input)\n",
        "x=keras.layers.BatchNormalization()(x)\n",
        "x=keras.layers.Activation(keras.activations.relu)(x)\n",
        "x=keras.layers.MaxPooling2D(pool_size=2,padding='valid')(x)\n",
        "\n",
        "x=keras.layers.Conv2D(64,3,strides=(1,2),padding='same')(x)\n",
        "x=keras.layers.BatchNormalization()(x)\n",
        "x=keras.layers.Activation(keras.activations.relu)(x)\n",
        "x=keras.layers.MaxPooling2D(pool_size=2,padding='valid')(x)\n",
        "\n",
        "x=keras.layers.Conv2D(128,2,padding='same')(x)\n",
        "x=keras.layers.BatchNormalization()(x)\n",
        "x=keras.layers.Activation(keras.activations.relu)(x)\n",
        "croma_output=keras.layers.GlobalMaxPooling2D()(x)\n",
        "\n",
        "croma_model=keras.Model(croma_input, croma_output, name=\"cromaModel\")\n",
        "croma_model.summary()"
      ]
    },
    {
      "cell_type": "code",
      "execution_count": null,
      "metadata": {
        "colab": {
          "base_uri": "https://localhost:8080/"
        },
        "id": "aoGShUCFzbNA",
        "outputId": "c2bb3098-6448-4c5b-a22c-54d950140e11"
      },
      "outputs": [
        {
          "name": "stdout",
          "output_type": "stream",
          "text": [
            "Model: \"mSpecModel\"\n",
            "_________________________________________________________________\n",
            " Layer (type)                Output Shape              Param #   \n",
            "=================================================================\n",
            " mSpecInput (InputLayer)     [(None, 128, 259, 1)]     0         \n",
            "                                                                 \n",
            " conv2d_7 (Conv2D)           (None, 64, 87, 32)        832       \n",
            "                                                                 \n",
            " batch_normalization_7 (Batc  (None, 64, 87, 32)       128       \n",
            " hNormalization)                                                 \n",
            "                                                                 \n",
            " activation_7 (Activation)   (None, 64, 87, 32)        0         \n",
            "                                                                 \n",
            " max_pooling2d_5 (MaxPooling  (None, 32, 43, 32)       0         \n",
            " 2D)                                                             \n",
            "                                                                 \n",
            " conv2d_8 (Conv2D)           (None, 16, 22, 64)        18496     \n",
            "                                                                 \n",
            " batch_normalization_8 (Batc  (None, 16, 22, 64)       256       \n",
            " hNormalization)                                                 \n",
            "                                                                 \n",
            " activation_8 (Activation)   (None, 16, 22, 64)        0         \n",
            "                                                                 \n",
            " max_pooling2d_6 (MaxPooling  (None, 8, 11, 64)        0         \n",
            " 2D)                                                             \n",
            "                                                                 \n",
            " conv2d_9 (Conv2D)           (None, 8, 11, 96)         24672     \n",
            "                                                                 \n",
            " batch_normalization_9 (Batc  (None, 8, 11, 96)        384       \n",
            " hNormalization)                                                 \n",
            "                                                                 \n",
            " activation_9 (Activation)   (None, 8, 11, 96)         0         \n",
            "                                                                 \n",
            " max_pooling2d_7 (MaxPooling  (None, 4, 5, 96)         0         \n",
            " 2D)                                                             \n",
            "                                                                 \n",
            " conv2d_10 (Conv2D)          (None, 4, 5, 128)         49280     \n",
            "                                                                 \n",
            " batch_normalization_10 (Bat  (None, 4, 5, 128)        512       \n",
            " chNormalization)                                                \n",
            "                                                                 \n",
            " activation_10 (Activation)  (None, 4, 5, 128)         0         \n",
            "                                                                 \n",
            " global_max_pooling2d_2 (Glo  (None, 128)              0         \n",
            " balMaxPooling2D)                                                \n",
            "                                                                 \n",
            "=================================================================\n",
            "Total params: 94,560\n",
            "Trainable params: 93,920\n",
            "Non-trainable params: 640\n",
            "_________________________________________________________________\n"
          ]
        }
      ],
      "source": [
        "mSpec_input=keras.layers.Input(shape=(128,259,1),name=\"mSpecInput\")\n",
        "x=keras.layers.Conv2D(32,5,strides=(2,3),padding='same')(mSpec_input)\n",
        "x=keras.layers.BatchNormalization()(x)\n",
        "x=keras.layers.Activation(keras.activations.relu)(x)\n",
        "x=keras.layers.MaxPooling2D(pool_size=2,padding='valid')(x)\n",
        "\n",
        "x=keras.layers.Conv2D(64,3,strides=(2,2),padding='same')(x)\n",
        "x=keras.layers.BatchNormalization()(x)\n",
        "x=keras.layers.Activation(keras.activations.relu)(x)\n",
        "x=keras.layers.MaxPooling2D(pool_size=2,padding='valid')(x)\n",
        "\n",
        "x=keras.layers.Conv2D(96,2,padding='same')(x)\n",
        "x=keras.layers.BatchNormalization()(x)\n",
        "x=keras.layers.Activation(keras.activations.relu)(x)\n",
        "x=keras.layers.MaxPooling2D(pool_size=2,padding='valid')(x)\n",
        "\n",
        "x=keras.layers.Conv2D(128,2,padding='same')(x)\n",
        "x=keras.layers.BatchNormalization()(x)\n",
        "x=keras.layers.Activation(keras.activations.relu)(x)\n",
        "mSpec_output=keras.layers.GlobalMaxPooling2D()(x)\n",
        "\n",
        "mSpec_model=keras.Model(mSpec_input, mSpec_output, name=\"mSpecModel\")\n",
        "mSpec_model.summary()"
      ]
    },
    {
      "cell_type": "code",
      "execution_count": null,
      "metadata": {
        "colab": {
          "base_uri": "https://localhost:8080/"
        },
        "id": "A-6bCSANzbNA",
        "outputId": "0c81778b-e972-4ca7-8f8f-e69cfc3b5c81"
      },
      "outputs": [
        {
          "name": "stdout",
          "output_type": "stream",
          "text": [
            "Model: \"Net\"\n",
            "__________________________________________________________________________________________________\n",
            " Layer (type)                   Output Shape         Param #     Connected to                     \n",
            "==================================================================================================\n",
            " mfcc (InputLayer)              [(None, 20, 259, 1)  0           []                               \n",
            "                                ]                                                                 \n",
            "                                                                                                  \n",
            " croma (InputLayer)             [(None, 12, 259, 1)  0           []                               \n",
            "                                ]                                                                 \n",
            "                                                                                                  \n",
            " mspec (InputLayer)             [(None, 128, 259, 1  0           []                               \n",
            "                                )]                                                                \n",
            "                                                                                                  \n",
            " mfccModel (Functional)         (None, 128)          94560       ['mfcc[0][0]']                   \n",
            "                                                                                                  \n",
            " cromaModel (Functional)        (None, 128)          53120       ['croma[0][0]']                  \n",
            "                                                                                                  \n",
            " mSpecModel (Functional)        (None, 128)          94560       ['mspec[0][0]']                  \n",
            "                                                                                                  \n",
            " concatenate (Concatenate)      (None, 384)          0           ['mfccModel[0][0]',              \n",
            "                                                                  'cromaModel[0][0]',             \n",
            "                                                                  'mSpecModel[0][0]']             \n",
            "                                                                                                  \n",
            " dense (Dense)                  (None, 50)           19250       ['concatenate[0][0]']            \n",
            "                                                                                                  \n",
            " dropout_1 (Dropout)            (None, 50)           0           ['dense[0][0]']                  \n",
            "                                                                                                  \n",
            " dense_1 (Dense)                (None, 25)           1275        ['dropout_1[0][0]']              \n",
            "                                                                                                  \n",
            " dropout_2 (Dropout)            (None, 25)           0           ['dense_1[0][0]']                \n",
            "                                                                                                  \n",
            " dense_2 (Dense)                (None, 2)            52          ['dropout_2[0][0]']              \n",
            "                                                                                                  \n",
            "==================================================================================================\n",
            "Total params: 262,817\n",
            "Trainable params: 261,089\n",
            "Non-trainable params: 1,728\n",
            "__________________________________________________________________________________________________\n"
          ]
        }
      ],
      "source": [
        "input_mfcc=keras.layers.Input(shape=(20,259,1),name=\"mfcc\")\n",
        "mfcc=mfcc_model(input_mfcc)\n",
        "\n",
        "input_croma=keras.layers.Input(shape=(12,259,1),name=\"croma\")\n",
        "croma=croma_model(input_croma)\n",
        "\n",
        "input_mSpec=keras.layers.Input(shape=(128,259,1),name=\"mspec\")\n",
        "mSpec=mSpec_model(input_mSpec)\n",
        "\n",
        "\n",
        "concat=keras.layers.concatenate([mfcc,croma,mSpec])\n",
        "hidden=keras.layers.Dropout(0.2)(concat)\n",
        "hidden=keras.layers.Dense(50,activation='relu')(concat)\n",
        "hidden=keras.layers.Dropout(0.3)(hidden)\n",
        "hidden=keras.layers.Dense(25,activation='relu')(hidden)\n",
        "hidden=keras.layers.Dropout(0.3)(hidden)\n",
        "output=keras.layers.Dense(2,activation='softmax')(hidden)\n",
        "\n",
        "net=keras.Model([input_mfcc,input_croma,input_mSpec], output, name=\"Net\")\n",
        "net.summary()"
      ]
    },
    {
      "cell_type": "code",
      "execution_count": null,
      "metadata": {
        "colab": {
          "base_uri": "https://localhost:8080/",
          "height": 863
        },
        "id": "VNY0Fh_nDX3A",
        "outputId": "2c4ca1df-d989-4703-d654-7e114a7d6782"
      },
      "outputs": [
        {
          "data": {
            "image/png": "[encoded data removed]",
            "text/plain": [
              "<IPython.core.display.Image object>"
            ]
          },
          "execution_count": 33,
          "metadata": {},
          "output_type": "execute_result"
        }
      ],
      "source": [
        "keras.utils.plot_model(net, \"net.png\", show_shapes=True)"
      ]
    },
    {
      "cell_type": "code",
      "execution_count": null,
      "metadata": {
        "id": "RGLXUVeBzbNB"
      },
      "outputs": [],
      "source": [
        "from keras import backend as K\n",
        "net.compile(loss='sparse_categorical_crossentropy', optimizer='nadam', metrics=['accuracy'])\n",
        "K.set_value(net.optimizer.learning_rate, 0.001)"
      ]
    },
    {
      "cell_type": "code",
      "execution_count": null,
      "metadata": {
        "colab": {
          "base_uri": "https://localhost:8080/"
        },
        "id": "k8pXVKEozbNB",
        "outputId": "b052fcb8-1972-48e6-dcc1-ae82102e28e0"
      },
      "outputs": [
        {
          "data": {
            "text/plain": [
              "True"
            ]
          },
          "execution_count": 42,
          "metadata": {},
          "output_type": "execute_result"
        }
      ],
      "source": [
        "np.logical_and( (mfcc_y_train==cstft_y_train).all(), (cstft_y_train==chroma_y_train).all() )"
      ]
    },
    {
      "cell_type": "code",
      "execution_count": null,
      "metadata": {
        "colab": {
          "base_uri": "https://localhost:8080/"
        },
        "id": "ZSemHsalzbNB",
        "outputId": "30fb1852-775c-4bb2-ae05-53e2b2d15b38"
      },
      "outputs": [
        {
          "data": {
            "text/plain": [
              "True"
            ]
          },
          "execution_count": 43,
          "metadata": {},
          "output_type": "execute_result"
        }
      ],
      "source": [
        "np.logical_and( (mfcc_y_test==cstft_y_test).all(), (cstft_y_test==chroma_y_test).all() )"
      ]
    },
    {
      "cell_type": "code",
      "execution_count": null,
      "metadata": {
        "id": "4Jxb8CrHzbNB"
      },
      "outputs": [],
      "source": [
        "my_callbacks = [\n",
        "    tf.keras.callbacks.EarlyStopping(patience=5),\n",
        "    tf.keras.callbacks.ReduceLROnPlateau(monitor='val_loss', factor=0.1,\n",
        "                              patience=3, min_lr=0.00001,mode='min')\n",
        "]\n",
        "#harusnya chroma --> mSpec\n",
        "history=net.fit(\n",
        "    {\"mfcc\":mfcc_X_train,\"croma\":cstft_X_train,\"mspec\":chroma_X_train},\n",
        "    mfcc_y_train,\n",
        "    validation_data=({\"mfcc\":mfcc_X_test,\"croma\":cstft_X_test,\"mspec\":chroma_X_test},mfcc_y_test),\n",
        "    epochs=50,verbose=0,\n",
        "    callbacks=my_callbacks\n",
        ")"
      ]
    },
    {
      "cell_type": "code",
      "execution_count": null,
      "metadata": {
        "id": "1L_sjgVUzbNB"
      },
      "outputs": [],
      "source": [
        "net.save(\"/content/drive/MyDrive/Tugas Akhir/DATA + DESCRIPTION/Sound Database/MODELS/3type_binary_balanced_7nov.hdf5\")"
      ]
    },
    {
      "cell_type": "markdown",
      "metadata": {
        "id": "Ilg3PXUW4A1k"
      },
      "source": [
        "#### Model Evaluation"
      ]
    },
    {
      "cell_type": "code",
      "execution_count": null,
      "metadata": {
        "colab": {
          "base_uri": "https://localhost:8080/",
          "height": 265
        },
        "id": "Sb31EzLbzbNB",
        "outputId": "29c9dd74-7249-4f36-ef4b-e18948110092"
      },
      "outputs": [
        {
          "data": {
            "image/png": "[encoded data removed]",
            "text/plain": [
              "<Figure size 432x288 with 1 Axes>"
            ]
          },
          "metadata": {},
          "output_type": "display_data"
        }
      ],
      "source": [
        "pd.DataFrame(history.history).plot()\n",
        "plt.grid(True)\n",
        "plt.gca().set_ylim(-0.1,1.1)\n",
        "plt.show()"
      ]
    },
    {
      "cell_type": "code",
      "execution_count": null,
      "metadata": {
        "colab": {
          "base_uri": "https://localhost:8080/"
        },
        "id": "-0WhNx8w0mWw",
        "outputId": "60204eca-74cf-4f7d-916a-83eda6a593ea"
      },
      "outputs": [
        {
          "name": "stdout",
          "output_type": "stream",
          "text": [
            "9/9 [==============================] - 2s 120ms/step\n",
            "              precision    recall  f1-score   support\n",
            "\n",
            "    non-COPD       0.48      1.00      0.64       136\n",
            "        COPD       0.00      0.00      0.00       150\n",
            "\n",
            "    accuracy                           0.48       286\n",
            "   macro avg       0.24      0.50      0.32       286\n",
            "weighted avg       0.23      0.48      0.31       286\n",
            "\n"
          ]
        },
        {
          "name": "stderr",
          "output_type": "stream",
          "text": [
            "/usr/local/lib/python3.7/dist-packages/sklearn/metrics/_classification.py:1318: UndefinedMetricWarning: Precision and F-score are ill-defined and being set to 0.0 in labels with no predicted samples. Use `zero_division` parameter to control this behavior.\n",
            "  _warn_prf(average, modifier, msg_start, len(result))\n",
            "/usr/local/lib/python3.7/dist-packages/sklearn/metrics/_classification.py:1318: UndefinedMetricWarning: Precision and F-score are ill-defined and being set to 0.0 in labels with no predicted samples. Use `zero_division` parameter to control this behavior.\n",
            "  _warn_prf(average, modifier, msg_start, len(result))\n",
            "/usr/local/lib/python3.7/dist-packages/sklearn/metrics/_classification.py:1318: UndefinedMetricWarning: Precision and F-score are ill-defined and being set to 0.0 in labels with no predicted samples. Use `zero_division` parameter to control this behavior.\n",
            "  _warn_prf(average, modifier, msg_start, len(result))\n"
          ]
        }
      ],
      "source": [
        "'''\n",
        "Load Model and Predict the Test Data on Training Table\n",
        "'''\n",
        "#Disable warnings\n",
        "logging.disable(logging.WARNING)\n",
        "os.environ[\"TF_CPP_MIN_LOG_LEVEL\"] = \"3\"\n",
        "\n",
        "directory = \"/content/drive/MyDrive/Tugas Akhir/DATA + DESCRIPTION/Sound Database/MODELS/\"\n",
        "best_model_file = \"3type_binary_balanced.hdf5\"\n",
        "\n",
        "model = keras.models.load_model(directory+best_model_file)\n",
        "\n",
        "y_pred_weights = model.predict({\"mfcc\":mfcc_X_test,\"croma\":cstft_X_test,\"mspec\":chroma_X_test})\n",
        "y_pred_label = np.argmax(y_pred_weights, axis=-1)\n",
        "y_true = mfcc_y_test\n",
        "\n",
        "target_names = ['non-COPD', 'COPD']\n",
        "print(classification_report(y_true, y_pred_label, target_names=target_names))"
      ]
    },
    {
      "cell_type": "code",
      "execution_count": null,
      "metadata": {
        "colab": {
          "base_uri": "https://localhost:8080/",
          "height": 419
        },
        "id": "ONmztoGqHKcr",
        "outputId": "42ee63ce-454b-46d8-f374-d09e8f2aa49e"
      },
      "outputs": [
        {
          "ename": "ValueError",
          "evalue": "ignored",
          "output_type": "error",
          "traceback": [
            "\u001b[0;31m---------------------------------------------------------------------------\u001b[0m",
            "\u001b[0;31mValueError\u001b[0m                                Traceback (most recent call last)",
            "\u001b[0;32m<ipython-input-49-5891bdca09a7>\u001b[0m in \u001b[0;36m<module>\u001b[0;34m\u001b[0m\n\u001b[1;32m      4\u001b[0m \u001b[0meq_y\u001b[0m \u001b[0;34m=\u001b[0m \u001b[0mpd\u001b[0m\u001b[0;34m.\u001b[0m\u001b[0mSeries\u001b[0m\u001b[0;34m(\u001b[0m\u001b[0mmfcc_y_test\u001b[0m\u001b[0;34m)\u001b[0m\u001b[0;34m\u001b[0m\u001b[0;34m\u001b[0m\u001b[0m\n\u001b[1;32m      5\u001b[0m \u001b[0meq_y_0\u001b[0m \u001b[0;34m=\u001b[0m \u001b[0meq_y\u001b[0m\u001b[0;34m[\u001b[0m\u001b[0meq_y\u001b[0m \u001b[0;34m==\u001b[0m \u001b[0;36m0\u001b[0m\u001b[0;34m]\u001b[0m \u001b[0;31m#non-COPD\u001b[0m\u001b[0;34m\u001b[0m\u001b[0;34m\u001b[0m\u001b[0m\n\u001b[0;32m----> 6\u001b[0;31m \u001b[0meq_y_1\u001b[0m \u001b[0;34m=\u001b[0m \u001b[0meq_y\u001b[0m\u001b[0;34m[\u001b[0m\u001b[0meq_y\u001b[0m \u001b[0;34m==\u001b[0m \u001b[0;36m1\u001b[0m\u001b[0;34m]\u001b[0m\u001b[0;34m.\u001b[0m\u001b[0msample\u001b[0m\u001b[0;34m(\u001b[0m\u001b[0mround\u001b[0m\u001b[0;34m(\u001b[0m\u001b[0mlen\u001b[0m\u001b[0;34m(\u001b[0m\u001b[0meq_y_0\u001b[0m\u001b[0;34m)\u001b[0m \u001b[0;34m*\u001b[0m \u001b[0;36m2.5\u001b[0m\u001b[0;34m)\u001b[0m\u001b[0;34m,\u001b[0m\u001b[0mrandom_state\u001b[0m \u001b[0;34m=\u001b[0m \u001b[0;36m42\u001b[0m\u001b[0;34m)\u001b[0m \u001b[0;31m#COPD\u001b[0m\u001b[0;34m\u001b[0m\u001b[0;34m\u001b[0m\u001b[0m\n\u001b[0m\u001b[1;32m      7\u001b[0m \u001b[0meq_y\u001b[0m \u001b[0;34m=\u001b[0m \u001b[0mpd\u001b[0m\u001b[0;34m.\u001b[0m\u001b[0mconcat\u001b[0m\u001b[0;34m(\u001b[0m\u001b[0;34m(\u001b[0m\u001b[0meq_y_0\u001b[0m\u001b[0;34m,\u001b[0m \u001b[0meq_y_1\u001b[0m\u001b[0;34m)\u001b[0m\u001b[0;34m)\u001b[0m\u001b[0;34m.\u001b[0m\u001b[0msort_index\u001b[0m\u001b[0;34m(\u001b[0m\u001b[0;34m)\u001b[0m\u001b[0;34m\u001b[0m\u001b[0;34m\u001b[0m\u001b[0m\n\u001b[1;32m      8\u001b[0m \u001b[0meq_mfcc\u001b[0m\u001b[0;34m,\u001b[0m \u001b[0meq_cstft\u001b[0m\u001b[0;34m,\u001b[0m \u001b[0meq_chroma\u001b[0m \u001b[0;34m=\u001b[0m \u001b[0mmfcc_X_test\u001b[0m\u001b[0;34m[\u001b[0m\u001b[0meq_y\u001b[0m\u001b[0;34m.\u001b[0m\u001b[0mindex\u001b[0m\u001b[0;34m]\u001b[0m\u001b[0;34m,\u001b[0m \u001b[0mcstft_X_test\u001b[0m\u001b[0;34m[\u001b[0m\u001b[0meq_y\u001b[0m\u001b[0;34m.\u001b[0m\u001b[0mindex\u001b[0m\u001b[0;34m]\u001b[0m\u001b[0;34m,\u001b[0m \u001b[0mchroma_X_test\u001b[0m\u001b[0;34m[\u001b[0m\u001b[0meq_y\u001b[0m\u001b[0;34m.\u001b[0m\u001b[0mindex\u001b[0m\u001b[0;34m]\u001b[0m\u001b[0;34m\u001b[0m\u001b[0;34m\u001b[0m\u001b[0m\n",
            "\u001b[0;32m/usr/local/lib/python3.7/dist-packages/pandas/core/generic.py\u001b[0m in \u001b[0;36msample\u001b[0;34m(self, n, frac, replace, weights, random_state, axis, ignore_index)\u001b[0m\n\u001b[1;32m   5363\u001b[0m             )\n\u001b[1;32m   5364\u001b[0m \u001b[0;34m\u001b[0m\u001b[0m\n\u001b[0;32m-> 5365\u001b[0;31m         \u001b[0mlocs\u001b[0m \u001b[0;34m=\u001b[0m \u001b[0mrs\u001b[0m\u001b[0;34m.\u001b[0m\u001b[0mchoice\u001b[0m\u001b[0;34m(\u001b[0m\u001b[0maxis_length\u001b[0m\u001b[0;34m,\u001b[0m \u001b[0msize\u001b[0m\u001b[0;34m=\u001b[0m\u001b[0mn\u001b[0m\u001b[0;34m,\u001b[0m \u001b[0mreplace\u001b[0m\u001b[0;34m=\u001b[0m\u001b[0mreplace\u001b[0m\u001b[0;34m,\u001b[0m \u001b[0mp\u001b[0m\u001b[0;34m=\u001b[0m\u001b[0mweights\u001b[0m\u001b[0;34m)\u001b[0m\u001b[0;34m\u001b[0m\u001b[0;34m\u001b[0m\u001b[0m\n\u001b[0m\u001b[1;32m   5366\u001b[0m         \u001b[0mresult\u001b[0m \u001b[0;34m=\u001b[0m \u001b[0mself\u001b[0m\u001b[0;34m.\u001b[0m\u001b[0mtake\u001b[0m\u001b[0;34m(\u001b[0m\u001b[0mlocs\u001b[0m\u001b[0;34m,\u001b[0m \u001b[0maxis\u001b[0m\u001b[0;34m=\u001b[0m\u001b[0maxis\u001b[0m\u001b[0;34m)\u001b[0m\u001b[0;34m\u001b[0m\u001b[0;34m\u001b[0m\u001b[0m\n\u001b[1;32m   5367\u001b[0m         \u001b[0;32mif\u001b[0m \u001b[0mignore_index\u001b[0m\u001b[0;34m:\u001b[0m\u001b[0;34m\u001b[0m\u001b[0;34m\u001b[0m\u001b[0m\n",
            "\u001b[0;32mmtrand.pyx\u001b[0m in \u001b[0;36mnumpy.random.mtrand.RandomState.choice\u001b[0;34m()\u001b[0m\n",
            "\u001b[0;31mValueError\u001b[0m: Cannot take a larger sample than population when 'replace=False'"
          ]
        }
      ],
      "source": [
        "'''\n",
        "70 (COPD) - 30 (non-COPD)\n",
        "'''\n",
        "eq_y = pd.Series(mfcc_y_test)\n",
        "eq_y_0 = eq_y[eq_y == 0] #non-COPD\n",
        "eq_y_1 = eq_y[eq_y == 1].sample(round(len(eq_y_0) * 2.5),random_state = 42) #COPD\n",
        "eq_y = pd.concat((eq_y_0, eq_y_1)).sort_index()\n",
        "eq_mfcc, eq_cstft, eq_chroma = mfcc_X_test[eq_y.index], cstft_X_test[eq_y.index], chroma_X_test[eq_y.index]\n",
        "\n",
        "'''\n",
        "Load Model and Predict the Test Data on Training Table on Imbalanced Data\n",
        "'''\n",
        "#Disable warnings\n",
        "logging.disable(logging.WARNING)\n",
        "os.environ[\"TF_CPP_MIN_LOG_LEVEL\"] = \"3\"\n",
        "\n",
        "directory = \"/content/drive/MyDrive/Tugas Akhir/DATA + DESCRIPTION/Sound Database/MODELS/\"\n",
        "best_model_file = \"3type_binary_balanced.hdf5\"\n",
        "\n",
        "model = keras.models.load_model(directory+best_model_file)\n",
        "\n",
        "y_pred_weights = model.predict({\"mfcc\": eq_mfcc,\"croma\":eq_cstft,\"mspec\": eq_chroma}) #chroma harusny amspec\n",
        "y_pred_label = np.argmax(y_pred_weights, axis=-1)\n",
        "y_true = eq_y\n",
        "\n",
        "target_names = ['non-COPD', 'COPD']\n",
        "print(classification_report(y_true, y_pred_label, target_names=target_names))\n",
        "\n",
        "'''\n",
        "Confusion matrix\n",
        "'''\n",
        "cm = confusion_matrix(y_true, y_pred_label)\n",
        "disp = ConfusionMatrixDisplay(confusion_matrix = cm, display_labels = [\"non-COPD\", \"COPD\"])\n",
        "disp.plot()"
      ]
    },
    {
      "cell_type": "code",
      "execution_count": null,
      "metadata": {
        "colab": {
          "base_uri": "https://localhost:8080/",
          "height": 603
        },
        "id": "m_mtLqN8HKcs",
        "outputId": "a7e36123-c49d-4897-fad5-856e0fc3bea6"
      },
      "outputs": [
        {
          "name": "stdout",
          "output_type": "stream",
          "text": [
            "9/9 [==============================] - 2s 165ms/step\n",
            "              precision    recall  f1-score   support\n",
            "\n",
            "    non-COPD       0.50      1.00      0.67       136\n",
            "        COPD       0.00      0.00      0.00       136\n",
            "\n",
            "    accuracy                           0.50       272\n",
            "   macro avg       0.25      0.50      0.33       272\n",
            "weighted avg       0.25      0.50      0.33       272\n",
            "\n"
          ]
        },
        {
          "name": "stderr",
          "output_type": "stream",
          "text": [
            "/usr/local/lib/python3.7/dist-packages/sklearn/metrics/_classification.py:1318: UndefinedMetricWarning: Precision and F-score are ill-defined and being set to 0.0 in labels with no predicted samples. Use `zero_division` parameter to control this behavior.\n",
            "  _warn_prf(average, modifier, msg_start, len(result))\n",
            "/usr/local/lib/python3.7/dist-packages/sklearn/metrics/_classification.py:1318: UndefinedMetricWarning: Precision and F-score are ill-defined and being set to 0.0 in labels with no predicted samples. Use `zero_division` parameter to control this behavior.\n",
            "  _warn_prf(average, modifier, msg_start, len(result))\n",
            "/usr/local/lib/python3.7/dist-packages/sklearn/metrics/_classification.py:1318: UndefinedMetricWarning: Precision and F-score are ill-defined and being set to 0.0 in labels with no predicted samples. Use `zero_division` parameter to control this behavior.\n",
            "  _warn_prf(average, modifier, msg_start, len(result))\n"
          ]
        },
        {
          "data": {
            "text/plain": [
              "<sklearn.metrics._plot.confusion_matrix.ConfusionMatrixDisplay at 0x7feac100df50>"
            ]
          },
          "execution_count": 52,
          "metadata": {},
          "output_type": "execute_result"
        },
        {
          "data": {
            "image/png": "[encoded data removed]",
            "text/plain": [
              "<Figure size 432x288 with 2 Axes>"
            ]
          },
          "metadata": {},
          "output_type": "display_data"
        }
      ],
      "source": [
        "'''\n",
        "60 (COPD) - 40 (non-COPD)\n",
        "'''\n",
        "eq_y = pd.Series(mfcc_y_test)\n",
        "eq_y_0 = eq_y[eq_y == 0] #non-COPD\n",
        "eq_y_1 = eq_y[eq_y == 1].sample(round(len(eq_y_0) ),random_state = 42) #COPD\n",
        "eq_y = pd.concat((eq_y_0, eq_y_1)).sort_index()\n",
        "eq_mfcc, eq_cstft, eq_chroma = mfcc_X_test[eq_y.index], cstft_X_test[eq_y.index], chroma_X_test[eq_y.index]\n",
        "\n",
        "'''\n",
        "Load Model and Predict the Test Data on Training Table on Imbalanced Data\n",
        "'''\n",
        "#Disable warnings\n",
        "logging.disable(logging.WARNING)\n",
        "os.environ[\"TF_CPP_MIN_LOG_LEVEL\"] = \"3\"\n",
        "\n",
        "directory = \"/content/drive/MyDrive/Tugas Akhir/DATA + DESCRIPTION/Sound Database/MODELS/\"\n",
        "best_model_file = \"3type_binary_balanced_7nov.hdf5\"\n",
        "\n",
        "model = keras.models.load_model(directory+best_model_file)\n",
        "\n",
        "y_pred_weights = model.predict({\"mfcc\": eq_mfcc,\"croma\":eq_cstft,\"mspec\": eq_chroma}) #chroma harusny amspec\n",
        "y_pred_label = np.argmax(y_pred_weights, axis=-1)\n",
        "y_true = eq_y\n",
        "\n",
        "target_names = ['non-COPD', 'COPD']\n",
        "print(classification_report(y_true, y_pred_label, target_names=target_names))\n",
        "\n",
        "'''\n",
        "Confusion matrix\n",
        "'''\n",
        "cm = confusion_matrix(y_true, y_pred_label)\n",
        "disp = ConfusionMatrixDisplay(confusion_matrix = cm, display_labels = [\"non-COPD\", \"COPD\"])\n",
        "disp.plot()"
      ]
    },
    {
      "cell_type": "code",
      "execution_count": null,
      "metadata": {
        "id": "9zY-8eEeHKcs"
      },
      "outputs": [],
      "source": [
        "'''\n",
        "50 (COPD) - 50 (non-COPD)\n",
        "'''\n",
        "eq_y = pd.Series(mfcc_y_test)\n",
        "eq_y_0 = eq_y[eq_y == 0] #non-COPD\n",
        "eq_y_1 = eq_y[eq_y == 1].sample(round(len(eq_y_0)),random_state = 42) #COPD\n",
        "eq_y = pd.concat((eq_y_0, eq_y_1)).sort_index()\n",
        "eq_mfcc, eq_cstft, eq_chroma = mfcc_X_test[eq_y.index], cstft_X_test[eq_y.index], chroma_X_test[eq_y.index]\n",
        "\n",
        "'''\n",
        "Load Model and Predict the Test Data on Training Table on Imbalanced Data\n",
        "'''\n",
        "#Disable warnings\n",
        "logging.disable(logging.WARNING)\n",
        "os.environ[\"TF_CPP_MIN_LOG_LEVEL\"] = \"3\"\n",
        "\n",
        "directory = \"/content/drive/MyDrive/Tugas Akhir/DATA + DESCRIPTION/Sound Database/MODELS/\"\n",
        "best_model_file = \"3type_binary_balanced.hdf5\"\n",
        "\n",
        "model = keras.models.load_model(directory+best_model_file)\n",
        "\n",
        "y_pred_weights = model.predict({\"mfcc\": eq_mfcc,\"croma\":eq_cstft,\"mspec\": eq_chroma}) #chroma harusny amspec\n",
        "y_pred_label = np.argmax(y_pred_weights, axis=-1)\n",
        "y_true = eq_y\n",
        "\n",
        "target_names = ['non-COPD', 'COPD']\n",
        "print(classification_report(y_true, y_pred_label, target_names=target_names))\n",
        "\n",
        "'''\n",
        "Confusion matrix\n",
        "'''\n",
        "cm = confusion_matrix(y_true, y_pred_label)\n",
        "disp = ConfusionMatrixDisplay(confusion_matrix = cm, display_labels = [\"non-COPD\", \"COPD\"])\n",
        "disp.plot()"
      ]
    },
    {
      "cell_type": "code",
      "execution_count": null,
      "metadata": {
        "id": "5J_K5u28HTib"
      },
      "outputs": [],
      "source": []
    },
    {
      "cell_type": "markdown",
      "metadata": {
        "id": "nMKEzTYw-rAg"
      },
      "source": [
        "### in between Balanced Data Set 70 - 30 training process"
      ]
    },
    {
      "cell_type": "markdown",
      "metadata": {
        "id": "htFVXUdm-rAp"
      },
      "source": [
        "#### Training"
      ]
    },
    {
      "cell_type": "markdown",
      "metadata": {
        "id": "JLP44ypq-rAp"
      },
      "source": [
        "##### Splitting Data"
      ]
    },
    {
      "cell_type": "code",
      "execution_count": null,
      "metadata": {
        "colab": {
          "base_uri": "https://localhost:8080/"
        },
        "id": "D-psitl8-rAp",
        "outputId": "2edff71a-848d-4968-9955-9cd9ead5b80e"
      },
      "outputs": [
        {
          "data": {
            "text/plain": [
              "COPD        0.714286\n",
              "non-COPD    0.285714\n",
              "Name: binary_diag, dtype: float64"
            ]
          },
          "execution_count": 22,
          "metadata": {},
          "output_type": "execute_result"
        }
      ],
      "source": [
        "eq_df_1 = df[df[\"binary_diag\"] == \"non-COPD\"]\n",
        "eq_df_2 = df[df[\"binary_diag\"] == \"COPD\"].sample(round(len(eq_df_1)*2.5),random_state = 42)\n",
        "eq_df = pd.concat((eq_df_1, eq_df_2))\n",
        "eq_df[\"binary_diag\"].value_counts() / len(eq_df)"
      ]
    },
    {
      "cell_type": "code",
      "execution_count": null,
      "metadata": {
        "id": "eEqG1u3v-rAp"
      },
      "outputs": [],
      "source": [
        "'''\n",
        "MFCC\n",
        "'''\n",
        "#Feature\n",
        "mfcc_X = np.array(eq_df[\"mfcc\"].apply(lambda row : tf.convert_to_tensor(np.array(row), dtype=float)).to_list())\n",
        "\n",
        "#Target\n",
        "binary_diag_dict = {'non-COPD': 0, 'COPD': 1} #mapping dictionary\n",
        "mfcc_y = np.array(eq_df[\"binary_diag\"].map(binary_diag_dict).to_list())\n",
        "\n",
        "#Train-Test Split, use stratify to handle imbalanced data on the dataset\n",
        "mfcc_X_train, mfcc_X_test, mfcc_y_train, mfcc_y_test = train_test_split(mfcc_X, mfcc_y, test_size = 0.33, random_state = 42)\n",
        "\n",
        "'''\n",
        "CSTFT\n",
        "'''\n",
        "#Feature\n",
        "cstft_X = np.array(eq_df[\"cstft\"].apply(lambda row : tf.convert_to_tensor(np.array(row), dtype=float)).to_list())\n",
        "\n",
        "#Target\n",
        "binary_diag_dict = {'non-COPD': 0, 'COPD': 1} #mapping dictionary\n",
        "cstft_y = np.array(eq_df[\"binary_diag\"].map(binary_diag_dict).to_list())\n",
        "\n",
        "#Train-Test Split, use stratify to handle imbalanced data on the dataset\n",
        "cstft_X_train, cstft_X_test, cstft_y_train, cstft_y_test = train_test_split(cstft_X, cstft_y, test_size = 0.33, random_state = 42)\n",
        "\n",
        "'''\n",
        "Chroma\n",
        "'''\n",
        "#Feature\n",
        "chroma_X = np.array(eq_df[\"mspec\"].apply(lambda row : tf.convert_to_tensor(np.array(row), dtype=float)).to_list())\n",
        "\n",
        "#Target\n",
        "binary_diag_dict = {'non-COPD': 0, 'COPD': 1} #mapping dictionary\n",
        "chroma_y = np.array(eq_df[\"binary_diag\"].map(binary_diag_dict).to_list())\n",
        "\n",
        "#Train-Test Split, use stratify to handle imbalanced data on the dataset\n",
        "chroma_X_train, chroma_X_test, chroma_y_train, chroma_y_test = train_test_split(chroma_X, chroma_y, test_size = 0.33, random_state = 42)\n"
      ]
    },
    {
      "cell_type": "code",
      "execution_count": null,
      "metadata": {
        "colab": {
          "base_uri": "https://localhost:8080/"
        },
        "id": "ZIvL8oyv-rAp",
        "outputId": "255bc1f1-4389-45b5-a4d3-00f873b15c0f"
      },
      "outputs": [
        {
          "name": "stdout",
          "output_type": "stream",
          "text": [
            "MFCC\n",
            "Train :\n",
            "COPD        72.343576\n",
            "non-COPD    27.656424\n",
            "dtype: float64\n",
            "\n",
            "Test: \n",
            "COPD        69.571751\n",
            "non-COPD    30.428249\n",
            "dtype: float64\n",
            "\n",
            "CSTFT\n",
            "Train :\n",
            "COPD        72.343576\n",
            "non-COPD    27.656424\n",
            "dtype: float64\n",
            "\n",
            "Test: \n",
            "COPD        69.571751\n",
            "non-COPD    30.428249\n",
            "dtype: float64\n",
            "\n",
            "CHROMA\n",
            "Train :\n",
            "COPD        72.343576\n",
            "non-COPD    27.656424\n",
            "dtype: float64\n",
            "\n",
            "Test: \n",
            "COPD        69.571751\n",
            "non-COPD    30.428249\n",
            "dtype: float64\n",
            "\n"
          ]
        }
      ],
      "source": [
        "'''\n",
        "Test Proportion of Train and Test\n",
        "'''\n",
        "inv_diag_dict = {v: k for k, v in binary_diag_dict.items()}\n",
        "print(\"MFCC\")\n",
        "print(\"Train :\")\n",
        "print(pd.Series(mfcc_y_train).map(inv_diag_dict).value_counts()  / len(mfcc_y_train) * 100)\n",
        "print(\"\\nTest: \")\n",
        "print(pd.Series(mfcc_y_test).map(inv_diag_dict).value_counts()  / len(mfcc_y_test) * 100)\n",
        "print()\n",
        "print(\"CSTFT\")\n",
        "print(\"Train :\")\n",
        "print(pd.Series(cstft_y_train).map(inv_diag_dict).value_counts()  / len(cstft_y_train) * 100)\n",
        "print(\"\\nTest: \")\n",
        "print(pd.Series(cstft_y_test).map(inv_diag_dict).value_counts()  / len(cstft_y_test) * 100)\n",
        "print()\n",
        "print(\"CHROMA\")\n",
        "print(\"Train :\")\n",
        "print(pd.Series(chroma_y_train).map(inv_diag_dict).value_counts()  / len(chroma_y_train) * 100)\n",
        "print(\"\\nTest: \")\n",
        "print(pd.Series(chroma_y_test).map(inv_diag_dict).value_counts()  / len(chroma_y_test) * 100)\n",
        "print()"
      ]
    },
    {
      "cell_type": "code",
      "execution_count": null,
      "metadata": {
        "colab": {
          "base_uri": "https://localhost:8080/"
        },
        "id": "kW_ru8CI-rAp",
        "outputId": "dc9a5d3d-8eb5-4dc8-91f2-fbd09132cfc5"
      },
      "outputs": [
        {
          "name": "stdout",
          "output_type": "stream",
          "text": [
            "MFCC\n",
            "Training data shape : (2701, 20, 259)\n",
            "Training label shape : (2701,)\n",
            "Validation data shape : (1331, 20, 259)\n",
            "Validation label shape : (1331,)\n",
            "\n",
            "CSTFT\n",
            "Training data shape : (2701, 12, 259)\n",
            "Training label shape : (2701,)\n",
            "Validation data shape : (1331, 12, 259)\n",
            "Validation label shape : (1331,)\n",
            "\n",
            "CHROMA\n",
            "Training data shape : (2701, 128, 259)\n",
            "Training label shape : (2701,)\n",
            "Validation data shape : (1331, 128, 259)\n",
            "Validation label shape : (1331,)\n",
            "\n"
          ]
        }
      ],
      "source": [
        "print(\"MFCC\")\n",
        "print(f\"Training data shape : {mfcc_X_train.shape}\")\n",
        "print(f\"Training label shape : {mfcc_y_train.shape}\")\n",
        "print(f\"Validation data shape : {mfcc_X_test.shape}\")\n",
        "print(f\"Validation label shape : {mfcc_y_test.shape}\")\n",
        "print()\n",
        "print(\"CSTFT\")\n",
        "print(f\"Training data shape : {cstft_X_train.shape}\")\n",
        "print(f\"Training label shape : {cstft_y_train.shape}\")\n",
        "print(f\"Validation data shape : {cstft_X_test.shape}\")\n",
        "print(f\"Validation label shape : {cstft_y_test.shape}\")\n",
        "print()\n",
        "print(\"CHROMA\")\n",
        "print(f\"Training data shape : {chroma_X_train.shape}\")\n",
        "print(f\"Training label shape : {chroma_y_train.shape}\")\n",
        "print(f\"Validation data shape : {chroma_X_test.shape}\")\n",
        "print(f\"Validation label shape : {chroma_y_test.shape}\")\n",
        "print()"
      ]
    },
    {
      "cell_type": "markdown",
      "metadata": {
        "id": "e5xiDZGw-rAp"
      },
      "source": [
        "##### Model"
      ]
    },
    {
      "cell_type": "code",
      "execution_count": null,
      "metadata": {
        "colab": {
          "base_uri": "https://localhost:8080/"
        },
        "id": "z0VroYh6-rAp",
        "outputId": "4e96117c-0502-4900-e762-fe8726f5641f"
      },
      "outputs": [
        {
          "name": "stdout",
          "output_type": "stream",
          "text": [
            "Model: \"mfccModel\"\n",
            "_________________________________________________________________\n",
            " Layer (type)                Output Shape              Param #   \n",
            "=================================================================\n",
            " mfccInput (InputLayer)      [(None, 20, 259, 1)]      0         \n",
            "                                                                 \n",
            " conv2d (Conv2D)             (None, 20, 87, 32)        832       \n",
            "                                                                 \n",
            " batch_normalization (BatchN  (None, 20, 87, 32)       128       \n",
            " ormalization)                                                   \n",
            "                                                                 \n",
            " activation (Activation)     (None, 20, 87, 32)        0         \n",
            "                                                                 \n",
            " max_pooling2d (MaxPooling2D  (None, 10, 43, 32)       0         \n",
            " )                                                               \n",
            "                                                                 \n",
            " conv2d_1 (Conv2D)           (None, 10, 22, 64)        18496     \n",
            "                                                                 \n",
            " batch_normalization_1 (Batc  (None, 10, 22, 64)       256       \n",
            " hNormalization)                                                 \n",
            "                                                                 \n",
            " activation_1 (Activation)   (None, 10, 22, 64)        0         \n",
            "                                                                 \n",
            " max_pooling2d_1 (MaxPooling  (None, 5, 11, 64)        0         \n",
            " 2D)                                                             \n",
            "                                                                 \n",
            " conv2d_2 (Conv2D)           (None, 5, 11, 96)         24672     \n",
            "                                                                 \n",
            " batch_normalization_2 (Batc  (None, 5, 11, 96)        384       \n",
            " hNormalization)                                                 \n",
            "                                                                 \n",
            " activation_2 (Activation)   (None, 5, 11, 96)         0         \n",
            "                                                                 \n",
            " max_pooling2d_2 (MaxPooling  (None, 2, 5, 96)         0         \n",
            " 2D)                                                             \n",
            "                                                                 \n",
            " conv2d_3 (Conv2D)           (None, 2, 5, 128)         49280     \n",
            "                                                                 \n",
            " batch_normalization_3 (Batc  (None, 2, 5, 128)        512       \n",
            " hNormalization)                                                 \n",
            "                                                                 \n",
            " activation_3 (Activation)   (None, 2, 5, 128)         0         \n",
            "                                                                 \n",
            " global_max_pooling2d (Globa  (None, 128)              0         \n",
            " lMaxPooling2D)                                                  \n",
            "                                                                 \n",
            "=================================================================\n",
            "Total params: 94,560\n",
            "Trainable params: 93,920\n",
            "Non-trainable params: 640\n",
            "_________________________________________________________________\n"
          ]
        }
      ],
      "source": [
        "mfcc_input=keras.layers.Input(shape=(20,259,1),name=\"mfccInput\")\n",
        "x=keras.layers.Conv2D(32,5,strides=(1,3),padding='same')(mfcc_input)\n",
        "x=keras.layers.BatchNormalization()(x)\n",
        "x=keras.layers.Activation(keras.activations.relu)(x)\n",
        "x=keras.layers.MaxPooling2D(pool_size=2,padding='valid')(x)\n",
        "\n",
        "x=keras.layers.Conv2D(64,3,strides=(1,2),padding='same')(x)\n",
        "x=keras.layers.BatchNormalization()(x)\n",
        "x=keras.layers.Activation(keras.activations.relu)(x)\n",
        "x=keras.layers.MaxPooling2D(pool_size=2,padding='valid')(x)\n",
        "\n",
        "x=keras.layers.Conv2D(96,2,padding='same')(x)\n",
        "x=keras.layers.BatchNormalization()(x)\n",
        "x=keras.layers.Activation(keras.activations.relu)(x)\n",
        "x=keras.layers.MaxPooling2D(pool_size=2,padding='valid')(x)\n",
        "\n",
        "x=keras.layers.Conv2D(128,2,padding='same')(x)\n",
        "x=keras.layers.BatchNormalization()(x)\n",
        "x=keras.layers.Activation(keras.activations.relu)(x)\n",
        "mfcc_output=keras.layers.GlobalMaxPooling2D()(x)\n",
        "\n",
        "mfcc_model=keras.Model(mfcc_input, mfcc_output, name=\"mfccModel\")\n",
        "mfcc_model.summary()"
      ]
    },
    {
      "cell_type": "code",
      "execution_count": null,
      "metadata": {
        "colab": {
          "base_uri": "https://localhost:8080/"
        },
        "id": "L0FOQDn_-rAq",
        "outputId": "54a01cbc-2962-4c8a-e2a9-0b6629a21eef"
      },
      "outputs": [
        {
          "name": "stdout",
          "output_type": "stream",
          "text": [
            "Model: \"cromaModel\"\n",
            "_________________________________________________________________\n",
            " Layer (type)                Output Shape              Param #   \n",
            "=================================================================\n",
            " cromaInput (InputLayer)     [(None, 12, 259, 1)]      0         \n",
            "                                                                 \n",
            " conv2d_4 (Conv2D)           (None, 12, 87, 32)        832       \n",
            "                                                                 \n",
            " batch_normalization_4 (Batc  (None, 12, 87, 32)       128       \n",
            " hNormalization)                                                 \n",
            "                                                                 \n",
            " activation_4 (Activation)   (None, 12, 87, 32)        0         \n",
            "                                                                 \n",
            " max_pooling2d_3 (MaxPooling  (None, 6, 43, 32)        0         \n",
            " 2D)                                                             \n",
            "                                                                 \n",
            " conv2d_5 (Conv2D)           (None, 6, 22, 64)         18496     \n",
            "                                                                 \n",
            " batch_normalization_5 (Batc  (None, 6, 22, 64)        256       \n",
            " hNormalization)                                                 \n",
            "                                                                 \n",
            " activation_5 (Activation)   (None, 6, 22, 64)         0         \n",
            "                                                                 \n",
            " max_pooling2d_4 (MaxPooling  (None, 3, 11, 64)        0         \n",
            " 2D)                                                             \n",
            "                                                                 \n",
            " conv2d_6 (Conv2D)           (None, 3, 11, 128)        32896     \n",
            "                                                                 \n",
            " batch_normalization_6 (Batc  (None, 3, 11, 128)       512       \n",
            " hNormalization)                                                 \n",
            "                                                                 \n",
            " activation_6 (Activation)   (None, 3, 11, 128)        0         \n",
            "                                                                 \n",
            " global_max_pooling2d_1 (Glo  (None, 128)              0         \n",
            " balMaxPooling2D)                                                \n",
            "                                                                 \n",
            "=================================================================\n",
            "Total params: 53,120\n",
            "Trainable params: 52,672\n",
            "Non-trainable params: 448\n",
            "_________________________________________________________________\n"
          ]
        }
      ],
      "source": [
        "croma_input=keras.layers.Input(shape=(12,259,1),name=\"cromaInput\")\n",
        "x=keras.layers.Conv2D(32,5,strides=(1,3),padding='same')(croma_input)\n",
        "x=keras.layers.BatchNormalization()(x)\n",
        "x=keras.layers.Activation(keras.activations.relu)(x)\n",
        "x=keras.layers.MaxPooling2D(pool_size=2,padding='valid')(x)\n",
        "\n",
        "x=keras.layers.Conv2D(64,3,strides=(1,2),padding='same')(x)\n",
        "x=keras.layers.BatchNormalization()(x)\n",
        "x=keras.layers.Activation(keras.activations.relu)(x)\n",
        "x=keras.layers.MaxPooling2D(pool_size=2,padding='valid')(x)\n",
        "\n",
        "x=keras.layers.Conv2D(128,2,padding='same')(x)\n",
        "x=keras.layers.BatchNormalization()(x)\n",
        "x=keras.layers.Activation(keras.activations.relu)(x)\n",
        "croma_output=keras.layers.GlobalMaxPooling2D()(x)\n",
        "\n",
        "croma_model=keras.Model(croma_input, croma_output, name=\"cromaModel\")\n",
        "croma_model.summary()"
      ]
    },
    {
      "cell_type": "code",
      "execution_count": null,
      "metadata": {
        "colab": {
          "base_uri": "https://localhost:8080/"
        },
        "id": "bsYu0Oma-rAq",
        "outputId": "ac998df6-5b77-4e33-e861-639e45e81b55"
      },
      "outputs": [
        {
          "name": "stdout",
          "output_type": "stream",
          "text": [
            "Model: \"mSpecModel\"\n",
            "_________________________________________________________________\n",
            " Layer (type)                Output Shape              Param #   \n",
            "=================================================================\n",
            " mSpecInput (InputLayer)     [(None, 128, 259, 1)]     0         \n",
            "                                                                 \n",
            " conv2d_7 (Conv2D)           (None, 64, 87, 32)        832       \n",
            "                                                                 \n",
            " batch_normalization_7 (Batc  (None, 64, 87, 32)       128       \n",
            " hNormalization)                                                 \n",
            "                                                                 \n",
            " activation_7 (Activation)   (None, 64, 87, 32)        0         \n",
            "                                                                 \n",
            " max_pooling2d_5 (MaxPooling  (None, 32, 43, 32)       0         \n",
            " 2D)                                                             \n",
            "                                                                 \n",
            " conv2d_8 (Conv2D)           (None, 16, 22, 64)        18496     \n",
            "                                                                 \n",
            " batch_normalization_8 (Batc  (None, 16, 22, 64)       256       \n",
            " hNormalization)                                                 \n",
            "                                                                 \n",
            " activation_8 (Activation)   (None, 16, 22, 64)        0         \n",
            "                                                                 \n",
            " max_pooling2d_6 (MaxPooling  (None, 8, 11, 64)        0         \n",
            " 2D)                                                             \n",
            "                                                                 \n",
            " conv2d_9 (Conv2D)           (None, 8, 11, 96)         24672     \n",
            "                                                                 \n",
            " batch_normalization_9 (Batc  (None, 8, 11, 96)        384       \n",
            " hNormalization)                                                 \n",
            "                                                                 \n",
            " activation_9 (Activation)   (None, 8, 11, 96)         0         \n",
            "                                                                 \n",
            " max_pooling2d_7 (MaxPooling  (None, 4, 5, 96)         0         \n",
            " 2D)                                                             \n",
            "                                                                 \n",
            " conv2d_10 (Conv2D)          (None, 4, 5, 128)         49280     \n",
            "                                                                 \n",
            " batch_normalization_10 (Bat  (None, 4, 5, 128)        512       \n",
            " chNormalization)                                                \n",
            "                                                                 \n",
            " activation_10 (Activation)  (None, 4, 5, 128)         0         \n",
            "                                                                 \n",
            " global_max_pooling2d_2 (Glo  (None, 128)              0         \n",
            " balMaxPooling2D)                                                \n",
            "                                                                 \n",
            "=================================================================\n",
            "Total params: 94,560\n",
            "Trainable params: 93,920\n",
            "Non-trainable params: 640\n",
            "_________________________________________________________________\n"
          ]
        }
      ],
      "source": [
        "mSpec_input=keras.layers.Input(shape=(128,259,1),name=\"mSpecInput\")\n",
        "x=keras.layers.Conv2D(32,5,strides=(2,3),padding='same')(mSpec_input)\n",
        "x=keras.layers.BatchNormalization()(x)\n",
        "x=keras.layers.Activation(keras.activations.relu)(x)\n",
        "x=keras.layers.MaxPooling2D(pool_size=2,padding='valid')(x)\n",
        "\n",
        "x=keras.layers.Conv2D(64,3,strides=(2,2),padding='same')(x)\n",
        "x=keras.layers.BatchNormalization()(x)\n",
        "x=keras.layers.Activation(keras.activations.relu)(x)\n",
        "x=keras.layers.MaxPooling2D(pool_size=2,padding='valid')(x)\n",
        "\n",
        "x=keras.layers.Conv2D(96,2,padding='same')(x)\n",
        "x=keras.layers.BatchNormalization()(x)\n",
        "x=keras.layers.Activation(keras.activations.relu)(x)\n",
        "x=keras.layers.MaxPooling2D(pool_size=2,padding='valid')(x)\n",
        "\n",
        "x=keras.layers.Conv2D(128,2,padding='same')(x)\n",
        "x=keras.layers.BatchNormalization()(x)\n",
        "x=keras.layers.Activation(keras.activations.relu)(x)\n",
        "mSpec_output=keras.layers.GlobalMaxPooling2D()(x)\n",
        "\n",
        "mSpec_model=keras.Model(mSpec_input, mSpec_output, name=\"mSpecModel\")\n",
        "mSpec_model.summary()"
      ]
    },
    {
      "cell_type": "code",
      "execution_count": null,
      "metadata": {
        "colab": {
          "base_uri": "https://localhost:8080/"
        },
        "id": "OpH72QJN-rAq",
        "outputId": "4c175f77-219a-41e0-8711-2fb3b4dd7ad9"
      },
      "outputs": [
        {
          "name": "stdout",
          "output_type": "stream",
          "text": [
            "Model: \"Net\"\n",
            "__________________________________________________________________________________________________\n",
            " Layer (type)                   Output Shape         Param #     Connected to                     \n",
            "==================================================================================================\n",
            " mfcc (InputLayer)              [(None, 20, 259, 1)  0           []                               \n",
            "                                ]                                                                 \n",
            "                                                                                                  \n",
            " croma (InputLayer)             [(None, 12, 259, 1)  0           []                               \n",
            "                                ]                                                                 \n",
            "                                                                                                  \n",
            " mspec (InputLayer)             [(None, 128, 259, 1  0           []                               \n",
            "                                )]                                                                \n",
            "                                                                                                  \n",
            " mfccModel (Functional)         (None, 128)          94560       ['mfcc[0][0]']                   \n",
            "                                                                                                  \n",
            " cromaModel (Functional)        (None, 128)          53120       ['croma[0][0]']                  \n",
            "                                                                                                  \n",
            " mSpecModel (Functional)        (None, 128)          94560       ['mspec[0][0]']                  \n",
            "                                                                                                  \n",
            " concatenate (Concatenate)      (None, 384)          0           ['mfccModel[0][0]',              \n",
            "                                                                  'cromaModel[0][0]',             \n",
            "                                                                  'mSpecModel[0][0]']             \n",
            "                                                                                                  \n",
            " dense (Dense)                  (None, 50)           19250       ['concatenate[0][0]']            \n",
            "                                                                                                  \n",
            " dropout_1 (Dropout)            (None, 50)           0           ['dense[0][0]']                  \n",
            "                                                                                                  \n",
            " dense_1 (Dense)                (None, 25)           1275        ['dropout_1[0][0]']              \n",
            "                                                                                                  \n",
            " dropout_2 (Dropout)            (None, 25)           0           ['dense_1[0][0]']                \n",
            "                                                                                                  \n",
            " dense_2 (Dense)                (None, 2)            52          ['dropout_2[0][0]']              \n",
            "                                                                                                  \n",
            "==================================================================================================\n",
            "Total params: 262,817\n",
            "Trainable params: 261,089\n",
            "Non-trainable params: 1,728\n",
            "__________________________________________________________________________________________________\n"
          ]
        }
      ],
      "source": [
        "input_mfcc=keras.layers.Input(shape=(20,259,1),name=\"mfcc\")\n",
        "mfcc=mfcc_model(input_mfcc)\n",
        "\n",
        "input_croma=keras.layers.Input(shape=(12,259,1),name=\"croma\")\n",
        "croma=croma_model(input_croma)\n",
        "\n",
        "input_mSpec=keras.layers.Input(shape=(128,259,1),name=\"mspec\")\n",
        "mSpec=mSpec_model(input_mSpec)\n",
        "\n",
        "\n",
        "concat=keras.layers.concatenate([mfcc,croma,mSpec])\n",
        "hidden=keras.layers.Dropout(0.2)(concat)\n",
        "hidden=keras.layers.Dense(50,activation='relu')(concat)\n",
        "hidden=keras.layers.Dropout(0.3)(hidden)\n",
        "hidden=keras.layers.Dense(25,activation='relu')(hidden)\n",
        "hidden=keras.layers.Dropout(0.3)(hidden)\n",
        "output=keras.layers.Dense(2,activation='softmax')(hidden)\n",
        "\n",
        "net=keras.Model([input_mfcc,input_croma,input_mSpec], output, name=\"Net\")\n",
        "net.summary()"
      ]
    },
    {
      "cell_type": "code",
      "execution_count": null,
      "metadata": {
        "id": "d05bdAYV-rAq"
      },
      "outputs": [],
      "source": [
        "from keras import backend as K\n",
        "net.compile(loss='sparse_categorical_crossentropy', optimizer='nadam', metrics=['accuracy'])\n",
        "K.set_value(net.optimizer.learning_rate, 0.001)"
      ]
    },
    {
      "cell_type": "code",
      "execution_count": null,
      "metadata": {
        "colab": {
          "base_uri": "https://localhost:8080/"
        },
        "id": "bnfLTRAW-rAq",
        "outputId": "0d8960f7-1412-40bf-b15c-f0fceff0d936"
      },
      "outputs": [
        {
          "data": {
            "text/plain": [
              "True"
            ]
          },
          "execution_count": 31,
          "metadata": {},
          "output_type": "execute_result"
        }
      ],
      "source": [
        "np.logical_and( (mfcc_y_train==cstft_y_train).all(), (cstft_y_train==chroma_y_train).all() )"
      ]
    },
    {
      "cell_type": "code",
      "execution_count": null,
      "metadata": {
        "colab": {
          "base_uri": "https://localhost:8080/"
        },
        "id": "0mKfqXcZ-rAq",
        "outputId": "df95ae70-1596-4553-f854-5f73df1c8326"
      },
      "outputs": [
        {
          "data": {
            "text/plain": [
              "True"
            ]
          },
          "execution_count": 32,
          "metadata": {},
          "output_type": "execute_result"
        }
      ],
      "source": [
        "np.logical_and( (mfcc_y_test==cstft_y_test).all(), (cstft_y_test==chroma_y_test).all() )"
      ]
    },
    {
      "cell_type": "code",
      "execution_count": null,
      "metadata": {
        "id": "j1E3nmwv-rAq"
      },
      "outputs": [],
      "source": [
        "my_callbacks = [\n",
        "    tf.keras.callbacks.EarlyStopping(patience=5),\n",
        "    tf.keras.callbacks.ReduceLROnPlateau(monitor='val_loss', factor=0.1,\n",
        "                              patience=3, min_lr=0.00001,mode='min')\n",
        "]\n",
        "\n",
        "history=net.fit(\n",
        "    {\"mfcc\":mfcc_X_train,\"croma\":cstft_X_train,\"mspec\":chroma_X_train},\n",
        "    mfcc_y_train,\n",
        "    validation_data=({\"mfcc\":mfcc_X_test,\"croma\":cstft_X_test,\"mspec\":chroma_X_test},mfcc_y_test),\n",
        "    epochs=100,verbose=0,\n",
        "    callbacks=my_callbacks\n",
        ")"
      ]
    },
    {
      "cell_type": "code",
      "execution_count": null,
      "metadata": {
        "id": "8flLZ5iW-rAq"
      },
      "outputs": [],
      "source": [
        "net.save(\"/content/drive/MyDrive/Tugas Akhir/DATA + DESCRIPTION/Sound Database/MODELS/3type_binary_70-30.hdf5\")"
      ]
    },
    {
      "cell_type": "markdown",
      "metadata": {
        "id": "1nFJG_dE-rAq"
      },
      "source": [
        "#### Model Evaluation"
      ]
    },
    {
      "cell_type": "code",
      "execution_count": null,
      "metadata": {
        "colab": {
          "base_uri": "https://localhost:8080/",
          "height": 265
        },
        "id": "eLX1Imd3-rAq",
        "outputId": "69ac5a00-882c-404c-b2e5-717de5533423"
      },
      "outputs": [
        {
          "data": {
            "image/png": "[encoded data removed]",
            "text/plain": [
              "<Figure size 432x288 with 1 Axes>"
            ]
          },
          "metadata": {},
          "output_type": "display_data"
        }
      ],
      "source": [
        "pd.DataFrame(history.history).plot()\n",
        "plt.grid(True)\n",
        "plt.gca().set_ylim(-0.1,1.1)\n",
        "plt.show()"
      ]
    },
    {
      "cell_type": "code",
      "execution_count": null,
      "metadata": {
        "colab": {
          "base_uri": "https://localhost:8080/",
          "height": 603
        },
        "id": "gumEljAF-rAq",
        "outputId": "67628276-05f3-4af7-b033-b1a276f7a359"
      },
      "outputs": [
        {
          "name": "stdout",
          "output_type": "stream",
          "text": [
            "42/42 [==============================] - 11s 241ms/step\n",
            "              precision    recall  f1-score   support\n",
            "\n",
            "    non-COPD       0.00      0.00      0.00       405\n",
            "        COPD       0.70      1.00      0.82       926\n",
            "\n",
            "    accuracy                           0.70      1331\n",
            "   macro avg       0.35      0.50      0.41      1331\n",
            "weighted avg       0.48      0.70      0.57      1331\n",
            "\n"
          ]
        },
        {
          "name": "stderr",
          "output_type": "stream",
          "text": [
            "/usr/local/lib/python3.7/dist-packages/sklearn/metrics/_classification.py:1318: UndefinedMetricWarning: Precision and F-score are ill-defined and being set to 0.0 in labels with no predicted samples. Use `zero_division` parameter to control this behavior.\n",
            "  _warn_prf(average, modifier, msg_start, len(result))\n",
            "/usr/local/lib/python3.7/dist-packages/sklearn/metrics/_classification.py:1318: UndefinedMetricWarning: Precision and F-score are ill-defined and being set to 0.0 in labels with no predicted samples. Use `zero_division` parameter to control this behavior.\n",
            "  _warn_prf(average, modifier, msg_start, len(result))\n",
            "/usr/local/lib/python3.7/dist-packages/sklearn/metrics/_classification.py:1318: UndefinedMetricWarning: Precision and F-score are ill-defined and being set to 0.0 in labels with no predicted samples. Use `zero_division` parameter to control this behavior.\n",
            "  _warn_prf(average, modifier, msg_start, len(result))\n"
          ]
        },
        {
          "data": {
            "text/plain": [
              "<sklearn.metrics._plot.confusion_matrix.ConfusionMatrixDisplay at 0x7fa112943a90>"
            ]
          },
          "execution_count": 57,
          "metadata": {},
          "output_type": "execute_result"
        },
        {
          "data": {
            "image/png": "[encoded data removed]",
            "text/plain": [
              "<Figure size 432x288 with 2 Axes>"
            ]
          },
          "metadata": {},
          "output_type": "display_data"
        }
      ],
      "source": [
        "'''\n",
        "70 (COPD) - 30 (non-COPD)\n",
        "'''\n",
        "#Disable warnings\n",
        "logging.disable(logging.WARNING)\n",
        "os.environ[\"TF_CPP_MIN_LOG_LEVEL\"] = \"3\"\n",
        "\n",
        "directory = \"/content/drive/MyDrive/Tugas Akhir/DATA + DESCRIPTION/Sound Database/MODELS/\"\n",
        "best_model_file = \"3type_binary_70-30.hdf5\"\n",
        "\n",
        "model = keras.models.load_model(directory+best_model_file)\n",
        "\n",
        "y_pred_weights = model.predict({\"mfcc\":mfcc_X_test,\"croma\":cstft_X_test,\"mspec\":chroma_X_test})\n",
        "y_pred_label = np.argmax(y_pred_weights, axis=-1)\n",
        "y_true = mfcc_y_test\n",
        "\n",
        "target_names = ['non-COPD', 'COPD']\n",
        "print(classification_report(y_true, y_pred_label, target_names=target_names))\n",
        "\n",
        "\n",
        "'''\n",
        "Confusion matrix\n",
        "'''\n",
        "cm = confusion_matrix(y_true, y_pred_label)\n",
        "disp = ConfusionMatrixDisplay(confusion_matrix = cm, display_labels = [\"non-COPD\", \"COPD\"])\n",
        "disp.plot()"
      ]
    },
    {
      "cell_type": "code",
      "execution_count": null,
      "metadata": {
        "colab": {
          "base_uri": "https://localhost:8080/",
          "height": 475
        },
        "id": "mWrXaUTm-rAq",
        "outputId": "d11789fa-9af4-4ea5-cd7b-da301b619e89"
      },
      "outputs": [
        {
          "name": "stdout",
          "output_type": "stream",
          "text": [
            "32/32 [==============================] - 4s 108ms/step\n",
            "              precision    recall  f1-score   support\n",
            "\n",
            "    non-COPD       0.52      0.25      0.34       405\n",
            "        COPD       0.63      0.84      0.72       608\n",
            "\n",
            "    accuracy                           0.61      1013\n",
            "   macro avg       0.57      0.55      0.53      1013\n",
            "weighted avg       0.58      0.61      0.57      1013\n",
            "\n"
          ]
        },
        {
          "data": {
            "text/plain": [
              "<sklearn.metrics._plot.confusion_matrix.ConfusionMatrixDisplay at 0x7fa112cbd210>"
            ]
          },
          "execution_count": 56,
          "metadata": {},
          "output_type": "execute_result"
        },
        {
          "data": {
            "image/png": "[encoded data removed]",
            "text/plain": [
              "<Figure size 432x288 with 2 Axes>"
            ]
          },
          "metadata": {},
          "output_type": "display_data"
        }
      ],
      "source": [
        "'''\n",
        "60 (COPD) - 40 (non-COPD)\n",
        "'''\n",
        "eq_y = pd.Series(mfcc_y_test)\n",
        "eq_y_0 = eq_y[eq_y == 0] #non-COPD\n",
        "eq_y_1 = eq_y[eq_y == 1].sample(round(len(eq_y_0) * 1.5),random_state = 42) #COPD\n",
        "eq_y = pd.concat((eq_y_0, eq_y_1)).sort_index()\n",
        "eq_mfcc, eq_cstft, eq_chroma = mfcc_X_test[eq_y.index], cstft_X_test[eq_y.index], chroma_X_test[eq_y.index]\n",
        "\n",
        "'''\n",
        "Load Model and Predict the Test Data on Training Table on Imbalanced Data\n",
        "'''\n",
        "#Disable warnings\n",
        "logging.disable(logging.WARNING)\n",
        "os.environ[\"TF_CPP_MIN_LOG_LEVEL\"] = \"3\"\n",
        "\n",
        "directory = \"/content/drive/MyDrive/Tugas Akhir/DATA + DESCRIPTION/Sound Database/MODELS/\"\n",
        "best_model_file = \"3type_binary_balanced.hdf5\"\n",
        "\n",
        "model = keras.models.load_model(directory+best_model_file)\n",
        "\n",
        "y_pred_weights = model.predict({\"mfcc\": eq_mfcc,\"croma\":eq_cstft,\"mspec\": eq_chroma}) #chroma harusny amspec\n",
        "y_pred_label = np.argmax(y_pred_weights, axis=-1)\n",
        "y_true = eq_y\n",
        "\n",
        "target_names = ['non-COPD', 'COPD']\n",
        "print(classification_report(y_true, y_pred_label, target_names=target_names))\n",
        "\n",
        "'''\n",
        "Confusion matrix\n",
        "'''\n",
        "cm = confusion_matrix(y_true, y_pred_label)\n",
        "disp = ConfusionMatrixDisplay(confusion_matrix = cm, display_labels = [\"non-COPD\", \"COPD\"])\n",
        "disp.plot()"
      ]
    },
    {
      "cell_type": "code",
      "execution_count": null,
      "metadata": {
        "colab": {
          "base_uri": "https://localhost:8080/",
          "height": 475
        },
        "id": "pGrt4RZm-rAr",
        "outputId": "d830478c-e5de-47c9-8e91-b79120be473a"
      },
      "outputs": [
        {
          "name": "stdout",
          "output_type": "stream",
          "text": [
            "26/26 [==============================] - 5s 166ms/step\n",
            "              precision    recall  f1-score   support\n",
            "\n",
            "    non-COPD       0.64      0.25      0.36       405\n",
            "        COPD       0.53      0.86      0.66       405\n",
            "\n",
            "    accuracy                           0.56       810\n",
            "   macro avg       0.59      0.56      0.51       810\n",
            "weighted avg       0.59      0.56      0.51       810\n",
            "\n"
          ]
        },
        {
          "data": {
            "text/plain": [
              "<sklearn.metrics._plot.confusion_matrix.ConfusionMatrixDisplay at 0x7fa112cf9790>"
            ]
          },
          "execution_count": 55,
          "metadata": {},
          "output_type": "execute_result"
        },
        {
          "data": {
            "image/png": "[encoded data removed]",
            "text/plain": [
              "<Figure size 432x288 with 2 Axes>"
            ]
          },
          "metadata": {},
          "output_type": "display_data"
        }
      ],
      "source": [
        "'''\n",
        "50 (COPD) - 50 (non-COPD)\n",
        "'''\n",
        "eq_y = pd.Series(mfcc_y_test)\n",
        "eq_y_0 = eq_y[eq_y == 0] #non-COPD\n",
        "eq_y_1 = eq_y[eq_y == 1].sample(round(len(eq_y_0)),random_state = 42) #COPD\n",
        "eq_y = pd.concat((eq_y_0, eq_y_1)).sort_index()\n",
        "eq_mfcc, eq_cstft, eq_chroma = mfcc_X_test[eq_y.index], cstft_X_test[eq_y.index], chroma_X_test[eq_y.index]\n",
        "\n",
        "'''\n",
        "Load Model and Predict the Test Data on Training Table on Imbalanced Data\n",
        "'''\n",
        "#Disable warnings\n",
        "logging.disable(logging.WARNING)\n",
        "os.environ[\"TF_CPP_MIN_LOG_LEVEL\"] = \"3\"\n",
        "\n",
        "directory = \"/content/drive/MyDrive/Tugas Akhir/DATA + DESCRIPTION/Sound Database/MODELS/\"\n",
        "best_model_file = \"3type_binary_balanced.hdf5\"\n",
        "\n",
        "model = keras.models.load_model(directory+best_model_file)\n",
        "\n",
        "y_pred_weights = model.predict({\"mfcc\": eq_mfcc,\"croma\":eq_cstft,\"mspec\": eq_chroma}) #chroma harusny amspec\n",
        "y_pred_label = np.argmax(y_pred_weights, axis=-1)\n",
        "y_true = eq_y\n",
        "\n",
        "target_names = ['non-COPD', 'COPD']\n",
        "print(classification_report(y_true, y_pred_label, target_names=target_names))\n",
        "\n",
        "'''\n",
        "Confusion matrix\n",
        "'''\n",
        "cm = confusion_matrix(y_true, y_pred_label)\n",
        "disp = ConfusionMatrixDisplay(confusion_matrix = cm, display_labels = [\"non-COPD\", \"COPD\"])\n",
        "disp.plot()"
      ]
    },
    {
      "cell_type": "code",
      "execution_count": null,
      "metadata": {
        "id": "x_IEcRSO-rAr"
      },
      "outputs": [],
      "source": []
    },
    {
      "cell_type": "markdown",
      "metadata": {
        "id": "_u1nKlXPDSOL"
      },
      "source": [
        "### in between Balanced Data Set 60 - 40 training process"
      ]
    },
    {
      "cell_type": "markdown",
      "metadata": {
        "id": "I7RKdx31DSOV"
      },
      "source": [
        "#### Training"
      ]
    },
    {
      "cell_type": "markdown",
      "metadata": {
        "id": "fwh460HLDSOV"
      },
      "source": [
        "##### Splitting Data"
      ]
    },
    {
      "cell_type": "code",
      "execution_count": null,
      "metadata": {
        "colab": {
          "base_uri": "https://localhost:8080/"
        },
        "id": "Qc-sjbSODSOV",
        "outputId": "5b8d28f4-11c8-427e-f616-92d028f7e86d"
      },
      "outputs": [
        {
          "data": {
            "text/plain": [
              "COPD        0.6\n",
              "non-COPD    0.4\n",
              "Name: binary_diag, dtype: float64"
            ]
          },
          "execution_count": 63,
          "metadata": {},
          "output_type": "execute_result"
        }
      ],
      "source": [
        "eq_df_1 = df[df[\"binary_diag\"] == \"non-COPD\"]\n",
        "eq_df_2 = df[df[\"binary_diag\"] == \"COPD\"].sample(round(len(eq_df_1)*1.5),random_state = 42)\n",
        "eq_df = pd.concat((eq_df_1, eq_df_2))\n",
        "eq_df[\"binary_diag\"].value_counts() / len(eq_df)"
      ]
    },
    {
      "cell_type": "code",
      "execution_count": null,
      "metadata": {
        "id": "dPtPRg5rDSOV"
      },
      "outputs": [],
      "source": [
        "'''\n",
        "MFCC\n",
        "'''\n",
        "#Feature\n",
        "mfcc_X = np.array(eq_df[\"mfcc\"].apply(lambda row : tf.convert_to_tensor(np.array(row), dtype=float)).to_list())\n",
        "\n",
        "#Target\n",
        "binary_diag_dict = {'non-COPD': 0, 'COPD': 1} #mapping dictionary\n",
        "mfcc_y = np.array(eq_df[\"binary_diag\"].map(binary_diag_dict).to_list())\n",
        "\n",
        "#Train-Test Split, use stratify to handle imbalanced data on the dataset\n",
        "mfcc_X_train, mfcc_X_test, mfcc_y_train, mfcc_y_test = train_test_split(mfcc_X, mfcc_y, test_size = 0.33, random_state = 42)\n",
        "\n",
        "'''\n",
        "CSTFT\n",
        "'''\n",
        "#Feature\n",
        "cstft_X = np.array(eq_df[\"cstft\"].apply(lambda row : tf.convert_to_tensor(np.array(row), dtype=float)).to_list())\n",
        "\n",
        "#Target\n",
        "binary_diag_dict = {'non-COPD': 0, 'COPD': 1} #mapping dictionary\n",
        "cstft_y = np.array(eq_df[\"binary_diag\"].map(binary_diag_dict).to_list())\n",
        "\n",
        "#Train-Test Split, use stratify to handle imbalanced data on the dataset\n",
        "cstft_X_train, cstft_X_test, cstft_y_train, cstft_y_test = train_test_split(cstft_X, cstft_y, test_size = 0.33, random_state = 42)\n",
        "\n",
        "'''\n",
        "Chroma\n",
        "'''\n",
        "#Feature\n",
        "chroma_X = np.array(eq_df[\"mspec\"].apply(lambda row : tf.convert_to_tensor(np.array(row), dtype=float)).to_list())\n",
        "\n",
        "#Target\n",
        "binary_diag_dict = {'non-COPD': 0, 'COPD': 1} #mapping dictionary\n",
        "chroma_y = np.array(eq_df[\"binary_diag\"].map(binary_diag_dict).to_list())\n",
        "\n",
        "#Train-Test Split, use stratify to handle imbalanced data on the dataset\n",
        "chroma_X_train, chroma_X_test, chroma_y_train, chroma_y_test = train_test_split(chroma_X, chroma_y, test_size = 0.33, random_state = 42)\n"
      ]
    },
    {
      "cell_type": "code",
      "execution_count": null,
      "metadata": {
        "colab": {
          "base_uri": "https://localhost:8080/"
        },
        "id": "J1jApOiIDSOV",
        "outputId": "21c7fb59-d566-41e1-a21e-e97bef875ed2"
      },
      "outputs": [
        {
          "name": "stdout",
          "output_type": "stream",
          "text": [
            "MFCC\n",
            "Train :\n",
            "COPD        60.653188\n",
            "non-COPD    39.346812\n",
            "dtype: float64\n",
            "\n",
            "Test: \n",
            "COPD        58.675079\n",
            "non-COPD    41.324921\n",
            "dtype: float64\n",
            "\n",
            "CSTFT\n",
            "Train :\n",
            "COPD        60.653188\n",
            "non-COPD    39.346812\n",
            "dtype: float64\n",
            "\n",
            "Test: \n",
            "COPD        58.675079\n",
            "non-COPD    41.324921\n",
            "dtype: float64\n",
            "\n",
            "CHROMA\n",
            "Train :\n",
            "COPD        60.653188\n",
            "non-COPD    39.346812\n",
            "dtype: float64\n",
            "\n",
            "Test: \n",
            "COPD        58.675079\n",
            "non-COPD    41.324921\n",
            "dtype: float64\n",
            "\n"
          ]
        }
      ],
      "source": [
        "'''\n",
        "Test Proportion of Train and Test\n",
        "'''\n",
        "inv_diag_dict = {v: k for k, v in binary_diag_dict.items()}\n",
        "print(\"MFCC\")\n",
        "print(\"Train :\")\n",
        "print(pd.Series(mfcc_y_train).map(inv_diag_dict).value_counts()  / len(mfcc_y_train) * 100)\n",
        "print(\"\\nTest: \")\n",
        "print(pd.Series(mfcc_y_test).map(inv_diag_dict).value_counts()  / len(mfcc_y_test) * 100)\n",
        "print()\n",
        "print(\"CSTFT\")\n",
        "print(\"Train :\")\n",
        "print(pd.Series(cstft_y_train).map(inv_diag_dict).value_counts()  / len(cstft_y_train) * 100)\n",
        "print(\"\\nTest: \")\n",
        "print(pd.Series(cstft_y_test).map(inv_diag_dict).value_counts()  / len(cstft_y_test) * 100)\n",
        "print()\n",
        "print(\"CHROMA\")\n",
        "print(\"Train :\")\n",
        "print(pd.Series(chroma_y_train).map(inv_diag_dict).value_counts()  / len(chroma_y_train) * 100)\n",
        "print(\"\\nTest: \")\n",
        "print(pd.Series(chroma_y_test).map(inv_diag_dict).value_counts()  / len(chroma_y_test) * 100)\n",
        "print()"
      ]
    },
    {
      "cell_type": "code",
      "execution_count": null,
      "metadata": {
        "colab": {
          "base_uri": "https://localhost:8080/"
        },
        "id": "nv262mQqDSOV",
        "outputId": "b64d2383-cb66-404c-828d-82a62528eab7"
      },
      "outputs": [
        {
          "name": "stdout",
          "output_type": "stream",
          "text": [
            "MFCC\n",
            "Training data shape : (1929, 20, 259)\n",
            "Training label shape : (1929,)\n",
            "Validation data shape : (951, 20, 259)\n",
            "Validation label shape : (951,)\n",
            "\n",
            "CSTFT\n",
            "Training data shape : (1929, 12, 259)\n",
            "Training label shape : (1929,)\n",
            "Validation data shape : (951, 12, 259)\n",
            "Validation label shape : (951,)\n",
            "\n",
            "CHROMA\n",
            "Training data shape : (1929, 128, 259)\n",
            "Training label shape : (1929,)\n",
            "Validation data shape : (951, 128, 259)\n",
            "Validation label shape : (951,)\n",
            "\n"
          ]
        }
      ],
      "source": [
        "print(\"MFCC\")\n",
        "print(f\"Training data shape : {mfcc_X_train.shape}\")\n",
        "print(f\"Training label shape : {mfcc_y_train.shape}\")\n",
        "print(f\"Validation data shape : {mfcc_X_test.shape}\")\n",
        "print(f\"Validation label shape : {mfcc_y_test.shape}\")\n",
        "print()\n",
        "print(\"CSTFT\")\n",
        "print(f\"Training data shape : {cstft_X_train.shape}\")\n",
        "print(f\"Training label shape : {cstft_y_train.shape}\")\n",
        "print(f\"Validation data shape : {cstft_X_test.shape}\")\n",
        "print(f\"Validation label shape : {cstft_y_test.shape}\")\n",
        "print()\n",
        "print(\"CHROMA\")\n",
        "print(f\"Training data shape : {chroma_X_train.shape}\")\n",
        "print(f\"Training label shape : {chroma_y_train.shape}\")\n",
        "print(f\"Validation data shape : {chroma_X_test.shape}\")\n",
        "print(f\"Validation label shape : {chroma_y_test.shape}\")\n",
        "print()"
      ]
    },
    {
      "cell_type": "markdown",
      "metadata": {
        "id": "LtNpH7ZTDSOW"
      },
      "source": [
        "##### Model"
      ]
    },
    {
      "cell_type": "code",
      "execution_count": null,
      "metadata": {
        "colab": {
          "base_uri": "https://localhost:8080/"
        },
        "id": "k6vZAU1sDSOW",
        "outputId": "d5500786-b53e-4e87-9817-c943b6903701"
      },
      "outputs": [
        {
          "name": "stdout",
          "output_type": "stream",
          "text": [
            "Model: \"mfccModel\"\n",
            "_________________________________________________________________\n",
            " Layer (type)                Output Shape              Param #   \n",
            "=================================================================\n",
            " mfccInput (InputLayer)      [(None, 20, 259, 1)]      0         \n",
            "                                                                 \n",
            " conv2d_11 (Conv2D)          (None, 20, 87, 32)        832       \n",
            "                                                                 \n",
            " batch_normalization_11 (Bat  (None, 20, 87, 32)       128       \n",
            " chNormalization)                                                \n",
            "                                                                 \n",
            " activation_11 (Activation)  (None, 20, 87, 32)        0         \n",
            "                                                                 \n",
            " max_pooling2d_8 (MaxPooling  (None, 10, 43, 32)       0         \n",
            " 2D)                                                             \n",
            "                                                                 \n",
            " conv2d_12 (Conv2D)          (None, 10, 22, 64)        18496     \n",
            "                                                                 \n",
            " batch_normalization_12 (Bat  (None, 10, 22, 64)       256       \n",
            " chNormalization)                                                \n",
            "                                                                 \n",
            " activation_12 (Activation)  (None, 10, 22, 64)        0         \n",
            "                                                                 \n",
            " max_pooling2d_9 (MaxPooling  (None, 5, 11, 64)        0         \n",
            " 2D)                                                             \n",
            "                                                                 \n",
            " conv2d_13 (Conv2D)          (None, 5, 11, 96)         24672     \n",
            "                                                                 \n",
            " batch_normalization_13 (Bat  (None, 5, 11, 96)        384       \n",
            " chNormalization)                                                \n",
            "                                                                 \n",
            " activation_13 (Activation)  (None, 5, 11, 96)         0         \n",
            "                                                                 \n",
            " max_pooling2d_10 (MaxPoolin  (None, 2, 5, 96)         0         \n",
            " g2D)                                                            \n",
            "                                                                 \n",
            " conv2d_14 (Conv2D)          (None, 2, 5, 128)         49280     \n",
            "                                                                 \n",
            " batch_normalization_14 (Bat  (None, 2, 5, 128)        512       \n",
            " chNormalization)                                                \n",
            "                                                                 \n",
            " activation_14 (Activation)  (None, 2, 5, 128)         0         \n",
            "                                                                 \n",
            " global_max_pooling2d_3 (Glo  (None, 128)              0         \n",
            " balMaxPooling2D)                                                \n",
            "                                                                 \n",
            "=================================================================\n",
            "Total params: 94,560\n",
            "Trainable params: 93,920\n",
            "Non-trainable params: 640\n",
            "_________________________________________________________________\n"
          ]
        }
      ],
      "source": [
        "mfcc_input=keras.layers.Input(shape=(20,259,1),name=\"mfccInput\")\n",
        "x=keras.layers.Conv2D(32,5,strides=(1,3),padding='same')(mfcc_input)\n",
        "x=keras.layers.BatchNormalization()(x)\n",
        "x=keras.layers.Activation(keras.activations.relu)(x)\n",
        "x=keras.layers.MaxPooling2D(pool_size=2,padding='valid')(x)\n",
        "\n",
        "x=keras.layers.Conv2D(64,3,strides=(1,2),padding='same')(x)\n",
        "x=keras.layers.BatchNormalization()(x)\n",
        "x=keras.layers.Activation(keras.activations.relu)(x)\n",
        "x=keras.layers.MaxPooling2D(pool_size=2,padding='valid')(x)\n",
        "\n",
        "x=keras.layers.Conv2D(96,2,padding='same')(x)\n",
        "x=keras.layers.BatchNormalization()(x)\n",
        "x=keras.layers.Activation(keras.activations.relu)(x)\n",
        "x=keras.layers.MaxPooling2D(pool_size=2,padding='valid')(x)\n",
        "\n",
        "x=keras.layers.Conv2D(128,2,padding='same')(x)\n",
        "x=keras.layers.BatchNormalization()(x)\n",
        "x=keras.layers.Activation(keras.activations.relu)(x)\n",
        "mfcc_output=keras.layers.GlobalMaxPooling2D()(x)\n",
        "\n",
        "mfcc_model=keras.Model(mfcc_input, mfcc_output, name=\"mfccModel\")\n",
        "mfcc_model.summary()"
      ]
    },
    {
      "cell_type": "code",
      "execution_count": null,
      "metadata": {
        "colab": {
          "base_uri": "https://localhost:8080/"
        },
        "id": "ZzuXvSNDDSOW",
        "outputId": "268141c9-40e9-4071-d909-6859ace874e2"
      },
      "outputs": [
        {
          "name": "stdout",
          "output_type": "stream",
          "text": [
            "Model: \"cromaModel\"\n",
            "_________________________________________________________________\n",
            " Layer (type)                Output Shape              Param #   \n",
            "=================================================================\n",
            " cromaInput (InputLayer)     [(None, 12, 259, 1)]      0         \n",
            "                                                                 \n",
            " conv2d_15 (Conv2D)          (None, 12, 87, 32)        832       \n",
            "                                                                 \n",
            " batch_normalization_15 (Bat  (None, 12, 87, 32)       128       \n",
            " chNormalization)                                                \n",
            "                                                                 \n",
            " activation_15 (Activation)  (None, 12, 87, 32)        0         \n",
            "                                                                 \n",
            " max_pooling2d_11 (MaxPoolin  (None, 6, 43, 32)        0         \n",
            " g2D)                                                            \n",
            "                                                                 \n",
            " conv2d_16 (Conv2D)          (None, 6, 22, 64)         18496     \n",
            "                                                                 \n",
            " batch_normalization_16 (Bat  (None, 6, 22, 64)        256       \n",
            " chNormalization)                                                \n",
            "                                                                 \n",
            " activation_16 (Activation)  (None, 6, 22, 64)         0         \n",
            "                                                                 \n",
            " max_pooling2d_12 (MaxPoolin  (None, 3, 11, 64)        0         \n",
            " g2D)                                                            \n",
            "                                                                 \n",
            " conv2d_17 (Conv2D)          (None, 3, 11, 128)        32896     \n",
            "                                                                 \n",
            " batch_normalization_17 (Bat  (None, 3, 11, 128)       512       \n",
            " chNormalization)                                                \n",
            "                                                                 \n",
            " activation_17 (Activation)  (None, 3, 11, 128)        0         \n",
            "                                                                 \n",
            " global_max_pooling2d_4 (Glo  (None, 128)              0         \n",
            " balMaxPooling2D)                                                \n",
            "                                                                 \n",
            "=================================================================\n",
            "Total params: 53,120\n",
            "Trainable params: 52,672\n",
            "Non-trainable params: 448\n",
            "_________________________________________________________________\n"
          ]
        }
      ],
      "source": [
        "croma_input=keras.layers.Input(shape=(12,259,1),name=\"cromaInput\")\n",
        "x=keras.layers.Conv2D(32,5,strides=(1,3),padding='same')(croma_input)\n",
        "x=keras.layers.BatchNormalization()(x)\n",
        "x=keras.layers.Activation(keras.activations.relu)(x)\n",
        "x=keras.layers.MaxPooling2D(pool_size=2,padding='valid')(x)\n",
        "\n",
        "x=keras.layers.Conv2D(64,3,strides=(1,2),padding='same')(x)\n",
        "x=keras.layers.BatchNormalization()(x)\n",
        "x=keras.layers.Activation(keras.activations.relu)(x)\n",
        "x=keras.layers.MaxPooling2D(pool_size=2,padding='valid')(x)\n",
        "\n",
        "x=keras.layers.Conv2D(128,2,padding='same')(x)\n",
        "x=keras.layers.BatchNormalization()(x)\n",
        "x=keras.layers.Activation(keras.activations.relu)(x)\n",
        "croma_output=keras.layers.GlobalMaxPooling2D()(x)\n",
        "\n",
        "croma_model=keras.Model(croma_input, croma_output, name=\"cromaModel\")\n",
        "croma_model.summary()"
      ]
    },
    {
      "cell_type": "code",
      "execution_count": null,
      "metadata": {
        "colab": {
          "base_uri": "https://localhost:8080/"
        },
        "id": "KGCVQq6XDSOW",
        "outputId": "5eadaba3-bc84-4ebc-ebd7-c9cd9f314b8e"
      },
      "outputs": [
        {
          "name": "stdout",
          "output_type": "stream",
          "text": [
            "Model: \"mSpecModel\"\n",
            "_________________________________________________________________\n",
            " Layer (type)                Output Shape              Param #   \n",
            "=================================================================\n",
            " mSpecInput (InputLayer)     [(None, 128, 259, 1)]     0         \n",
            "                                                                 \n",
            " conv2d_18 (Conv2D)          (None, 64, 87, 32)        832       \n",
            "                                                                 \n",
            " batch_normalization_18 (Bat  (None, 64, 87, 32)       128       \n",
            " chNormalization)                                                \n",
            "                                                                 \n",
            " activation_18 (Activation)  (None, 64, 87, 32)        0         \n",
            "                                                                 \n",
            " max_pooling2d_13 (MaxPoolin  (None, 32, 43, 32)       0         \n",
            " g2D)                                                            \n",
            "                                                                 \n",
            " conv2d_19 (Conv2D)          (None, 16, 22, 64)        18496     \n",
            "                                                                 \n",
            " batch_normalization_19 (Bat  (None, 16, 22, 64)       256       \n",
            " chNormalization)                                                \n",
            "                                                                 \n",
            " activation_19 (Activation)  (None, 16, 22, 64)        0         \n",
            "                                                                 \n",
            " max_pooling2d_14 (MaxPoolin  (None, 8, 11, 64)        0         \n",
            " g2D)                                                            \n",
            "                                                                 \n",
            " conv2d_20 (Conv2D)          (None, 8, 11, 96)         24672     \n",
            "                                                                 \n",
            " batch_normalization_20 (Bat  (None, 8, 11, 96)        384       \n",
            " chNormalization)                                                \n",
            "                                                                 \n",
            " activation_20 (Activation)  (None, 8, 11, 96)         0         \n",
            "                                                                 \n",
            " max_pooling2d_15 (MaxPoolin  (None, 4, 5, 96)         0         \n",
            " g2D)                                                            \n",
            "                                                                 \n",
            " conv2d_21 (Conv2D)          (None, 4, 5, 128)         49280     \n",
            "                                                                 \n",
            " batch_normalization_21 (Bat  (None, 4, 5, 128)        512       \n",
            " chNormalization)                                                \n",
            "                                                                 \n",
            " activation_21 (Activation)  (None, 4, 5, 128)         0         \n",
            "                                                                 \n",
            " global_max_pooling2d_5 (Glo  (None, 128)              0         \n",
            " balMaxPooling2D)                                                \n",
            "                                                                 \n",
            "=================================================================\n",
            "Total params: 94,560\n",
            "Trainable params: 93,920\n",
            "Non-trainable params: 640\n",
            "_________________________________________________________________\n"
          ]
        }
      ],
      "source": [
        "mSpec_input=keras.layers.Input(shape=(128,259,1),name=\"mSpecInput\")\n",
        "x=keras.layers.Conv2D(32,5,strides=(2,3),padding='same')(mSpec_input)\n",
        "x=keras.layers.BatchNormalization()(x)\n",
        "x=keras.layers.Activation(keras.activations.relu)(x)\n",
        "x=keras.layers.MaxPooling2D(pool_size=2,padding='valid')(x)\n",
        "\n",
        "x=keras.layers.Conv2D(64,3,strides=(2,2),padding='same')(x)\n",
        "x=keras.layers.BatchNormalization()(x)\n",
        "x=keras.layers.Activation(keras.activations.relu)(x)\n",
        "x=keras.layers.MaxPooling2D(pool_size=2,padding='valid')(x)\n",
        "\n",
        "x=keras.layers.Conv2D(96,2,padding='same')(x)\n",
        "x=keras.layers.BatchNormalization()(x)\n",
        "x=keras.layers.Activation(keras.activations.relu)(x)\n",
        "x=keras.layers.MaxPooling2D(pool_size=2,padding='valid')(x)\n",
        "\n",
        "x=keras.layers.Conv2D(128,2,padding='same')(x)\n",
        "x=keras.layers.BatchNormalization()(x)\n",
        "x=keras.layers.Activation(keras.activations.relu)(x)\n",
        "mSpec_output=keras.layers.GlobalMaxPooling2D()(x)\n",
        "\n",
        "mSpec_model=keras.Model(mSpec_input, mSpec_output, name=\"mSpecModel\")\n",
        "mSpec_model.summary()"
      ]
    },
    {
      "cell_type": "code",
      "execution_count": null,
      "metadata": {
        "colab": {
          "base_uri": "https://localhost:8080/"
        },
        "id": "jI4ksPGTDSOW",
        "outputId": "7dc65264-f24f-4020-918d-8e26e8c7ee8e"
      },
      "outputs": [
        {
          "name": "stdout",
          "output_type": "stream",
          "text": [
            "Model: \"Net\"\n",
            "__________________________________________________________________________________________________\n",
            " Layer (type)                   Output Shape         Param #     Connected to                     \n",
            "==================================================================================================\n",
            " mfcc (InputLayer)              [(None, 20, 259, 1)  0           []                               \n",
            "                                ]                                                                 \n",
            "                                                                                                  \n",
            " croma (InputLayer)             [(None, 12, 259, 1)  0           []                               \n",
            "                                ]                                                                 \n",
            "                                                                                                  \n",
            " mspec (InputLayer)             [(None, 128, 259, 1  0           []                               \n",
            "                                )]                                                                \n",
            "                                                                                                  \n",
            " mfccModel (Functional)         (None, 128)          94560       ['mfcc[0][0]']                   \n",
            "                                                                                                  \n",
            " cromaModel (Functional)        (None, 128)          53120       ['croma[0][0]']                  \n",
            "                                                                                                  \n",
            " mSpecModel (Functional)        (None, 128)          94560       ['mspec[0][0]']                  \n",
            "                                                                                                  \n",
            " concatenate_1 (Concatenate)    (None, 384)          0           ['mfccModel[0][0]',              \n",
            "                                                                  'cromaModel[0][0]',             \n",
            "                                                                  'mSpecModel[0][0]']             \n",
            "                                                                                                  \n",
            " dense_3 (Dense)                (None, 50)           19250       ['concatenate_1[0][0]']          \n",
            "                                                                                                  \n",
            " dropout_4 (Dropout)            (None, 50)           0           ['dense_3[0][0]']                \n",
            "                                                                                                  \n",
            " dense_4 (Dense)                (None, 25)           1275        ['dropout_4[0][0]']              \n",
            "                                                                                                  \n",
            " dropout_5 (Dropout)            (None, 25)           0           ['dense_4[0][0]']                \n",
            "                                                                                                  \n",
            " dense_5 (Dense)                (None, 2)            52          ['dropout_5[0][0]']              \n",
            "                                                                                                  \n",
            "==================================================================================================\n",
            "Total params: 262,817\n",
            "Trainable params: 261,089\n",
            "Non-trainable params: 1,728\n",
            "__________________________________________________________________________________________________\n"
          ]
        }
      ],
      "source": [
        "input_mfcc=keras.layers.Input(shape=(20,259,1),name=\"mfcc\")\n",
        "mfcc=mfcc_model(input_mfcc)\n",
        "\n",
        "input_croma=keras.layers.Input(shape=(12,259,1),name=\"croma\")\n",
        "croma=croma_model(input_croma)\n",
        "\n",
        "input_mSpec=keras.layers.Input(shape=(128,259,1),name=\"mspec\")\n",
        "mSpec=mSpec_model(input_mSpec)\n",
        "\n",
        "\n",
        "concat=keras.layers.concatenate([mfcc,croma,mSpec])\n",
        "hidden=keras.layers.Dropout(0.2)(concat)\n",
        "hidden=keras.layers.Dense(50,activation='relu')(concat)\n",
        "hidden=keras.layers.Dropout(0.3)(hidden)\n",
        "hidden=keras.layers.Dense(25,activation='relu')(hidden)\n",
        "hidden=keras.layers.Dropout(0.3)(hidden)\n",
        "output=keras.layers.Dense(2,activation='softmax')(hidden)\n",
        "\n",
        "net=keras.Model([input_mfcc,input_croma,input_mSpec], output, name=\"Net\")\n",
        "net.summary()"
      ]
    },
    {
      "cell_type": "code",
      "execution_count": null,
      "metadata": {
        "id": "kPcmagckDSOW"
      },
      "outputs": [],
      "source": [
        "from keras import backend as K\n",
        "net.compile(loss='sparse_categorical_crossentropy', optimizer='nadam', metrics=['accuracy'])\n",
        "K.set_value(net.optimizer.learning_rate, 0.001)"
      ]
    },
    {
      "cell_type": "code",
      "execution_count": null,
      "metadata": {
        "colab": {
          "base_uri": "https://localhost:8080/"
        },
        "id": "0xwdJrxjDSOW",
        "outputId": "db3c7b33-640c-4ebd-cf1b-de56beaf1da7"
      },
      "outputs": [
        {
          "data": {
            "text/plain": [
              "True"
            ]
          },
          "execution_count": 72,
          "metadata": {},
          "output_type": "execute_result"
        }
      ],
      "source": [
        "np.logical_and( (mfcc_y_train==cstft_y_train).all(), (cstft_y_train==chroma_y_train).all() )"
      ]
    },
    {
      "cell_type": "code",
      "execution_count": null,
      "metadata": {
        "colab": {
          "base_uri": "https://localhost:8080/"
        },
        "id": "CUZQC6BFDSOW",
        "outputId": "19fe7d36-d96a-46bf-d978-53f13a1f18c9"
      },
      "outputs": [
        {
          "data": {
            "text/plain": [
              "True"
            ]
          },
          "execution_count": 73,
          "metadata": {},
          "output_type": "execute_result"
        }
      ],
      "source": [
        "np.logical_and( (mfcc_y_test==cstft_y_test).all(), (cstft_y_test==chroma_y_test).all() )"
      ]
    },
    {
      "cell_type": "code",
      "execution_count": null,
      "metadata": {
        "id": "d1Kz0d_ADSOW"
      },
      "outputs": [],
      "source": [
        "my_callbacks = [\n",
        "    tf.keras.callbacks.EarlyStopping(patience=5),\n",
        "    tf.keras.callbacks.ReduceLROnPlateau(monitor='val_loss', factor=0.1,\n",
        "                              patience=3, min_lr=0.00001,mode='min')\n",
        "]\n",
        "\n",
        "history=net.fit(\n",
        "    {\"mfcc\":mfcc_X_train,\"croma\":cstft_X_train,\"mspec\":chroma_X_train},\n",
        "    mfcc_y_train,\n",
        "    validation_data=({\"mfcc\":mfcc_X_test,\"croma\":cstft_X_test,\"mspec\":chroma_X_test},mfcc_y_test),\n",
        "    epochs=100,verbose=0,\n",
        "    callbacks=my_callbacks\n",
        ")"
      ]
    },
    {
      "cell_type": "code",
      "execution_count": null,
      "metadata": {
        "id": "u_dRGOHXDSOW"
      },
      "outputs": [],
      "source": [
        "net.save(\"/content/drive/MyDrive/Tugas Akhir/DATA + DESCRIPTION/Sound Database/MODELS/3type_binary_60-40.hdf5\")"
      ]
    },
    {
      "cell_type": "markdown",
      "metadata": {
        "id": "wXdZXp4qDSOW"
      },
      "source": [
        "#### Model Evaluation"
      ]
    },
    {
      "cell_type": "code",
      "execution_count": null,
      "metadata": {
        "colab": {
          "base_uri": "https://localhost:8080/",
          "height": 265
        },
        "id": "iKjT6SFtDSOW",
        "outputId": "0ce8169e-e59e-4a47-f82b-44b80a596ae4"
      },
      "outputs": [
        {
          "data": {
            "image/png": "[encoded data removed]",
            "text/plain": [
              "<Figure size 432x288 with 1 Axes>"
            ]
          },
          "metadata": {},
          "output_type": "display_data"
        }
      ],
      "source": [
        "pd.DataFrame(history.history).plot()\n",
        "plt.grid(True)\n",
        "plt.gca().set_ylim(-0.1,1.1)\n",
        "plt.show()"
      ]
    },
    {
      "cell_type": "code",
      "execution_count": null,
      "metadata": {
        "colab": {
          "base_uri": "https://localhost:8080/",
          "height": 475
        },
        "id": "Sy-08gO4DSOX",
        "outputId": "6422653d-5b07-4afb-b677-af7eebd33479"
      },
      "outputs": [
        {
          "name": "stdout",
          "output_type": "stream",
          "text": [
            "26/26 [==============================] - 5s 178ms/step\n",
            "              precision    recall  f1-score   support\n",
            "\n",
            "    non-COPD       0.45      0.29      0.35       248\n",
            "        COPD       0.73      0.84      0.78       558\n",
            "\n",
            "    accuracy                           0.67       806\n",
            "   macro avg       0.59      0.57      0.57       806\n",
            "weighted avg       0.64      0.67      0.65       806\n",
            "\n"
          ]
        },
        {
          "data": {
            "text/plain": [
              "<sklearn.metrics._plot.confusion_matrix.ConfusionMatrixDisplay at 0x7fa111e5e950>"
            ]
          },
          "execution_count": 94,
          "metadata": {},
          "output_type": "execute_result"
        },
        {
          "data": {
            "image/png": "[encoded data removed]",
            "text/plain": [
              "<Figure size 432x288 with 2 Axes>"
            ]
          },
          "metadata": {},
          "output_type": "display_data"
        }
      ],
      "source": [
        "'''\n",
        "70 (COPD) - 30 (non-COPD)\n",
        "'''\n",
        "eq_y = pd.Series(mfcc_y_test)\n",
        "eq_y_0 = eq_y[eq_y == 0]  #non-COPD\n",
        "eq_y_0 = eq_y_0.sample(round(len(eq_y_0) * 0.63))\n",
        "eq_y_1 = eq_y[eq_y == 1] #COPD\n",
        "eq_y = pd.concat((eq_y_0, eq_y_1)).sort_index()\n",
        "eq_mfcc, eq_cstft, eq_chroma = mfcc_X_test[eq_y.index], cstft_X_test[eq_y.index], chroma_X_test[eq_y.index]\n",
        "\n",
        "'''\n",
        "Load Model and Predict the Test Data on Training Table on Imbalanced Data\n",
        "'''\n",
        "#Disable warnings\n",
        "logging.disable(logging.WARNING)\n",
        "os.environ[\"TF_CPP_MIN_LOG_LEVEL\"] = \"3\"\n",
        "\n",
        "directory = \"/content/drive/MyDrive/Tugas Akhir/DATA + DESCRIPTION/Sound Database/MODELS/\"\n",
        "best_model_file = \"3type_binary_balanced.hdf5\"\n",
        "\n",
        "model = keras.models.load_model(directory+best_model_file)\n",
        "\n",
        "y_pred_weights = model.predict({\"mfcc\": eq_mfcc,\"croma\":eq_cstft,\"mspec\": eq_chroma}) #chroma harusny amspec\n",
        "y_pred_label = np.argmax(y_pred_weights, axis=-1)\n",
        "y_true = eq_y\n",
        "\n",
        "target_names = ['non-COPD', 'COPD']\n",
        "print(classification_report(y_true, y_pred_label, target_names=target_names))\n",
        "\n",
        "'''\n",
        "Confusion matrix\n",
        "'''\n",
        "cm = confusion_matrix(y_true, y_pred_label)\n",
        "disp = ConfusionMatrixDisplay(confusion_matrix = cm, display_labels = [\"non-COPD\", \"COPD\"])\n",
        "disp.plot()"
      ]
    },
    {
      "cell_type": "code",
      "execution_count": null,
      "metadata": {
        "colab": {
          "base_uri": "https://localhost:8080/",
          "height": 475
        },
        "id": "zdoQn7wHDSOX",
        "outputId": "5a1a7217-3921-4f27-dbf8-bd56f0b28070"
      },
      "outputs": [
        {
          "name": "stdout",
          "output_type": "stream",
          "text": [
            "30/30 [==============================] - 5s 164ms/step\n",
            "              precision    recall  f1-score   support\n",
            "\n",
            "    non-COPD       0.54      0.27      0.36       393\n",
            "        COPD       0.62      0.84      0.71       558\n",
            "\n",
            "    accuracy                           0.60       951\n",
            "   macro avg       0.58      0.55      0.54       951\n",
            "weighted avg       0.59      0.60      0.57       951\n",
            "\n"
          ]
        },
        {
          "data": {
            "text/plain": [
              "<sklearn.metrics._plot.confusion_matrix.ConfusionMatrixDisplay at 0x7fa1129f4d90>"
            ]
          },
          "execution_count": 97,
          "metadata": {},
          "output_type": "execute_result"
        },
        {
          "data": {
            "image/png": "[encoded data removed]",
            "text/plain": [
              "<Figure size 432x288 with 2 Axes>"
            ]
          },
          "metadata": {},
          "output_type": "display_data"
        }
      ],
      "source": [
        "'''\n",
        "60 (COPD) - 40 (non-COPD)\n",
        "'''\n",
        "eq_y = pd.Series(mfcc_y_test)\n",
        "eq_y_0 = eq_y[eq_y == 0] #non-COPD\n",
        "eq_y_1 = eq_y[eq_y == 1]#.sample(round(len(eq_y_0) * 2),random_state = 42) #COPD\n",
        "eq_y = pd.concat((eq_y_0, eq_y_1)).sort_index()\n",
        "eq_mfcc, eq_cstft, eq_chroma = mfcc_X_test[eq_y.index], cstft_X_test[eq_y.index], chroma_X_test[eq_y.index]\n",
        "\n",
        "'''\n",
        "Load Model and Predict the Test Data on Training Table on Imbalanced Data\n",
        "'''\n",
        "#Disable warnings\n",
        "logging.disable(logging.WARNING)\n",
        "os.environ[\"TF_CPP_MIN_LOG_LEVEL\"] = \"3\"\n",
        "\n",
        "directory = \"/content/drive/MyDrive/Tugas Akhir/DATA + DESCRIPTION/Sound Database/MODELS/\"\n",
        "best_model_file = \"3type_binary_balanced.hdf5\"\n",
        "\n",
        "model = keras.models.load_model(directory+best_model_file)\n",
        "\n",
        "y_pred_weights = model.predict({\"mfcc\": eq_mfcc,\"croma\":eq_cstft,\"mspec\": eq_chroma}) #chroma harusny amspec\n",
        "y_pred_label = np.argmax(y_pred_weights, axis=-1)\n",
        "y_true = eq_y\n",
        "\n",
        "target_names = ['non-COPD', 'COPD']\n",
        "print(classification_report(y_true, y_pred_label, target_names=target_names))\n",
        "\n",
        "'''\n",
        "Confusion matrix\n",
        "'''\n",
        "cm = confusion_matrix(y_true, y_pred_label)\n",
        "disp = ConfusionMatrixDisplay(confusion_matrix = cm, display_labels = [\"non-COPD\", \"COPD\"])\n",
        "disp.plot()"
      ]
    },
    {
      "cell_type": "code",
      "execution_count": null,
      "metadata": {
        "colab": {
          "base_uri": "https://localhost:8080/",
          "height": 475
        },
        "id": "-3WIt39xDSOX",
        "outputId": "062194c3-78c6-4a6e-ec8d-4615a2640f04"
      },
      "outputs": [
        {
          "name": "stdout",
          "output_type": "stream",
          "text": [
            "25/25 [==============================] - 4s 108ms/step\n",
            "              precision    recall  f1-score   support\n",
            "\n",
            "    non-COPD       0.66      0.27      0.38       393\n",
            "        COPD       0.54      0.86      0.66       393\n",
            "\n",
            "    accuracy                           0.56       786\n",
            "   macro avg       0.60      0.56      0.52       786\n",
            "weighted avg       0.60      0.56      0.52       786\n",
            "\n"
          ]
        },
        {
          "data": {
            "text/plain": [
              "<sklearn.metrics._plot.confusion_matrix.ConfusionMatrixDisplay at 0x7fa111ac85d0>"
            ]
          },
          "execution_count": 98,
          "metadata": {},
          "output_type": "execute_result"
        },
        {
          "data": {
            "image/png": "[encoded data removed]",
            "text/plain": [
              "<Figure size 432x288 with 2 Axes>"
            ]
          },
          "metadata": {},
          "output_type": "display_data"
        }
      ],
      "source": [
        "'''\n",
        "50 (COPD) - 50 (non-COPD)\n",
        "'''\n",
        "eq_y = pd.Series(mfcc_y_test)\n",
        "eq_y_0 = eq_y[eq_y == 0] #non-COPD\n",
        "eq_y_1 = eq_y[eq_y == 1].sample(round(len(eq_y_0)),random_state = 42) #COPD\n",
        "eq_y = pd.concat((eq_y_0, eq_y_1)).sort_index()\n",
        "eq_mfcc, eq_cstft, eq_chroma = mfcc_X_test[eq_y.index], cstft_X_test[eq_y.index], chroma_X_test[eq_y.index]\n",
        "\n",
        "'''\n",
        "Load Model and Predict the Test Data on Training Table on Imbalanced Data\n",
        "'''\n",
        "#Disable warnings\n",
        "logging.disable(logging.WARNING)\n",
        "os.environ[\"TF_CPP_MIN_LOG_LEVEL\"] = \"3\"\n",
        "\n",
        "directory = \"/content/drive/MyDrive/Tugas Akhir/DATA + DESCRIPTION/Sound Database/MODELS/\"\n",
        "best_model_file = \"3type_binary_balanced.hdf5\"\n",
        "\n",
        "model = keras.models.load_model(directory+best_model_file)\n",
        "\n",
        "y_pred_weights = model.predict({\"mfcc\": eq_mfcc,\"croma\":eq_cstft,\"mspec\": eq_chroma}) #chroma harusny amspec\n",
        "y_pred_label = np.argmax(y_pred_weights, axis=-1)\n",
        "y_true = eq_y\n",
        "\n",
        "target_names = ['non-COPD', 'COPD']\n",
        "print(classification_report(y_true, y_pred_label, target_names=target_names))\n",
        "\n",
        "'''\n",
        "Confusion matrix\n",
        "'''\n",
        "cm = confusion_matrix(y_true, y_pred_label)\n",
        "disp = ConfusionMatrixDisplay(confusion_matrix = cm, display_labels = [\"non-COPD\", \"COPD\"])\n",
        "disp.plot()"
      ]
    },
    {
      "cell_type": "code",
      "execution_count": null,
      "metadata": {
        "id": "98_3dPwdDSOY"
      },
      "outputs": [],
      "source": []
    },
    {
      "cell_type": "markdown",
      "metadata": {
        "id": "v5UY-ZMhqiku"
      },
      "source": [
        "# Other Model Test"
      ]
    },
    {
      "cell_type": "code",
      "execution_count": null,
      "metadata": {
        "id": "4LJCBSCVqnUf"
      },
      "outputs": [],
      "source": [
        "'''\n",
        "Load Model and Predict the Test Data on Training Table\n",
        "'''\n",
        "#Disable warnings\n",
        "logging.disable(logging.WARNING)\n",
        "os.environ[\"TF_CPP_MIN_LOG_LEVEL\"] = \"3\"\n",
        "\n",
        "directory = \"/content/drive/MyDrive/Tugas Akhir/DATA + DESCRIPTION/Sound Database/MODELS/\"\n",
        "best_model_file = \"binary_classification_all.epoch45-loss0.69.hdf5\"\n",
        "\n",
        "model = keras.models.load_model(directory+best_model_file)"
      ]
    },
    {
      "cell_type": "code",
      "source": [
        "eq_df_1 = df[df[\"binary_diag\"] == \"non-COPD\"]\n",
        "eq_df_2 = df[df[\"binary_diag\"] == \"COPD\"]#.sample(len(eq_df_1),random_state = 42)\n",
        "eq_df = pd.concat((eq_df_1, eq_df_2))\n",
        "eq_df[\"binary_diag\"].value_counts()"
      ],
      "metadata": {
        "colab": {
          "base_uri": "https://localhost:8080/"
        },
        "id": "rlK9YTY051M4",
        "outputId": "d61d52fd-b44a-4a60-98e8-da89778f938d"
      },
      "execution_count": null,
      "outputs": [
        {
          "output_type": "execute_result",
          "data": {
            "text/plain": [
              "COPD        3486\n",
              "non-COPD     713\n",
              "Name: binary_diag, dtype: int64"
            ]
          },
          "metadata": {},
          "execution_count": 38
        }
      ]
    },
    {
      "cell_type": "code",
      "source": [
        "'''\n",
        "MFCC\n",
        "'''\n",
        "#Feature\n",
        "mfcc_X = np.array(eq_df[\"mfcc\"].apply(lambda row : tf.convert_to_tensor(np.array(row), dtype=float)).to_list())\n",
        "\n",
        "#Target\n",
        "binary_diag_dict = {'non-COPD': 0, 'COPD': 1} #mapping dictionary\n",
        "mfcc_y = np.array(eq_df[\"binary_diag\"].map(binary_diag_dict).to_list())\n",
        "\n",
        "#Train-Test Split, use stratify to handle imbalanced data on the dataset\n",
        "mfcc_X_train, mfcc_X_test, mfcc_y_train, mfcc_y_test = train_test_split(mfcc_X, mfcc_y, test_size = 0.2, random_state = 42)"
      ],
      "metadata": {
        "id": "q18GJCk_5tKs"
      },
      "execution_count": null,
      "outputs": []
    },
    {
      "cell_type": "code",
      "source": [
        "'''\n",
        "50 (COPD) - 50 (non-COPD)\n",
        "'''\n",
        "eq_y = pd.Series(mfcc_y_test)\n",
        "eq_y_0 = eq_y[eq_y == 0] #non-COPD\n",
        "eq_y_1 = eq_y[eq_y == 1].sample(round(len(eq_y_0)*1.5),random_state = 42) #COPD\n",
        "eq_y = pd.concat((eq_y_0, eq_y_1)).sort_index()\n",
        "eq_mfcc = mfcc_X_test[eq_y.index]"
      ],
      "metadata": {
        "id": "JGpf2fyz0MBs"
      },
      "execution_count": null,
      "outputs": []
    },
    {
      "cell_type": "code",
      "source": [
        "eq_y.value_counts() / len(eq_y)"
      ],
      "metadata": {
        "colab": {
          "base_uri": "https://localhost:8080/"
        },
        "id": "3RwKa8tf6YId",
        "outputId": "faed61dc-0ed5-41f6-a94d-30fe0c0557ea"
      },
      "execution_count": null,
      "outputs": [
        {
          "output_type": "execute_result",
          "data": {
            "text/plain": [
              "1    0.600484\n",
              "0    0.399516\n",
              "dtype: float64"
            ]
          },
          "metadata": {},
          "execution_count": 41
        }
      ]
    },
    {
      "cell_type": "code",
      "execution_count": null,
      "metadata": {
        "id": "h1jBraP6rM4A",
        "colab": {
          "base_uri": "https://localhost:8080/"
        },
        "outputId": "49ec6994-67d7-4a79-df2b-bcc4b1ca255f"
      },
      "outputs": [
        {
          "output_type": "stream",
          "name": "stdout",
          "text": [
            "27/27 [==============================] - 1s 28ms/step\n",
            "              precision    recall  f1-score   support\n",
            "\n",
            "    non-COPD       0.21      0.79      0.33       165\n",
            "        COPD       0.84      0.26      0.40       675\n",
            "\n",
            "    accuracy                           0.37       840\n",
            "   macro avg       0.52      0.53      0.36       840\n",
            "weighted avg       0.71      0.37      0.39       840\n",
            "\n"
          ]
        }
      ],
      "source": [
        "y_pred_weights = model.predict(mfcc_X_test)\n",
        "y_pred_label = np.argmax(y_pred_weights, axis=-1)\n",
        "y_true = mfcc_y_test\n",
        "\n",
        "target_names = ['non-COPD', 'COPD']\n",
        "print(classification_report(y_true, y_pred_label, target_names=target_names))"
      ]
    },
    {
      "cell_type": "code",
      "source": [],
      "metadata": {
        "id": "oWhxQsJw6TbS"
      },
      "execution_count": null,
      "outputs": []
    }
  ],
  "metadata": {
    "colab": {
      "collapsed_sections": [
        "xvEyRC9JSbUe",
        "6nvMwi-uCSIx",
        "6oEQZD6NC1Vo",
        "V6hB9z-ke_Cs",
        "3Rl3-SZ6zHWA",
        "aywKWZZQliqt",
        "9-zsHIjWjR-6",
        "mMRb0HwP1nWv",
        "dlwC4X3wTkY8",
        "spFu6VyMqaE2",
        "nJF3ulqBqTVx",
        "RpC3kuXfH-En",
        "iF_-fRsiH-Gu",
        "vaOj2vWo3w7a",
        "HaNSuJ5-7u5s",
        "mWouNfKZzbM3",
        "vuXvgnFXHswR",
        "Z3nJ_TsjHx4c",
        "heamXcul38Io",
        "Ilg3PXUW4A1k",
        "nMKEzTYw-rAg",
        "htFVXUdm-rAp",
        "JLP44ypq-rAp",
        "e5xiDZGw-rAp",
        "1nFJG_dE-rAq",
        "_u1nKlXPDSOL",
        "I7RKdx31DSOV",
        "fwh460HLDSOV",
        "LtNpH7ZTDSOW",
        "wXdZXp4qDSOW",
        "v5UY-ZMhqiku"
      ],
      "provenance": []
    },
    "kernelspec": {
      "display_name": "Python 3",
      "language": "python",
      "name": "python3"
    },
    "language_info": {
      "codemirror_mode": {
        "name": "ipython",
        "version": 3
      },
      "file_extension": ".py",
      "mimetype": "text/x-python",
      "name": "python",
      "nbconvert_exporter": "python",
      "pygments_lexer": "ipython3",
      "version": "3.7.6"
    }
  },
  "nbformat": 4,
  "nbformat_minor": 0
}